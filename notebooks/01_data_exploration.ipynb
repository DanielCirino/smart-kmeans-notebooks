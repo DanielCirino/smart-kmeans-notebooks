{
 "cells": [
  {
   "cell_type": "markdown",
   "id": "4237d5f18d85f2e6",
   "metadata": {},
   "source": [
    "This notebook performs Exploratory Data Analysis (EDA) on the \"toledo_2010.xlsx\" dataset to understand the distribution of variables, identify possible anomalies and calculate the correlation between social exclusion indicators."
   ]
  },
  {
   "cell_type": "code",
   "execution_count": 1,
   "id": "86868c0c0a9db505",
   "metadata": {
    "ExecuteTime": {
     "end_time": "2025-08-31T23:09:33.853292Z",
     "start_time": "2025-08-31T23:09:33.813717Z"
    }
   },
   "outputs": [],
   "source": [
    "%run ../src/settings.py"
   ]
  },
  {
   "cell_type": "code",
   "execution_count": 2,
   "id": "e3713b4b296cbda1",
   "metadata": {
    "ExecuteTime": {
     "end_time": "2025-08-31T23:09:36.761527Z",
     "start_time": "2025-08-31T23:09:36.333110Z"
    }
   },
   "outputs": [],
   "source": [
    "import pandas as pd\n",
    "import plotly.express as px\n",
    "import seaborn as sns\n",
    "\n",
    "from src.clustering_utils import calculate_pca, calculate_shannon_entropy, \\\n",
    "  get_grouping_suggestions\n",
    "from src.settings import load_config"
   ]
  },
  {
   "cell_type": "code",
   "execution_count": 2,
   "id": "b7d09e5ba2c08eae",
   "metadata": {
    "ExecuteTime": {
     "end_time": "2025-08-31T23:00:27.191593Z",
     "start_time": "2025-08-31T23:00:27.186735Z"
    }
   },
   "outputs": [],
   "source": []
  },
  {
   "cell_type": "code",
   "execution_count": 3,
   "id": "3360474b0bb16338",
   "metadata": {
    "ExecuteTime": {
     "end_time": "2025-08-31T23:09:40.227353Z",
     "start_time": "2025-08-31T23:09:40.217892Z"
    }
   },
   "outputs": [],
   "source": [
    "config = load_config()\n",
    "sns.set_theme()"
   ]
  },
  {
   "cell_type": "markdown",
   "id": "f185aef97332ac8b",
   "metadata": {},
   "source": [
    "### Data Loading and Overview"
   ]
  },
  {
   "cell_type": "code",
   "execution_count": null,
   "id": "df6e71762ad25687",
   "metadata": {
    "ExecuteTime": {
     "end_time": "2025-08-31T23:00:27.643273Z",
     "start_time": "2025-08-31T23:00:27.218838Z"
    }
   },
   "outputs": [
    {
     "data": {
      "text/html": [
       "<div>\n",
       "<style scoped>\n",
       "    .dataframe tbody tr th:only-of-type {\n",
       "        vertical-align: middle;\n",
       "    }\n",
       "\n",
       "    .dataframe tbody tr th {\n",
       "        vertical-align: top;\n",
       "    }\n",
       "\n",
       "    .dataframe thead th {\n",
       "        text-align: right;\n",
       "    }\n",
       "</style>\n",
       "<table border=\"1\" class=\"dataframe\">\n",
       "  <thead>\n",
       "    <tr style=\"text-align: right;\">\n",
       "      <th></th>\n",
       "      <th>Cod_Setor</th>\n",
       "      <th>2010_VD1</th>\n",
       "      <th>2010_VD2</th>\n",
       "      <th>2010_VD3</th>\n",
       "      <th>2010_VD4</th>\n",
       "      <th>2010_VE1</th>\n",
       "      <th>2010_VE2</th>\n",
       "      <th>2010_VE3</th>\n",
       "      <th>2010_VED1</th>\n",
       "      <th>2010_VED2</th>\n",
       "      <th>2010_VH1</th>\n",
       "      <th>2010_VH2</th>\n",
       "      <th>2010_VH3</th>\n",
       "      <th>2010_VH4</th>\n",
       "      <th>2010_VH5</th>\n",
       "      <th>VA4_2010</th>\n",
       "      <th>RendaMedia</th>\n",
       "    </tr>\n",
       "  </thead>\n",
       "  <tbody>\n",
       "    <tr>\n",
       "      <th>0</th>\n",
       "      <td>411520005010001</td>\n",
       "      <td>0.723636</td>\n",
       "      <td>0.923523</td>\n",
       "      <td>0.568170</td>\n",
       "      <td>0.774691</td>\n",
       "      <td>0.836859</td>\n",
       "      <td>0.153226</td>\n",
       "      <td>0.888877</td>\n",
       "      <td>1.000000</td>\n",
       "      <td>0.9856</td>\n",
       "      <td>1.000000</td>\n",
       "      <td>0.024468</td>\n",
       "      <td>1.0000</td>\n",
       "      <td>1.000000</td>\n",
       "      <td>0.572691</td>\n",
       "      <td>0.190181</td>\n",
       "      <td>4800.240000</td>\n",
       "    </tr>\n",
       "    <tr>\n",
       "      <th>1</th>\n",
       "      <td>411520005010002</td>\n",
       "      <td>0.669091</td>\n",
       "      <td>0.947785</td>\n",
       "      <td>0.659827</td>\n",
       "      <td>0.805556</td>\n",
       "      <td>0.910891</td>\n",
       "      <td>0.291475</td>\n",
       "      <td>0.891996</td>\n",
       "      <td>1.000000</td>\n",
       "      <td>0.9868</td>\n",
       "      <td>1.000000</td>\n",
       "      <td>0.257003</td>\n",
       "      <td>1.0000</td>\n",
       "      <td>0.588340</td>\n",
       "      <td>0.550909</td>\n",
       "      <td>0.060300</td>\n",
       "      <td>5965.110000</td>\n",
       "    </tr>\n",
       "    <tr>\n",
       "      <th>2</th>\n",
       "      <td>411520005010003</td>\n",
       "      <td>0.607273</td>\n",
       "      <td>0.948840</td>\n",
       "      <td>0.617171</td>\n",
       "      <td>0.811728</td>\n",
       "      <td>0.877588</td>\n",
       "      <td>0.387865</td>\n",
       "      <td>0.936590</td>\n",
       "      <td>1.000000</td>\n",
       "      <td>0.9688</td>\n",
       "      <td>1.000000</td>\n",
       "      <td>0.239116</td>\n",
       "      <td>1.0000</td>\n",
       "      <td>0.833664</td>\n",
       "      <td>0.645631</td>\n",
       "      <td>0.009710</td>\n",
       "      <td>4789.690000</td>\n",
       "    </tr>\n",
       "    <tr>\n",
       "      <th>3</th>\n",
       "      <td>411520005010004</td>\n",
       "      <td>0.567273</td>\n",
       "      <td>0.962553</td>\n",
       "      <td>0.571139</td>\n",
       "      <td>0.753086</td>\n",
       "      <td>0.928218</td>\n",
       "      <td>0.599078</td>\n",
       "      <td>0.910499</td>\n",
       "      <td>0.722431</td>\n",
       "      <td>0.9716</td>\n",
       "      <td>1.000000</td>\n",
       "      <td>0.107661</td>\n",
       "      <td>1.0000</td>\n",
       "      <td>0.070003</td>\n",
       "      <td>0.692930</td>\n",
       "      <td>0.148177</td>\n",
       "      <td>8623.780000</td>\n",
       "    </tr>\n",
       "    <tr>\n",
       "      <th>4</th>\n",
       "      <td>411520005010005</td>\n",
       "      <td>0.534545</td>\n",
       "      <td>0.979430</td>\n",
       "      <td>0.689390</td>\n",
       "      <td>0.780864</td>\n",
       "      <td>0.920567</td>\n",
       "      <td>0.361367</td>\n",
       "      <td>0.966112</td>\n",
       "      <td>1.000000</td>\n",
       "      <td>0.9844</td>\n",
       "      <td>1.000000</td>\n",
       "      <td>0.086061</td>\n",
       "      <td>0.9961</td>\n",
       "      <td>0.201024</td>\n",
       "      <td>0.700398</td>\n",
       "      <td>0.161849</td>\n",
       "      <td>8165.580000</td>\n",
       "    </tr>\n",
       "    <tr>\n",
       "      <th>...</th>\n",
       "      <td>...</td>\n",
       "      <td>...</td>\n",
       "      <td>...</td>\n",
       "      <td>...</td>\n",
       "      <td>...</td>\n",
       "      <td>...</td>\n",
       "      <td>...</td>\n",
       "      <td>...</td>\n",
       "      <td>...</td>\n",
       "      <td>...</td>\n",
       "      <td>...</td>\n",
       "      <td>...</td>\n",
       "      <td>...</td>\n",
       "      <td>...</td>\n",
       "      <td>...</td>\n",
       "      <td>...</td>\n",
       "      <td>...</td>\n",
       "    </tr>\n",
       "    <tr>\n",
       "      <th>478</th>\n",
       "      <td>412625605000066</td>\n",
       "      <td>0.352727</td>\n",
       "      <td>0.974684</td>\n",
       "      <td>0.641199</td>\n",
       "      <td>0.608025</td>\n",
       "      <td>0.853285</td>\n",
       "      <td>0.009217</td>\n",
       "      <td>0.331393</td>\n",
       "      <td>0.929482</td>\n",
       "      <td>0.7972</td>\n",
       "      <td>1.000000</td>\n",
       "      <td>0.004050</td>\n",
       "      <td>0.0338</td>\n",
       "      <td>1.000000</td>\n",
       "      <td>0.646378</td>\n",
       "      <td>0.462668</td>\n",
       "      <td>0.576274</td>\n",
       "    </tr>\n",
       "    <tr>\n",
       "      <th>479</th>\n",
       "      <td>412625605000067</td>\n",
       "      <td>0.367273</td>\n",
       "      <td>0.952532</td>\n",
       "      <td>0.595437</td>\n",
       "      <td>0.595679</td>\n",
       "      <td>0.872412</td>\n",
       "      <td>0.000000</td>\n",
       "      <td>0.319647</td>\n",
       "      <td>0.760690</td>\n",
       "      <td>0.7136</td>\n",
       "      <td>1.000000</td>\n",
       "      <td>0.000000</td>\n",
       "      <td>0.0657</td>\n",
       "      <td>0.990597</td>\n",
       "      <td>0.706497</td>\n",
       "      <td>0.691973</td>\n",
       "      <td>0.575469</td>\n",
       "    </tr>\n",
       "    <tr>\n",
       "      <th>480</th>\n",
       "      <td>412625605000068</td>\n",
       "      <td>0.360000</td>\n",
       "      <td>0.946730</td>\n",
       "      <td>0.529968</td>\n",
       "      <td>0.574074</td>\n",
       "      <td>0.640414</td>\n",
       "      <td>0.003840</td>\n",
       "      <td>0.385759</td>\n",
       "      <td>0.888972</td>\n",
       "      <td>0.6440</td>\n",
       "      <td>0.994001</td>\n",
       "      <td>0.001687</td>\n",
       "      <td>0.0314</td>\n",
       "      <td>0.980984</td>\n",
       "      <td>0.704630</td>\n",
       "      <td>0.477806</td>\n",
       "      <td>0.544284</td>\n",
       "    </tr>\n",
       "    <tr>\n",
       "      <th>481</th>\n",
       "      <td>412625605000069</td>\n",
       "      <td>0.320000</td>\n",
       "      <td>0.621308</td>\n",
       "      <td>0.437635</td>\n",
       "      <td>0.293210</td>\n",
       "      <td>0.333933</td>\n",
       "      <td>0.000000</td>\n",
       "      <td>0.442100</td>\n",
       "      <td>0.882221</td>\n",
       "      <td>0.6436</td>\n",
       "      <td>0.982603</td>\n",
       "      <td>0.000000</td>\n",
       "      <td>0.0144</td>\n",
       "      <td>1.000000</td>\n",
       "      <td>0.686706</td>\n",
       "      <td>0.472028</td>\n",
       "      <td>0.475316</td>\n",
       "    </tr>\n",
       "    <tr>\n",
       "      <th>482</th>\n",
       "      <td>412625605000070</td>\n",
       "      <td>0.352727</td>\n",
       "      <td>0.938819</td>\n",
       "      <td>0.361096</td>\n",
       "      <td>0.311728</td>\n",
       "      <td>0.858686</td>\n",
       "      <td>0.008833</td>\n",
       "      <td>0.190956</td>\n",
       "      <td>0.821455</td>\n",
       "      <td>0.4140</td>\n",
       "      <td>1.000000</td>\n",
       "      <td>0.003881</td>\n",
       "      <td>0.0442</td>\n",
       "      <td>1.000000</td>\n",
       "      <td>0.669654</td>\n",
       "      <td>0.710249</td>\n",
       "      <td>0.512419</td>\n",
       "    </tr>\n",
       "  </tbody>\n",
       "</table>\n",
       "<p>483 rows × 17 columns</p>\n",
       "</div>"
      ],
      "text/plain": [
       "           Cod_Setor  2010_VD1  2010_VD2  2010_VD3  2010_VD4  2010_VE1  \\\n",
       "0    411520005010001  0.723636  0.923523  0.568170  0.774691  0.836859   \n",
       "1    411520005010002  0.669091  0.947785  0.659827  0.805556  0.910891   \n",
       "2    411520005010003  0.607273  0.948840  0.617171  0.811728  0.877588   \n",
       "3    411520005010004  0.567273  0.962553  0.571139  0.753086  0.928218   \n",
       "4    411520005010005  0.534545  0.979430  0.689390  0.780864  0.920567   \n",
       "..               ...       ...       ...       ...       ...       ...   \n",
       "478  412625605000066  0.352727  0.974684  0.641199  0.608025  0.853285   \n",
       "479  412625605000067  0.367273  0.952532  0.595437  0.595679  0.872412   \n",
       "480  412625605000068  0.360000  0.946730  0.529968  0.574074  0.640414   \n",
       "481  412625605000069  0.320000  0.621308  0.437635  0.293210  0.333933   \n",
       "482  412625605000070  0.352727  0.938819  0.361096  0.311728  0.858686   \n",
       "\n",
       "     2010_VE2  2010_VE3  2010_VED1  2010_VED2  2010_VH1  2010_VH2  2010_VH3  \\\n",
       "0    0.153226  0.888877   1.000000     0.9856  1.000000  0.024468    1.0000   \n",
       "1    0.291475  0.891996   1.000000     0.9868  1.000000  0.257003    1.0000   \n",
       "2    0.387865  0.936590   1.000000     0.9688  1.000000  0.239116    1.0000   \n",
       "3    0.599078  0.910499   0.722431     0.9716  1.000000  0.107661    1.0000   \n",
       "4    0.361367  0.966112   1.000000     0.9844  1.000000  0.086061    0.9961   \n",
       "..        ...       ...        ...        ...       ...       ...       ...   \n",
       "478  0.009217  0.331393   0.929482     0.7972  1.000000  0.004050    0.0338   \n",
       "479  0.000000  0.319647   0.760690     0.7136  1.000000  0.000000    0.0657   \n",
       "480  0.003840  0.385759   0.888972     0.6440  0.994001  0.001687    0.0314   \n",
       "481  0.000000  0.442100   0.882221     0.6436  0.982603  0.000000    0.0144   \n",
       "482  0.008833  0.190956   0.821455     0.4140  1.000000  0.003881    0.0442   \n",
       "\n",
       "     2010_VH4  2010_VH5  VA4_2010   RendaMedia  \n",
       "0    1.000000  0.572691  0.190181  4800.240000  \n",
       "1    0.588340  0.550909  0.060300  5965.110000  \n",
       "2    0.833664  0.645631  0.009710  4789.690000  \n",
       "3    0.070003  0.692930  0.148177  8623.780000  \n",
       "4    0.201024  0.700398  0.161849  8165.580000  \n",
       "..        ...       ...       ...          ...  \n",
       "478  1.000000  0.646378  0.462668     0.576274  \n",
       "479  0.990597  0.706497  0.691973     0.575469  \n",
       "480  0.980984  0.704630  0.477806     0.544284  \n",
       "481  1.000000  0.686706  0.472028     0.475316  \n",
       "482  1.000000  0.669654  0.710249     0.512419  \n",
       "\n",
       "[483 rows x 17 columns]"
      ]
     },
     "metadata": {},
     "output_type": "display_data"
    },
    {
     "data": {
      "text/html": [
       "<div>\n",
       "<style scoped>\n",
       "    .dataframe tbody tr th:only-of-type {\n",
       "        vertical-align: middle;\n",
       "    }\n",
       "\n",
       "    .dataframe tbody tr th {\n",
       "        vertical-align: top;\n",
       "    }\n",
       "\n",
       "    .dataframe thead th {\n",
       "        text-align: right;\n",
       "    }\n",
       "</style>\n",
       "<table border=\"1\" class=\"dataframe\">\n",
       "  <thead>\n",
       "    <tr style=\"text-align: right;\">\n",
       "      <th></th>\n",
       "      <th>count</th>\n",
       "      <th>mean</th>\n",
       "      <th>std</th>\n",
       "      <th>min</th>\n",
       "      <th>25%</th>\n",
       "      <th>50%</th>\n",
       "      <th>75%</th>\n",
       "      <th>max</th>\n",
       "    </tr>\n",
       "  </thead>\n",
       "  <tbody>\n",
       "    <tr>\n",
       "      <th>2010_VD1</th>\n",
       "      <td>483.0</td>\n",
       "      <td>0.418543</td>\n",
       "      <td>0.104599</td>\n",
       "      <td>0.0</td>\n",
       "      <td>0.352727</td>\n",
       "      <td>0.403636</td>\n",
       "      <td>0.465455</td>\n",
       "      <td>1.0</td>\n",
       "    </tr>\n",
       "    <tr>\n",
       "      <th>2010_VD2</th>\n",
       "      <td>483.0</td>\n",
       "      <td>0.919942</td>\n",
       "      <td>0.125474</td>\n",
       "      <td>0.0</td>\n",
       "      <td>0.918513</td>\n",
       "      <td>0.959388</td>\n",
       "      <td>0.983914</td>\n",
       "      <td>1.0</td>\n",
       "    </tr>\n",
       "    <tr>\n",
       "      <th>2010_VD3</th>\n",
       "      <td>483.0</td>\n",
       "      <td>0.612828</td>\n",
       "      <td>0.098168</td>\n",
       "      <td>0.0</td>\n",
       "      <td>0.563647</td>\n",
       "      <td>0.608936</td>\n",
       "      <td>0.659355</td>\n",
       "      <td>1.0</td>\n",
       "    </tr>\n",
       "    <tr>\n",
       "      <th>2010_VD4</th>\n",
       "      <td>483.0</td>\n",
       "      <td>0.636569</td>\n",
       "      <td>0.131548</td>\n",
       "      <td>0.0</td>\n",
       "      <td>0.552469</td>\n",
       "      <td>0.638889</td>\n",
       "      <td>0.725309</td>\n",
       "      <td>1.0</td>\n",
       "    </tr>\n",
       "    <tr>\n",
       "      <th>2010_VE1</th>\n",
       "      <td>483.0</td>\n",
       "      <td>0.811266</td>\n",
       "      <td>0.157044</td>\n",
       "      <td>0.0</td>\n",
       "      <td>0.753375</td>\n",
       "      <td>0.863186</td>\n",
       "      <td>0.917079</td>\n",
       "      <td>1.0</td>\n",
       "    </tr>\n",
       "    <tr>\n",
       "      <th>2010_VE2</th>\n",
       "      <td>483.0</td>\n",
       "      <td>0.045010</td>\n",
       "      <td>0.107741</td>\n",
       "      <td>0.0</td>\n",
       "      <td>0.000000</td>\n",
       "      <td>0.000000</td>\n",
       "      <td>0.029186</td>\n",
       "      <td>1.0</td>\n",
       "    </tr>\n",
       "    <tr>\n",
       "      <th>2010_VE3</th>\n",
       "      <td>483.0</td>\n",
       "      <td>0.555011</td>\n",
       "      <td>0.187450</td>\n",
       "      <td>0.0</td>\n",
       "      <td>0.415021</td>\n",
       "      <td>0.522037</td>\n",
       "      <td>0.698337</td>\n",
       "      <td>1.0</td>\n",
       "    </tr>\n",
       "    <tr>\n",
       "      <th>2010_VED1</th>\n",
       "      <td>483.0</td>\n",
       "      <td>0.930897</td>\n",
       "      <td>0.117805</td>\n",
       "      <td>0.0</td>\n",
       "      <td>0.882971</td>\n",
       "      <td>1.000000</td>\n",
       "      <td>1.000000</td>\n",
       "      <td>1.0</td>\n",
       "    </tr>\n",
       "    <tr>\n",
       "      <th>2010_VED2</th>\n",
       "      <td>483.0</td>\n",
       "      <td>0.816855</td>\n",
       "      <td>0.152264</td>\n",
       "      <td>0.0</td>\n",
       "      <td>0.734800</td>\n",
       "      <td>0.847200</td>\n",
       "      <td>0.932800</td>\n",
       "      <td>1.0</td>\n",
       "    </tr>\n",
       "    <tr>\n",
       "      <th>2010_VH1</th>\n",
       "      <td>483.0</td>\n",
       "      <td>0.986195</td>\n",
       "      <td>0.071940</td>\n",
       "      <td>0.0</td>\n",
       "      <td>1.000000</td>\n",
       "      <td>1.000000</td>\n",
       "      <td>1.000000</td>\n",
       "      <td>1.0</td>\n",
       "    </tr>\n",
       "    <tr>\n",
       "      <th>2010_VH2</th>\n",
       "      <td>483.0</td>\n",
       "      <td>0.059185</td>\n",
       "      <td>0.126400</td>\n",
       "      <td>0.0</td>\n",
       "      <td>0.004134</td>\n",
       "      <td>0.015019</td>\n",
       "      <td>0.047081</td>\n",
       "      <td>1.0</td>\n",
       "    </tr>\n",
       "    <tr>\n",
       "      <th>2010_VH3</th>\n",
       "      <td>483.0</td>\n",
       "      <td>0.674922</td>\n",
       "      <td>0.409789</td>\n",
       "      <td>0.0</td>\n",
       "      <td>0.114850</td>\n",
       "      <td>0.941700</td>\n",
       "      <td>0.985300</td>\n",
       "      <td>1.0</td>\n",
       "    </tr>\n",
       "    <tr>\n",
       "      <th>2010_VH4</th>\n",
       "      <td>483.0</td>\n",
       "      <td>0.937378</td>\n",
       "      <td>0.174557</td>\n",
       "      <td>0.0</td>\n",
       "      <td>0.989604</td>\n",
       "      <td>1.000000</td>\n",
       "      <td>1.000000</td>\n",
       "      <td>1.0</td>\n",
       "    </tr>\n",
       "    <tr>\n",
       "      <th>2010_VH5</th>\n",
       "      <td>483.0</td>\n",
       "      <td>0.546460</td>\n",
       "      <td>0.145992</td>\n",
       "      <td>0.0</td>\n",
       "      <td>0.462410</td>\n",
       "      <td>0.564600</td>\n",
       "      <td>0.642955</td>\n",
       "      <td>1.0</td>\n",
       "    </tr>\n",
       "    <tr>\n",
       "      <th>VA4_2010</th>\n",
       "      <td>483.0</td>\n",
       "      <td>0.389294</td>\n",
       "      <td>0.145132</td>\n",
       "      <td>0.0</td>\n",
       "      <td>0.296886</td>\n",
       "      <td>0.378254</td>\n",
       "      <td>0.473441</td>\n",
       "      <td>1.0</td>\n",
       "    </tr>\n",
       "  </tbody>\n",
       "</table>\n",
       "</div>"
      ],
      "text/plain": [
       "           count      mean       std  min       25%       50%       75%  max\n",
       "2010_VD1   483.0  0.418543  0.104599  0.0  0.352727  0.403636  0.465455  1.0\n",
       "2010_VD2   483.0  0.919942  0.125474  0.0  0.918513  0.959388  0.983914  1.0\n",
       "2010_VD3   483.0  0.612828  0.098168  0.0  0.563647  0.608936  0.659355  1.0\n",
       "2010_VD4   483.0  0.636569  0.131548  0.0  0.552469  0.638889  0.725309  1.0\n",
       "2010_VE1   483.0  0.811266  0.157044  0.0  0.753375  0.863186  0.917079  1.0\n",
       "2010_VE2   483.0  0.045010  0.107741  0.0  0.000000  0.000000  0.029186  1.0\n",
       "2010_VE3   483.0  0.555011  0.187450  0.0  0.415021  0.522037  0.698337  1.0\n",
       "2010_VED1  483.0  0.930897  0.117805  0.0  0.882971  1.000000  1.000000  1.0\n",
       "2010_VED2  483.0  0.816855  0.152264  0.0  0.734800  0.847200  0.932800  1.0\n",
       "2010_VH1   483.0  0.986195  0.071940  0.0  1.000000  1.000000  1.000000  1.0\n",
       "2010_VH2   483.0  0.059185  0.126400  0.0  0.004134  0.015019  0.047081  1.0\n",
       "2010_VH3   483.0  0.674922  0.409789  0.0  0.114850  0.941700  0.985300  1.0\n",
       "2010_VH4   483.0  0.937378  0.174557  0.0  0.989604  1.000000  1.000000  1.0\n",
       "2010_VH5   483.0  0.546460  0.145992  0.0  0.462410  0.564600  0.642955  1.0\n",
       "VA4_2010   483.0  0.389294  0.145132  0.0  0.296886  0.378254  0.473441  1.0"
      ]
     },
     "metadata": {},
     "output_type": "display_data"
    }
   ],
   "source": [
    "path_file = config['datasets'][5]\n",
    "\n",
    "# Column names to be ignored, according to the original notebook\n",
    "cols_to_ignore = [\"RendaMedia\"]\n",
    "id_column = \"Cod_Setor\"\n",
    "\n",
    "df_original = pd.read_excel(path_file, dtype={id_column: \"object\"})\n",
    "df_processed = df_original.drop(columns=[id_column, *cols_to_ignore])\n",
    "\n",
    "display(df_original)\n",
    "display(df_processed.describe().T)"
   ]
  },
  {
   "cell_type": "markdown",
   "id": "4582f1da9ee1b745",
   "metadata": {
    "ExecuteTime": {
     "end_time": "2025-08-30T18:09:46.760228Z",
     "start_time": "2025-08-30T18:09:46.754968Z"
    }
   },
   "source": [
    "### Correlation Analysis"
   ]
  },
  {
   "cell_type": "code",
   "execution_count": null,
   "id": "9f6cfa7a277f8a78",
   "metadata": {
    "ExecuteTime": {
     "end_time": "2025-08-31T23:00:30.036437Z",
     "start_time": "2025-08-31T23:00:27.899455Z"
    }
   },
   "outputs": [
    {
     "name": "stdout",
     "output_type": "stream",
     "text": [
      "Correlação dos indicadores com o Indicador Composto (CI):\n",
      "\n"
     ]
    },
    {
     "data": {
      "text/html": [
       "<div>\n",
       "<style scoped>\n",
       "    .dataframe tbody tr th:only-of-type {\n",
       "        vertical-align: middle;\n",
       "    }\n",
       "\n",
       "    .dataframe tbody tr th {\n",
       "        vertical-align: top;\n",
       "    }\n",
       "\n",
       "    .dataframe thead th {\n",
       "        text-align: right;\n",
       "    }\n",
       "</style>\n",
       "<table border=\"1\" class=\"dataframe\">\n",
       "  <thead>\n",
       "    <tr style=\"text-align: right;\">\n",
       "      <th></th>\n",
       "      <th>CI_CORR</th>\n",
       "    </tr>\n",
       "  </thead>\n",
       "  <tbody>\n",
       "    <tr>\n",
       "      <th>2010_VD1</th>\n",
       "      <td>0.341288</td>\n",
       "    </tr>\n",
       "    <tr>\n",
       "      <th>2010_VD2</th>\n",
       "      <td>0.257184</td>\n",
       "    </tr>\n",
       "    <tr>\n",
       "      <th>2010_VD3</th>\n",
       "      <td>0.353154</td>\n",
       "    </tr>\n",
       "    <tr>\n",
       "      <th>2010_VD4</th>\n",
       "      <td>0.461282</td>\n",
       "    </tr>\n",
       "    <tr>\n",
       "      <th>2010_VE1</th>\n",
       "      <td>0.458524</td>\n",
       "    </tr>\n",
       "    <tr>\n",
       "      <th>2010_VE2</th>\n",
       "      <td>0.570375</td>\n",
       "    </tr>\n",
       "    <tr>\n",
       "      <th>2010_VE3</th>\n",
       "      <td>0.761242</td>\n",
       "    </tr>\n",
       "    <tr>\n",
       "      <th>2010_VED1</th>\n",
       "      <td>0.231888</td>\n",
       "    </tr>\n",
       "    <tr>\n",
       "      <th>2010_VED2</th>\n",
       "      <td>0.673233</td>\n",
       "    </tr>\n",
       "    <tr>\n",
       "      <th>2010_VH1</th>\n",
       "      <td>0.116575</td>\n",
       "    </tr>\n",
       "    <tr>\n",
       "      <th>2010_VH2</th>\n",
       "      <td>0.572968</td>\n",
       "    </tr>\n",
       "    <tr>\n",
       "      <th>2010_VH3</th>\n",
       "      <td>0.738023</td>\n",
       "    </tr>\n",
       "    <tr>\n",
       "      <th>2010_VH4</th>\n",
       "      <td>-0.030781</td>\n",
       "    </tr>\n",
       "    <tr>\n",
       "      <th>2010_VH5</th>\n",
       "      <td>0.003483</td>\n",
       "    </tr>\n",
       "    <tr>\n",
       "      <th>VA4_2010</th>\n",
       "      <td>-0.280269</td>\n",
       "    </tr>\n",
       "    <tr>\n",
       "      <th>CI</th>\n",
       "      <td>1.000000</td>\n",
       "    </tr>\n",
       "  </tbody>\n",
       "</table>\n",
       "</div>"
      ],
      "text/plain": [
       "            CI_CORR\n",
       "2010_VD1   0.341288\n",
       "2010_VD2   0.257184\n",
       "2010_VD3   0.353154\n",
       "2010_VD4   0.461282\n",
       "2010_VE1   0.458524\n",
       "2010_VE2   0.570375\n",
       "2010_VE3   0.761242\n",
       "2010_VED1  0.231888\n",
       "2010_VED2  0.673233\n",
       "2010_VH1   0.116575\n",
       "2010_VH2   0.572968\n",
       "2010_VH3   0.738023\n",
       "2010_VH4  -0.030781\n",
       "2010_VH5   0.003483\n",
       "VA4_2010  -0.280269\n",
       "CI         1.000000"
      ]
     },
     "metadata": {},
     "output_type": "display_data"
    },
    {
     "data": {
      "application/vnd.plotly.v1+json": {
       "config": {
        "plotlyServerURL": "https://plot.ly"
       },
       "data": [
        {
         "coloraxis": "coloraxis",
         "hovertemplate": "x: %{x}<br>y: %{y}<br>color: %{z}<extra></extra>",
         "name": "0",
         "texttemplate": "%{z}",
         "type": "heatmap",
         "x": [
          "2010_VD1",
          "2010_VD2",
          "2010_VD3",
          "2010_VD4",
          "2010_VE1",
          "2010_VE2",
          "2010_VE3",
          "2010_VED1",
          "2010_VED2",
          "2010_VH1",
          "2010_VH2",
          "2010_VH3",
          "2010_VH4",
          "2010_VH5",
          "VA4_2010"
         ],
         "xaxis": "x",
         "y": [
          "2010_VD1",
          "2010_VD2",
          "2010_VD3",
          "2010_VD4",
          "2010_VE1",
          "2010_VE2",
          "2010_VE3",
          "2010_VED1",
          "2010_VED2",
          "2010_VH1",
          "2010_VH2",
          "2010_VH3",
          "2010_VH4",
          "2010_VH5",
          "VA4_2010"
         ],
         "yaxis": "y",
         "z": {
          "bdata": "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",
          "dtype": "f8",
          "shape": "15, 15"
         }
        }
       ],
       "layout": {
        "coloraxis": {
         "colorscale": [
          [
           0,
           "#0d0887"
          ],
          [
           0.1111111111111111,
           "#46039f"
          ],
          [
           0.2222222222222222,
           "#7201a8"
          ],
          [
           0.3333333333333333,
           "#9c179e"
          ],
          [
           0.4444444444444444,
           "#bd3786"
          ],
          [
           0.5555555555555556,
           "#d8576b"
          ],
          [
           0.6666666666666666,
           "#ed7953"
          ],
          [
           0.7777777777777778,
           "#fb9f3a"
          ],
          [
           0.8888888888888888,
           "#fdca26"
          ],
          [
           1,
           "#f0f921"
          ]
         ]
        },
        "template": {
         "data": {
          "bar": [
           {
            "error_x": {
             "color": "#f2f5fa"
            },
            "error_y": {
             "color": "#f2f5fa"
            },
            "marker": {
             "line": {
              "color": "rgb(17,17,17)",
              "width": 0.5
             },
             "pattern": {
              "fillmode": "overlay",
              "size": 10,
              "solidity": 0.2
             }
            },
            "type": "bar"
           }
          ],
          "barpolar": [
           {
            "marker": {
             "line": {
              "color": "rgb(17,17,17)",
              "width": 0.5
             },
             "pattern": {
              "fillmode": "overlay",
              "size": 10,
              "solidity": 0.2
             }
            },
            "type": "barpolar"
           }
          ],
          "carpet": [
           {
            "aaxis": {
             "endlinecolor": "#A2B1C6",
             "gridcolor": "#506784",
             "linecolor": "#506784",
             "minorgridcolor": "#506784",
             "startlinecolor": "#A2B1C6"
            },
            "baxis": {
             "endlinecolor": "#A2B1C6",
             "gridcolor": "#506784",
             "linecolor": "#506784",
             "minorgridcolor": "#506784",
             "startlinecolor": "#A2B1C6"
            },
            "type": "carpet"
           }
          ],
          "choropleth": [
           {
            "colorbar": {
             "outlinewidth": 0,
             "ticks": ""
            },
            "type": "choropleth"
           }
          ],
          "contour": [
           {
            "colorbar": {
             "outlinewidth": 0,
             "ticks": ""
            },
            "colorscale": [
             [
              0,
              "#0d0887"
             ],
             [
              0.1111111111111111,
              "#46039f"
             ],
             [
              0.2222222222222222,
              "#7201a8"
             ],
             [
              0.3333333333333333,
              "#9c179e"
             ],
             [
              0.4444444444444444,
              "#bd3786"
             ],
             [
              0.5555555555555556,
              "#d8576b"
             ],
             [
              0.6666666666666666,
              "#ed7953"
             ],
             [
              0.7777777777777778,
              "#fb9f3a"
             ],
             [
              0.8888888888888888,
              "#fdca26"
             ],
             [
              1,
              "#f0f921"
             ]
            ],
            "type": "contour"
           }
          ],
          "contourcarpet": [
           {
            "colorbar": {
             "outlinewidth": 0,
             "ticks": ""
            },
            "type": "contourcarpet"
           }
          ],
          "heatmap": [
           {
            "colorbar": {
             "outlinewidth": 0,
             "ticks": ""
            },
            "colorscale": [
             [
              0,
              "#0d0887"
             ],
             [
              0.1111111111111111,
              "#46039f"
             ],
             [
              0.2222222222222222,
              "#7201a8"
             ],
             [
              0.3333333333333333,
              "#9c179e"
             ],
             [
              0.4444444444444444,
              "#bd3786"
             ],
             [
              0.5555555555555556,
              "#d8576b"
             ],
             [
              0.6666666666666666,
              "#ed7953"
             ],
             [
              0.7777777777777778,
              "#fb9f3a"
             ],
             [
              0.8888888888888888,
              "#fdca26"
             ],
             [
              1,
              "#f0f921"
             ]
            ],
            "type": "heatmap"
           }
          ],
          "histogram": [
           {
            "marker": {
             "pattern": {
              "fillmode": "overlay",
              "size": 10,
              "solidity": 0.2
             }
            },
            "type": "histogram"
           }
          ],
          "histogram2d": [
           {
            "colorbar": {
             "outlinewidth": 0,
             "ticks": ""
            },
            "colorscale": [
             [
              0,
              "#0d0887"
             ],
             [
              0.1111111111111111,
              "#46039f"
             ],
             [
              0.2222222222222222,
              "#7201a8"
             ],
             [
              0.3333333333333333,
              "#9c179e"
             ],
             [
              0.4444444444444444,
              "#bd3786"
             ],
             [
              0.5555555555555556,
              "#d8576b"
             ],
             [
              0.6666666666666666,
              "#ed7953"
             ],
             [
              0.7777777777777778,
              "#fb9f3a"
             ],
             [
              0.8888888888888888,
              "#fdca26"
             ],
             [
              1,
              "#f0f921"
             ]
            ],
            "type": "histogram2d"
           }
          ],
          "histogram2dcontour": [
           {
            "colorbar": {
             "outlinewidth": 0,
             "ticks": ""
            },
            "colorscale": [
             [
              0,
              "#0d0887"
             ],
             [
              0.1111111111111111,
              "#46039f"
             ],
             [
              0.2222222222222222,
              "#7201a8"
             ],
             [
              0.3333333333333333,
              "#9c179e"
             ],
             [
              0.4444444444444444,
              "#bd3786"
             ],
             [
              0.5555555555555556,
              "#d8576b"
             ],
             [
              0.6666666666666666,
              "#ed7953"
             ],
             [
              0.7777777777777778,
              "#fb9f3a"
             ],
             [
              0.8888888888888888,
              "#fdca26"
             ],
             [
              1,
              "#f0f921"
             ]
            ],
            "type": "histogram2dcontour"
           }
          ],
          "mesh3d": [
           {
            "colorbar": {
             "outlinewidth": 0,
             "ticks": ""
            },
            "type": "mesh3d"
           }
          ],
          "parcoords": [
           {
            "line": {
             "colorbar": {
              "outlinewidth": 0,
              "ticks": ""
             }
            },
            "type": "parcoords"
           }
          ],
          "pie": [
           {
            "automargin": true,
            "type": "pie"
           }
          ],
          "scatter": [
           {
            "marker": {
             "line": {
              "color": "#283442"
             }
            },
            "type": "scatter"
           }
          ],
          "scatter3d": [
           {
            "line": {
             "colorbar": {
              "outlinewidth": 0,
              "ticks": ""
             }
            },
            "marker": {
             "colorbar": {
              "outlinewidth": 0,
              "ticks": ""
             }
            },
            "type": "scatter3d"
           }
          ],
          "scattercarpet": [
           {
            "marker": {
             "colorbar": {
              "outlinewidth": 0,
              "ticks": ""
             }
            },
            "type": "scattercarpet"
           }
          ],
          "scattergeo": [
           {
            "marker": {
             "colorbar": {
              "outlinewidth": 0,
              "ticks": ""
             }
            },
            "type": "scattergeo"
           }
          ],
          "scattergl": [
           {
            "marker": {
             "line": {
              "color": "#283442"
             }
            },
            "type": "scattergl"
           }
          ],
          "scattermap": [
           {
            "marker": {
             "colorbar": {
              "outlinewidth": 0,
              "ticks": ""
             }
            },
            "type": "scattermap"
           }
          ],
          "scattermapbox": [
           {
            "marker": {
             "colorbar": {
              "outlinewidth": 0,
              "ticks": ""
             }
            },
            "type": "scattermapbox"
           }
          ],
          "scatterpolar": [
           {
            "marker": {
             "colorbar": {
              "outlinewidth": 0,
              "ticks": ""
             }
            },
            "type": "scatterpolar"
           }
          ],
          "scatterpolargl": [
           {
            "marker": {
             "colorbar": {
              "outlinewidth": 0,
              "ticks": ""
             }
            },
            "type": "scatterpolargl"
           }
          ],
          "scatterternary": [
           {
            "marker": {
             "colorbar": {
              "outlinewidth": 0,
              "ticks": ""
             }
            },
            "type": "scatterternary"
           }
          ],
          "surface": [
           {
            "colorbar": {
             "outlinewidth": 0,
             "ticks": ""
            },
            "colorscale": [
             [
              0,
              "#0d0887"
             ],
             [
              0.1111111111111111,
              "#46039f"
             ],
             [
              0.2222222222222222,
              "#7201a8"
             ],
             [
              0.3333333333333333,
              "#9c179e"
             ],
             [
              0.4444444444444444,
              "#bd3786"
             ],
             [
              0.5555555555555556,
              "#d8576b"
             ],
             [
              0.6666666666666666,
              "#ed7953"
             ],
             [
              0.7777777777777778,
              "#fb9f3a"
             ],
             [
              0.8888888888888888,
              "#fdca26"
             ],
             [
              1,
              "#f0f921"
             ]
            ],
            "type": "surface"
           }
          ],
          "table": [
           {
            "cells": {
             "fill": {
              "color": "#506784"
             },
             "line": {
              "color": "rgb(17,17,17)"
             }
            },
            "header": {
             "fill": {
              "color": "#2a3f5f"
             },
             "line": {
              "color": "rgb(17,17,17)"
             }
            },
            "type": "table"
           }
          ]
         },
         "layout": {
          "annotationdefaults": {
           "arrowcolor": "#f2f5fa",
           "arrowhead": 0,
           "arrowwidth": 1
          },
          "autotypenumbers": "strict",
          "coloraxis": {
           "colorbar": {
            "outlinewidth": 0,
            "ticks": ""
           }
          },
          "colorscale": {
           "diverging": [
            [
             0,
             "#8e0152"
            ],
            [
             0.1,
             "#c51b7d"
            ],
            [
             0.2,
             "#de77ae"
            ],
            [
             0.3,
             "#f1b6da"
            ],
            [
             0.4,
             "#fde0ef"
            ],
            [
             0.5,
             "#f7f7f7"
            ],
            [
             0.6,
             "#e6f5d0"
            ],
            [
             0.7,
             "#b8e186"
            ],
            [
             0.8,
             "#7fbc41"
            ],
            [
             0.9,
             "#4d9221"
            ],
            [
             1,
             "#276419"
            ]
           ],
           "sequential": [
            [
             0,
             "#0d0887"
            ],
            [
             0.1111111111111111,
             "#46039f"
            ],
            [
             0.2222222222222222,
             "#7201a8"
            ],
            [
             0.3333333333333333,
             "#9c179e"
            ],
            [
             0.4444444444444444,
             "#bd3786"
            ],
            [
             0.5555555555555556,
             "#d8576b"
            ],
            [
             0.6666666666666666,
             "#ed7953"
            ],
            [
             0.7777777777777778,
             "#fb9f3a"
            ],
            [
             0.8888888888888888,
             "#fdca26"
            ],
            [
             1,
             "#f0f921"
            ]
           ],
           "sequentialminus": [
            [
             0,
             "#0d0887"
            ],
            [
             0.1111111111111111,
             "#46039f"
            ],
            [
             0.2222222222222222,
             "#7201a8"
            ],
            [
             0.3333333333333333,
             "#9c179e"
            ],
            [
             0.4444444444444444,
             "#bd3786"
            ],
            [
             0.5555555555555556,
             "#d8576b"
            ],
            [
             0.6666666666666666,
             "#ed7953"
            ],
            [
             0.7777777777777778,
             "#fb9f3a"
            ],
            [
             0.8888888888888888,
             "#fdca26"
            ],
            [
             1,
             "#f0f921"
            ]
           ]
          },
          "colorway": [
           "#636efa",
           "#EF553B",
           "#00cc96",
           "#ab63fa",
           "#FFA15A",
           "#19d3f3",
           "#FF6692",
           "#B6E880",
           "#FF97FF",
           "#FECB52"
          ],
          "font": {
           "color": "#f2f5fa"
          },
          "geo": {
           "bgcolor": "rgb(17,17,17)",
           "lakecolor": "rgb(17,17,17)",
           "landcolor": "rgb(17,17,17)",
           "showlakes": true,
           "showland": true,
           "subunitcolor": "#506784"
          },
          "hoverlabel": {
           "align": "left"
          },
          "hovermode": "closest",
          "mapbox": {
           "style": "dark"
          },
          "paper_bgcolor": "rgb(17,17,17)",
          "plot_bgcolor": "rgb(17,17,17)",
          "polar": {
           "angularaxis": {
            "gridcolor": "#506784",
            "linecolor": "#506784",
            "ticks": ""
           },
           "bgcolor": "rgb(17,17,17)",
           "radialaxis": {
            "gridcolor": "#506784",
            "linecolor": "#506784",
            "ticks": ""
           }
          },
          "scene": {
           "xaxis": {
            "backgroundcolor": "rgb(17,17,17)",
            "gridcolor": "#506784",
            "gridwidth": 2,
            "linecolor": "#506784",
            "showbackground": true,
            "ticks": "",
            "zerolinecolor": "#C8D4E3"
           },
           "yaxis": {
            "backgroundcolor": "rgb(17,17,17)",
            "gridcolor": "#506784",
            "gridwidth": 2,
            "linecolor": "#506784",
            "showbackground": true,
            "ticks": "",
            "zerolinecolor": "#C8D4E3"
           },
           "zaxis": {
            "backgroundcolor": "rgb(17,17,17)",
            "gridcolor": "#506784",
            "gridwidth": 2,
            "linecolor": "#506784",
            "showbackground": true,
            "ticks": "",
            "zerolinecolor": "#C8D4E3"
           }
          },
          "shapedefaults": {
           "line": {
            "color": "#f2f5fa"
           }
          },
          "sliderdefaults": {
           "bgcolor": "#C8D4E3",
           "bordercolor": "rgb(17,17,17)",
           "borderwidth": 1,
           "tickwidth": 0
          },
          "ternary": {
           "aaxis": {
            "gridcolor": "#506784",
            "linecolor": "#506784",
            "ticks": ""
           },
           "baxis": {
            "gridcolor": "#506784",
            "linecolor": "#506784",
            "ticks": ""
           },
           "bgcolor": "rgb(17,17,17)",
           "caxis": {
            "gridcolor": "#506784",
            "linecolor": "#506784",
            "ticks": ""
           }
          },
          "title": {
           "x": 0.05
          },
          "updatemenudefaults": {
           "bgcolor": "#506784",
           "borderwidth": 0
          },
          "xaxis": {
           "automargin": true,
           "gridcolor": "#283442",
           "linecolor": "#506784",
           "ticks": "",
           "title": {
            "standoff": 15
           },
           "zerolinecolor": "#283442",
           "zerolinewidth": 2
          },
          "yaxis": {
           "automargin": true,
           "gridcolor": "#283442",
           "linecolor": "#506784",
           "ticks": "",
           "title": {
            "standoff": 15
           },
           "zerolinecolor": "#283442",
           "zerolinewidth": 2
          }
         }
        },
        "title": {
         "text": "Mapa de Calor de Correlação dos Subindicadores"
        },
        "xaxis": {
         "anchor": "y",
         "domain": [
          0,
          1
         ]
        },
        "yaxis": {
         "anchor": "x",
         "autorange": "reversed",
         "domain": [
          0,
          1
         ]
        }
       }
      }
     },
     "metadata": {},
     "output_type": "display_data"
    }
   ],
   "source": [
    "# This step verifies the relationship between different indicators.\n",
    "\n",
    "df_processed_with_CI = df_processed.copy()\n",
    "# Create composite indicator column\n",
    "df_processed_with_CI['CI'] = df_processed.mean(axis=1)\n",
    "\n",
    "correlation_ci = df_processed_with_CI.corrwith(df_processed_with_CI['CI'])\n",
    "df_correlation = pd.DataFrame(correlation_ci, columns=[\"CI_CORR\"])\n",
    "\n",
    "print(\"Correlation of indicators with the Composite Indicator (CI):\\n\")\n",
    "display(df_correlation)\n",
    "\n",
    "# Generate correlation heatmap\n",
    "fig_corr = px.imshow(\n",
    "  df_processed.corr().round(2).abs(),\n",
    "  text_auto=True,\n",
    "  aspect=\"auto\",\n",
    "  title=\"Sub-indicators Correlation Heatmap\"\n",
    ")\n",
    "fig_corr.show()"
   ]
  },
  {
   "cell_type": "markdown",
   "id": "2853cd4792285948",
   "metadata": {},
   "source": [
    "### Comparison of methods for defining the optimal number of clusters"
   ]
  },
  {
   "cell_type": "code",
   "execution_count": 6,
   "id": "7bd1628b81b01479",
   "metadata": {
    "ExecuteTime": {
     "end_time": "2025-08-31T23:00:30.283506Z",
     "start_time": "2025-08-31T23:00:30.261527Z"
    }
   },
   "outputs": [
    {
     "data": {
      "text/html": [
       "<div>\n",
       "<style scoped>\n",
       "    .dataframe tbody tr th:only-of-type {\n",
       "        vertical-align: middle;\n",
       "    }\n",
       "\n",
       "    .dataframe tbody tr th {\n",
       "        vertical-align: top;\n",
       "    }\n",
       "\n",
       "    .dataframe thead th {\n",
       "        text-align: right;\n",
       "    }\n",
       "</style>\n",
       "<table border=\"1\" class=\"dataframe\">\n",
       "  <thead>\n",
       "    <tr style=\"text-align: right;\">\n",
       "      <th></th>\n",
       "      <th>2010_VD1</th>\n",
       "      <th>2010_VD2</th>\n",
       "      <th>2010_VD3</th>\n",
       "      <th>2010_VD4</th>\n",
       "      <th>2010_VE1</th>\n",
       "      <th>2010_VE2</th>\n",
       "      <th>2010_VE3</th>\n",
       "      <th>2010_VED1</th>\n",
       "      <th>2010_VED2</th>\n",
       "      <th>2010_VH1</th>\n",
       "      <th>2010_VH2</th>\n",
       "      <th>2010_VH3</th>\n",
       "      <th>2010_VH4</th>\n",
       "      <th>2010_VH5</th>\n",
       "      <th>VA4_2010</th>\n",
       "    </tr>\n",
       "  </thead>\n",
       "  <tbody>\n",
       "    <tr>\n",
       "      <th>0</th>\n",
       "      <td>0.723636</td>\n",
       "      <td>0.923523</td>\n",
       "      <td>0.568170</td>\n",
       "      <td>0.774691</td>\n",
       "      <td>0.836859</td>\n",
       "      <td>0.153226</td>\n",
       "      <td>0.888877</td>\n",
       "      <td>1.000000</td>\n",
       "      <td>0.9856</td>\n",
       "      <td>1.000000</td>\n",
       "      <td>0.024468</td>\n",
       "      <td>1.0000</td>\n",
       "      <td>1.000000</td>\n",
       "      <td>0.572691</td>\n",
       "      <td>0.190181</td>\n",
       "    </tr>\n",
       "    <tr>\n",
       "      <th>1</th>\n",
       "      <td>0.669091</td>\n",
       "      <td>0.947785</td>\n",
       "      <td>0.659827</td>\n",
       "      <td>0.805556</td>\n",
       "      <td>0.910891</td>\n",
       "      <td>0.291475</td>\n",
       "      <td>0.891996</td>\n",
       "      <td>1.000000</td>\n",
       "      <td>0.9868</td>\n",
       "      <td>1.000000</td>\n",
       "      <td>0.257003</td>\n",
       "      <td>1.0000</td>\n",
       "      <td>0.588340</td>\n",
       "      <td>0.550909</td>\n",
       "      <td>0.060300</td>\n",
       "    </tr>\n",
       "    <tr>\n",
       "      <th>2</th>\n",
       "      <td>0.607273</td>\n",
       "      <td>0.948840</td>\n",
       "      <td>0.617171</td>\n",
       "      <td>0.811728</td>\n",
       "      <td>0.877588</td>\n",
       "      <td>0.387865</td>\n",
       "      <td>0.936590</td>\n",
       "      <td>1.000000</td>\n",
       "      <td>0.9688</td>\n",
       "      <td>1.000000</td>\n",
       "      <td>0.239116</td>\n",
       "      <td>1.0000</td>\n",
       "      <td>0.833664</td>\n",
       "      <td>0.645631</td>\n",
       "      <td>0.009710</td>\n",
       "    </tr>\n",
       "    <tr>\n",
       "      <th>3</th>\n",
       "      <td>0.567273</td>\n",
       "      <td>0.962553</td>\n",
       "      <td>0.571139</td>\n",
       "      <td>0.753086</td>\n",
       "      <td>0.928218</td>\n",
       "      <td>0.599078</td>\n",
       "      <td>0.910499</td>\n",
       "      <td>0.722431</td>\n",
       "      <td>0.9716</td>\n",
       "      <td>1.000000</td>\n",
       "      <td>0.107661</td>\n",
       "      <td>1.0000</td>\n",
       "      <td>0.070003</td>\n",
       "      <td>0.692930</td>\n",
       "      <td>0.148177</td>\n",
       "    </tr>\n",
       "    <tr>\n",
       "      <th>4</th>\n",
       "      <td>0.534545</td>\n",
       "      <td>0.979430</td>\n",
       "      <td>0.689390</td>\n",
       "      <td>0.780864</td>\n",
       "      <td>0.920567</td>\n",
       "      <td>0.361367</td>\n",
       "      <td>0.966112</td>\n",
       "      <td>1.000000</td>\n",
       "      <td>0.9844</td>\n",
       "      <td>1.000000</td>\n",
       "      <td>0.086061</td>\n",
       "      <td>0.9961</td>\n",
       "      <td>0.201024</td>\n",
       "      <td>0.700398</td>\n",
       "      <td>0.161849</td>\n",
       "    </tr>\n",
       "    <tr>\n",
       "      <th>...</th>\n",
       "      <td>...</td>\n",
       "      <td>...</td>\n",
       "      <td>...</td>\n",
       "      <td>...</td>\n",
       "      <td>...</td>\n",
       "      <td>...</td>\n",
       "      <td>...</td>\n",
       "      <td>...</td>\n",
       "      <td>...</td>\n",
       "      <td>...</td>\n",
       "      <td>...</td>\n",
       "      <td>...</td>\n",
       "      <td>...</td>\n",
       "      <td>...</td>\n",
       "      <td>...</td>\n",
       "    </tr>\n",
       "    <tr>\n",
       "      <th>478</th>\n",
       "      <td>0.352727</td>\n",
       "      <td>0.974684</td>\n",
       "      <td>0.641199</td>\n",
       "      <td>0.608025</td>\n",
       "      <td>0.853285</td>\n",
       "      <td>0.009217</td>\n",
       "      <td>0.331393</td>\n",
       "      <td>0.929482</td>\n",
       "      <td>0.7972</td>\n",
       "      <td>1.000000</td>\n",
       "      <td>0.004050</td>\n",
       "      <td>0.0338</td>\n",
       "      <td>1.000000</td>\n",
       "      <td>0.646378</td>\n",
       "      <td>0.462668</td>\n",
       "    </tr>\n",
       "    <tr>\n",
       "      <th>479</th>\n",
       "      <td>0.367273</td>\n",
       "      <td>0.952532</td>\n",
       "      <td>0.595437</td>\n",
       "      <td>0.595679</td>\n",
       "      <td>0.872412</td>\n",
       "      <td>0.000000</td>\n",
       "      <td>0.319647</td>\n",
       "      <td>0.760690</td>\n",
       "      <td>0.7136</td>\n",
       "      <td>1.000000</td>\n",
       "      <td>0.000000</td>\n",
       "      <td>0.0657</td>\n",
       "      <td>0.990597</td>\n",
       "      <td>0.706497</td>\n",
       "      <td>0.691973</td>\n",
       "    </tr>\n",
       "    <tr>\n",
       "      <th>480</th>\n",
       "      <td>0.360000</td>\n",
       "      <td>0.946730</td>\n",
       "      <td>0.529968</td>\n",
       "      <td>0.574074</td>\n",
       "      <td>0.640414</td>\n",
       "      <td>0.003840</td>\n",
       "      <td>0.385759</td>\n",
       "      <td>0.888972</td>\n",
       "      <td>0.6440</td>\n",
       "      <td>0.994001</td>\n",
       "      <td>0.001687</td>\n",
       "      <td>0.0314</td>\n",
       "      <td>0.980984</td>\n",
       "      <td>0.704630</td>\n",
       "      <td>0.477806</td>\n",
       "    </tr>\n",
       "    <tr>\n",
       "      <th>481</th>\n",
       "      <td>0.320000</td>\n",
       "      <td>0.621308</td>\n",
       "      <td>0.437635</td>\n",
       "      <td>0.293210</td>\n",
       "      <td>0.333933</td>\n",
       "      <td>0.000000</td>\n",
       "      <td>0.442100</td>\n",
       "      <td>0.882221</td>\n",
       "      <td>0.6436</td>\n",
       "      <td>0.982603</td>\n",
       "      <td>0.000000</td>\n",
       "      <td>0.0144</td>\n",
       "      <td>1.000000</td>\n",
       "      <td>0.686706</td>\n",
       "      <td>0.472028</td>\n",
       "    </tr>\n",
       "    <tr>\n",
       "      <th>482</th>\n",
       "      <td>0.352727</td>\n",
       "      <td>0.938819</td>\n",
       "      <td>0.361096</td>\n",
       "      <td>0.311728</td>\n",
       "      <td>0.858686</td>\n",
       "      <td>0.008833</td>\n",
       "      <td>0.190956</td>\n",
       "      <td>0.821455</td>\n",
       "      <td>0.4140</td>\n",
       "      <td>1.000000</td>\n",
       "      <td>0.003881</td>\n",
       "      <td>0.0442</td>\n",
       "      <td>1.000000</td>\n",
       "      <td>0.669654</td>\n",
       "      <td>0.710249</td>\n",
       "    </tr>\n",
       "  </tbody>\n",
       "</table>\n",
       "<p>483 rows × 15 columns</p>\n",
       "</div>"
      ],
      "text/plain": [
       "     2010_VD1  2010_VD2  2010_VD3  2010_VD4  2010_VE1  2010_VE2  2010_VE3  \\\n",
       "0    0.723636  0.923523  0.568170  0.774691  0.836859  0.153226  0.888877   \n",
       "1    0.669091  0.947785  0.659827  0.805556  0.910891  0.291475  0.891996   \n",
       "2    0.607273  0.948840  0.617171  0.811728  0.877588  0.387865  0.936590   \n",
       "3    0.567273  0.962553  0.571139  0.753086  0.928218  0.599078  0.910499   \n",
       "4    0.534545  0.979430  0.689390  0.780864  0.920567  0.361367  0.966112   \n",
       "..        ...       ...       ...       ...       ...       ...       ...   \n",
       "478  0.352727  0.974684  0.641199  0.608025  0.853285  0.009217  0.331393   \n",
       "479  0.367273  0.952532  0.595437  0.595679  0.872412  0.000000  0.319647   \n",
       "480  0.360000  0.946730  0.529968  0.574074  0.640414  0.003840  0.385759   \n",
       "481  0.320000  0.621308  0.437635  0.293210  0.333933  0.000000  0.442100   \n",
       "482  0.352727  0.938819  0.361096  0.311728  0.858686  0.008833  0.190956   \n",
       "\n",
       "     2010_VED1  2010_VED2  2010_VH1  2010_VH2  2010_VH3  2010_VH4  2010_VH5  \\\n",
       "0     1.000000     0.9856  1.000000  0.024468    1.0000  1.000000  0.572691   \n",
       "1     1.000000     0.9868  1.000000  0.257003    1.0000  0.588340  0.550909   \n",
       "2     1.000000     0.9688  1.000000  0.239116    1.0000  0.833664  0.645631   \n",
       "3     0.722431     0.9716  1.000000  0.107661    1.0000  0.070003  0.692930   \n",
       "4     1.000000     0.9844  1.000000  0.086061    0.9961  0.201024  0.700398   \n",
       "..         ...        ...       ...       ...       ...       ...       ...   \n",
       "478   0.929482     0.7972  1.000000  0.004050    0.0338  1.000000  0.646378   \n",
       "479   0.760690     0.7136  1.000000  0.000000    0.0657  0.990597  0.706497   \n",
       "480   0.888972     0.6440  0.994001  0.001687    0.0314  0.980984  0.704630   \n",
       "481   0.882221     0.6436  0.982603  0.000000    0.0144  1.000000  0.686706   \n",
       "482   0.821455     0.4140  1.000000  0.003881    0.0442  1.000000  0.669654   \n",
       "\n",
       "     VA4_2010  \n",
       "0    0.190181  \n",
       "1    0.060300  \n",
       "2    0.009710  \n",
       "3    0.148177  \n",
       "4    0.161849  \n",
       "..        ...  \n",
       "478  0.462668  \n",
       "479  0.691973  \n",
       "480  0.477806  \n",
       "481  0.472028  \n",
       "482  0.710249  \n",
       "\n",
       "[483 rows x 15 columns]"
      ]
     },
     "execution_count": 6,
     "metadata": {},
     "output_type": "execute_result"
    }
   ],
   "source": [
    "df_processed"
   ]
  },
  {
   "cell_type": "code",
   "execution_count": 7,
   "id": "ef92e10f57ab4e4b",
   "metadata": {
    "ExecuteTime": {
     "end_time": "2025-08-31T23:00:35.277406Z",
     "start_time": "2025-08-31T23:00:30.688468Z"
    }
   },
   "outputs": [
    {
     "data": {
      "image/png": "[encoded data removed]",
      "text/plain": [
       "<Figure size 1000x600 with 1 Axes>"
      ]
     },
     "metadata": {},
     "output_type": "display_data"
    },
    {
     "data": {
      "image/png": "[encoded data removed]",
      "text/plain": [
       "<Figure size 1000x600 with 1 Axes>"
      ]
     },
     "metadata": {},
     "output_type": "display_data"
    },
    {
     "data": {
      "image/png": "[encoded data removed]",
      "text/plain": [
       "<Figure size 1000x600 with 1 Axes>"
      ]
     },
     "metadata": {},
     "output_type": "display_data"
    },
    {
     "data": {
      "image/png": "[encoded data removed]",
      "text/plain": [
       "<Figure size 1000x600 with 1 Axes>"
      ]
     },
     "metadata": {},
     "output_type": "display_data"
    },
    {
     "data": {
      "image/png": "[encoded data removed]",
      "text/plain": [
       "<Figure size 1000x600 with 1 Axes>"
      ]
     },
     "metadata": {},
     "output_type": "display_data"
    },
    {
     "data": {
      "image/png": "[encoded data removed]",
      "text/plain": [
       "<Figure size 1000x600 with 1 Axes>"
      ]
     },
     "metadata": {},
     "output_type": "display_data"
    }
   ],
   "source": [
    "\n",
    "MIN_CLUSTERS = 2\n",
    "MAX_CLUSTERS = 15\n",
    "\n",
    "suggestions = get_grouping_suggestions(df_processed, MIN_CLUSTERS,\n",
    "                                       MAX_CLUSTERS)\n"
   ]
  },
  {
   "cell_type": "code",
   "execution_count": 8,
   "id": "bf8395019a7fe69f",
   "metadata": {
    "ExecuteTime": {
     "end_time": "2025-08-31T23:00:35.467718Z",
     "start_time": "2025-08-31T23:00:35.458719Z"
    }
   },
   "outputs": [
    {
     "data": {
      "text/html": [
       "<div>\n",
       "<style scoped>\n",
       "    .dataframe tbody tr th:only-of-type {\n",
       "        vertical-align: middle;\n",
       "    }\n",
       "\n",
       "    .dataframe tbody tr th {\n",
       "        vertical-align: top;\n",
       "    }\n",
       "\n",
       "    .dataframe thead th {\n",
       "        text-align: right;\n",
       "    }\n",
       "</style>\n",
       "<table border=\"1\" class=\"dataframe\">\n",
       "  <thead>\n",
       "    <tr style=\"text-align: right;\">\n",
       "      <th></th>\n",
       "      <th>method</th>\n",
       "      <th>qty_clusters</th>\n",
       "    </tr>\n",
       "  </thead>\n",
       "  <tbody>\n",
       "    <tr>\n",
       "      <th>0</th>\n",
       "      <td>Gap Statistic</td>\n",
       "      <td>13.0</td>\n",
       "    </tr>\n",
       "    <tr>\n",
       "      <th>1</th>\n",
       "      <td>Elbow</td>\n",
       "      <td>10.0</td>\n",
       "    </tr>\n",
       "    <tr>\n",
       "      <th>2</th>\n",
       "      <td>Calinski</td>\n",
       "      <td>2.0</td>\n",
       "    </tr>\n",
       "    <tr>\n",
       "      <th>3</th>\n",
       "      <td>Davies</td>\n",
       "      <td>2.0</td>\n",
       "    </tr>\n",
       "    <tr>\n",
       "      <th>4</th>\n",
       "      <td>Silhouette</td>\n",
       "      <td>2.0</td>\n",
       "    </tr>\n",
       "  </tbody>\n",
       "</table>\n",
       "</div>"
      ],
      "text/plain": [
       "          method  qty_clusters\n",
       "0  Gap Statistic          13.0\n",
       "1          Elbow          10.0\n",
       "2       Calinski           2.0\n",
       "3         Davies           2.0\n",
       "4     Silhouette           2.0"
      ]
     },
     "metadata": {},
     "output_type": "display_data"
    }
   ],
   "source": [
    "display(suggestions[0])"
   ]
  },
  {
   "cell_type": "code",
   "execution_count": 9,
   "id": "821ba823cc37568d",
   "metadata": {
    "ExecuteTime": {
     "end_time": "2025-08-31T23:00:35.874871Z",
     "start_time": "2025-08-31T23:00:35.636965Z"
    }
   },
   "outputs": [
    {
     "data": {
      "text/html": [
       "<div>\n",
       "<style scoped>\n",
       "    .dataframe tbody tr th:only-of-type {\n",
       "        vertical-align: middle;\n",
       "    }\n",
       "\n",
       "    .dataframe tbody tr th {\n",
       "        vertical-align: top;\n",
       "    }\n",
       "\n",
       "    .dataframe thead th {\n",
       "        text-align: right;\n",
       "    }\n",
       "</style>\n",
       "<table border=\"1\" class=\"dataframe\">\n",
       "  <thead>\n",
       "    <tr style=\"text-align: right;\">\n",
       "      <th></th>\n",
       "      <th>cluster</th>\n",
       "      <th>num_clusters</th>\n",
       "      <th>silhouette_score</th>\n",
       "    </tr>\n",
       "  </thead>\n",
       "  <tbody>\n",
       "    <tr>\n",
       "      <th>0</th>\n",
       "      <td>10 groups</td>\n",
       "      <td>10</td>\n",
       "      <td>0.151253</td>\n",
       "    </tr>\n",
       "    <tr>\n",
       "      <th>1</th>\n",
       "      <td>2 groups</td>\n",
       "      <td>2</td>\n",
       "      <td>0.423558</td>\n",
       "    </tr>\n",
       "    <tr>\n",
       "      <th>2</th>\n",
       "      <td>13 groups</td>\n",
       "      <td>13</td>\n",
       "      <td>0.154136</td>\n",
       "    </tr>\n",
       "  </tbody>\n",
       "</table>\n",
       "</div>"
      ],
      "text/plain": [
       "     cluster  num_clusters  silhouette_score\n",
       "0  10 groups            10          0.151253\n",
       "1   2 groups             2          0.423558\n",
       "2  13 groups            13          0.154136"
      ]
     },
     "execution_count": 9,
     "metadata": {},
     "output_type": "execute_result"
    }
   ],
   "source": [
    "cluster_suggestions = set(\n",
    "  suggestions[0]['qty_clusters'].astype(int).values.tolist())\n",
    "\n",
    "cluster_evaluations = [\n",
    "  evaluate_cluster(df_processed, k)\n",
    "  for k in\n",
    "  cluster_suggestions]\n",
    "\n",
    "df_evaluates = pd.DataFrame(cluster_evaluations,\n",
    "                            columns=['cluster', 'num_clusters',\n",
    "                                     'silhouette_score'])\n",
    "df_evaluates"
   ]
  },
  {
   "cell_type": "code",
   "execution_count": 10,
   "id": "b267cd69",
   "metadata": {
    "ExecuteTime": {
     "end_time": "2025-08-31T23:00:36.444307Z",
     "start_time": "2025-08-31T23:00:36.327631Z"
    }
   },
   "outputs": [
    {
     "data": {
      "text/plain": [
       "{'cluster': '10 groups',\n",
       " 'num_clusters': 10,\n",
       " 'labels': array([4, 8, 4, 8, 8, 9, 4, 4, 4, 9, 9, 9, 9, 3, 3, 3, 3, 8, 8, 3, 4, 0,\n",
       "        0, 0, 4, 4, 0, 0, 0, 4, 9, 4, 0, 3, 4, 3, 3, 3, 3, 3, 3, 4, 3, 4,\n",
       "        0, 0, 0, 6, 4, 8, 4, 4, 8, 8, 4, 7, 7, 7, 4, 8, 8, 4, 4, 4, 7, 7,\n",
       "        7, 7, 0, 0, 4, 0, 7, 7, 7, 0, 7, 8, 7, 0, 4, 0, 0, 3, 3, 2, 0, 7,\n",
       "        7, 4, 4, 4, 8, 8, 0, 0, 0, 0, 0, 0, 3, 0, 4, 8, 3, 4, 3, 2, 0, 4,\n",
       "        8, 0, 6, 1, 1, 5, 1, 1, 5, 5, 5, 6, 6, 2, 2, 6, 3, 2, 2, 0, 4, 0,\n",
       "        4, 4, 4, 0, 2, 4, 2, 2, 6, 1, 0, 0, 2, 0, 0, 0, 0, 0, 0, 0, 0, 0,\n",
       "        0, 0, 2, 0, 0, 2, 0, 2, 0, 2, 2, 0, 0, 0, 0, 0, 0, 2, 2, 0, 2, 2,\n",
       "        0, 2, 0, 0, 0, 0, 0, 0, 0, 0, 2, 2, 6, 1, 1, 2, 4, 0, 0, 4, 4, 4,\n",
       "        4, 4, 8, 7, 8, 4, 8, 3, 7, 4, 6, 2, 0, 0, 0, 4, 4, 3, 4, 4, 8, 8,\n",
       "        8, 0, 2, 2, 0, 0, 0, 2, 0, 2, 0, 2, 0, 2, 1, 1, 0, 2, 2, 0, 0, 0,\n",
       "        0, 2, 0, 2, 6, 0, 0, 8, 5, 1, 5, 5, 0, 1, 1, 1, 4, 6, 6, 7, 1, 0,\n",
       "        0, 4, 5, 2, 1, 5, 5, 0, 1, 1, 1, 1, 1, 1, 2, 2, 0, 2, 2, 2, 0, 2,\n",
       "        0, 0, 4, 0, 4, 4, 4, 6, 6, 4, 2, 2, 0, 6, 4, 0, 0, 0, 2, 2, 1, 1,\n",
       "        0, 1, 1, 1, 6, 1, 6, 4, 0, 0, 2, 0, 6, 1, 1, 1, 5, 1, 1, 5, 3, 1,\n",
       "        1, 2, 1, 6, 1, 6, 6, 1, 1, 5, 4, 3, 1, 5, 1, 2, 2, 2, 2, 0, 0, 0,\n",
       "        1, 1, 6, 0, 0, 6, 0, 3, 1, 1, 6, 2, 2, 1, 1, 6, 6, 0, 7, 0, 2, 0,\n",
       "        1, 2, 5, 2, 0, 0, 0, 7, 6, 4, 4, 6, 2, 2, 0, 0, 6, 2, 2, 2, 2, 2,\n",
       "        2, 0, 0, 5, 5, 5, 5, 5, 5, 5, 6, 2, 2, 2, 2, 2, 0, 5, 1, 1, 5, 5,\n",
       "        1, 7, 2, 6, 1, 1, 5, 5, 5, 5, 5, 5, 5, 5, 1, 1, 1, 1, 5, 5, 5, 5,\n",
       "        5, 1, 1, 1, 1, 5, 5, 5, 5, 5, 5, 5, 5, 1, 5, 1, 1, 1, 1, 1, 5, 5,\n",
       "        5, 5, 5, 1, 1, 5, 5, 5, 1, 1, 5, 5, 1, 5, 5, 5, 1, 5, 5, 5, 5],\n",
       "       dtype=int32),\n",
       " 'silhouette_score': 0.15125330726422598,\n",
       " 'davies_bouldin_score': 1.6536976600890605,\n",
       " 'dunn_score': np.float64(0.1856276252415942),\n",
       " 'silhouettes': array([ 0.22856984,  0.09633187,  0.08691262, -0.0146075 ,  0.20594127,\n",
       "         0.45154239,  0.22196477,  0.05828323,  0.17160492,  0.37643057,\n",
       "         0.20472061,  0.41276396,  0.07446419,  0.22200093,  0.18284451,\n",
       "         0.27380657,  0.18519618,  0.03959676,  0.06165724,  0.01276511,\n",
       "         0.09257861,  0.24297016,  0.25293867,  0.33628528,  0.06057645,\n",
       "         0.24091624,  0.11232377,  0.27630128,  0.24847153,  0.20073071,\n",
       "         0.16481908, -0.00780015,  0.16513368,  0.08549427,  0.1497876 ,\n",
       "         0.05046329,  0.00914551,  0.3448254 ,  0.2491157 ,  0.15323067,\n",
       "         0.30912154,  0.10624789,  0.23527493,  0.14232707,  0.10244818,\n",
       "         0.25227202,  0.13762853,  0.20548525,  0.22693632,  0.02381128,\n",
       "         0.26558682,  0.27514043,  0.1474604 ,  0.38623033,  0.10698963,\n",
       "         0.30160655,  0.36017989,  0.0245929 ,  0.14773839,  0.23190603,\n",
       "         0.15819469,  0.10941243,  0.09355437,  0.15558308,  0.15959371,\n",
       "         0.36494207,  0.22801613,  0.27835823,  0.21520824,  0.25931842,\n",
       "         0.24137805,  0.25095301,  0.3044361 , -0.04881033,  0.04888626,\n",
       "         0.32013639, -0.18198008,  0.12550696,  0.19495768,  0.10365071,\n",
       "        -0.0665661 ,  0.23790778,  0.1259183 , -0.07667742,  0.26040408,\n",
       "         0.10915769,  0.16318291,  0.01848865, -0.11538024,  0.02952744,\n",
       "         0.00418385,  0.05228201,  0.4008022 ,  0.37056261,  0.14657767,\n",
       "         0.34257771,  0.19782154,  0.11615869,  0.08592052,  0.15636203,\n",
       "        -0.00167681,  0.26131915,  0.01014503,  0.33047074,  0.2960999 ,\n",
       "         0.12639212,  0.10968271,  0.00844892,  0.09989779,  0.06215967,\n",
       "         0.19145078,  0.24817203,  0.15803768,  0.12263646,  0.33515766,\n",
       "         0.00445474,  0.09356278,  0.28328575,  0.00991831,  0.07269945,\n",
       "        -0.02597113,  0.2287609 ,  0.32708635,  0.07811178,  0.18229783,\n",
       "         0.16409737,  0.00880256,  0.00910385,  0.04893911,  0.26891847,\n",
       "         0.13953603,  0.07586281,  0.02279085,  0.25409361, -0.07575609,\n",
       "         0.14033884,  0.16683044,  0.08015879,  0.01980207,  0.15716445,\n",
       "         0.21030296,  0.16793745,  0.12560442,  0.2705536 , -0.04255713,\n",
       "         0.14153497,  0.31662287,  0.30071117,  0.2545357 ,  0.29756662,\n",
       "         0.24441845,  0.31481823,  0.17703839,  0.2076896 ,  0.26229179,\n",
       "         0.32908468, -0.0015553 ,  0.30417063,  0.24014243,  0.04099299,\n",
       "         0.15147859,  0.05359509,  0.2725719 , -0.01164354, -0.04384772,\n",
       "         0.35578589,  0.32403902,  0.35661107,  0.07015071,  0.19640579,\n",
       "         0.35566771,  0.12851276,  0.23407601,  0.16438189,  0.0399039 ,\n",
       "         0.15330179,  0.10077921, -0.00963793,  0.18829122,  0.16726149,\n",
       "         0.21820509,  0.11671905,  0.34421396,  0.29525183,  0.18060705,\n",
       "         0.08240064,  0.19944307,  0.20263393,  0.06406816,  0.21732816,\n",
       "         0.1348014 ,  0.18952699, -0.00231548,  0.04674381,  0.10123991,\n",
       "        -0.00901416,  0.23619758,  0.18358509,  0.14628032,  0.07945866,\n",
       "         0.22202998,  0.10877729,  0.09515018,  0.16668417,  0.35319072,\n",
       "         0.16467985, -0.03069444,  0.15028045,  0.03923211, -0.03448677,\n",
       "         0.23885014,  0.2953741 ,  0.36379103,  0.06820072,  0.16887258,\n",
       "        -0.02713496,  0.21501414,  0.24366933,  0.41272872,  0.30189035,\n",
       "         0.31402131,  0.09410985,  0.09877895,  0.1500057 ,  0.16252744,\n",
       "         0.25648397,  0.26034321, -0.00330945,  0.12275635,  0.08367689,\n",
       "         0.31619627,  0.04249363,  0.23521996,  0.0093007 ,  0.20589573,\n",
       "         0.17698852,  0.28618151,  0.11860693,  0.12510463,  0.1999683 ,\n",
       "         0.22932503,  0.36023968,  0.2639047 ,  0.07275438,  0.04003229,\n",
       "         0.01184344, -0.01314182,  0.25365173,  0.18725751,  0.16790696,\n",
       "         0.03410386,  0.17401486,  0.06306123,  0.05123339,  0.14916509,\n",
       "         0.32590483,  0.2567421 ,  0.21862278,  0.07431506,  0.22383735,\n",
       "         0.25196107, -0.13208252,  0.32967433,  0.26684154,  0.24184983,\n",
       "         0.00749033,  0.0237572 ,  0.18312191,  0.16433347,  0.11890268,\n",
       "        -0.01245775,  0.21449527,  0.04027886,  0.19761865,  0.20304359,\n",
       "         0.24536465,  0.29050821,  0.32878346,  0.26286799, -0.08378325,\n",
       "         0.13923937, -0.05888826, -0.03280253,  0.08307659,  0.16721322,\n",
       "         0.13113031,  0.23364798,  0.23129146,  0.01889051,  0.0980282 ,\n",
       "         0.15420887,  0.12165629,  0.06564801,  0.14068162,  0.27116653,\n",
       "         0.02056063,  0.16718786,  0.05807449,  0.07618703, -0.08101675,\n",
       "        -0.0008641 ,  0.08802973,  0.21649176,  0.14213421,  0.12533034,\n",
       "        -0.0733591 ,  0.21635864,  0.06863595,  0.05355539,  0.34055847,\n",
       "         0.26567834,  0.1786399 ,  0.21781011,  0.23164748, -0.03406678,\n",
       "         0.02828041,  0.30632517,  0.18967746,  0.00841328,  0.03622206,\n",
       "         0.30325477,  0.31621846,  0.06737994,  0.20054177, -0.00444793,\n",
       "         0.18136045,  0.05562308,  0.07794271,  0.24575086,  0.16755481,\n",
       "         0.19729474,  0.12600737,  0.19088047,  0.02321925,  0.13981801,\n",
       "         0.28502956,  0.22129008,  0.06211936,  0.17079796, -0.00358662,\n",
       "         0.00306112,  0.17179216,  0.05902302,  0.00048644,  0.07598521,\n",
       "        -0.00322869,  0.1993233 , -0.02897314,  0.10291567,  0.06979703,\n",
       "         0.14741345,  0.11143867,  0.09493716,  0.17799842,  0.05554672,\n",
       "         0.19230218,  0.33135215,  0.21073155,  0.10142488,  0.02492194,\n",
       "         0.18085613,  0.19003071,  0.11788057,  0.19328568,  0.03022345,\n",
       "         0.14049001,  0.07659147,  0.37722827,  0.31027369,  0.28385476,\n",
       "        -0.00313791,  0.15670055,  0.18683128,  0.27319202,  0.02469442,\n",
       "        -0.02772259,  0.08330415,  0.04669903,  0.24640369,  0.34289875,\n",
       "         0.17214119, -0.1804355 ,  0.10745496,  0.11907952,  0.18012516,\n",
       "         0.08342218,  0.11283186, -0.0789989 ,  0.10462595,  0.27840798,\n",
       "         0.26210804,  0.07526529,  0.2081047 ,  0.19622625,  0.14362442,\n",
       "         0.13180961,  0.07818946,  0.11436727,  0.18144055,  0.21723154,\n",
       "         0.10681328,  0.17573559,  0.2160426 , -0.01335343,  0.2418837 ,\n",
       "         0.3100599 ,  0.02475188,  0.23464715,  0.17528281, -0.07628482,\n",
       "        -0.04154759,  0.01621851,  0.09913971,  0.1058078 ,  0.15818767,\n",
       "        -0.00255133,  0.0418222 , -0.00124556,  0.24995706,  0.11977188,\n",
       "        -0.02413907,  0.281633  ,  0.32346281,  0.32444421,  0.00513702,\n",
       "         0.06048285,  0.15286655,  0.13607758,  0.03910911,  0.10809095,\n",
       "         0.18009939, -0.004488  ,  0.3411596 ,  0.25580324,  0.17140299,\n",
       "         0.1828354 ,  0.15392877, -0.05750074,  0.12794644,  0.07292405,\n",
       "         0.1760353 ,  0.07903911,  0.2880074 ,  0.14629911,  0.30218899,\n",
       "         0.01945152,  0.08562793,  0.2740318 ,  0.20433937,  0.02144467,\n",
       "         0.14877393,  0.14572441,  0.18230981,  0.08317059,  0.11899801,\n",
       "         0.04418064,  0.16172242,  0.19186704,  0.22952942,  0.20003593,\n",
       "         0.1556503 ,  0.20372904,  0.25359114,  0.05637206, -0.036674  ,\n",
       "         0.25904116,  0.31261185,  0.09216187,  0.29229616,  0.27097467,\n",
       "         0.2158866 ,  0.12724935,  0.26720429,  0.17052347,  0.10946206,\n",
       "         0.11063695,  0.23610886,  0.11854522,  0.21380706,  0.01458249,\n",
       "         0.11805241,  0.20279807,  0.24533317]),\n",
       " 'details': [{'group': 'C1',\n",
       "   'count': np.int64(117),\n",
       "   'score': np.float64(0.20548781320100973),\n",
       "   'centroids': array([[0.42616939, 0.95606134, 0.61605956, 0.67571489, 0.86253048,\n",
       "           0.01439928, 0.55402651, 0.94782029, 0.85860513, 0.98589513,\n",
       "           0.0322496 , 0.96173333, 0.99547243, 0.47743458, 0.37512745],\n",
       "          [0.39651515, 0.95039264, 0.60629275, 0.62598594, 0.83144564,\n",
       "           0.01175542, 0.45977275, 0.96216763, 0.81112222, 0.9931597 ,\n",
       "           0.01540762, 0.05843889, 0.9212102 , 0.5936869 , 0.4415705 ],\n",
       "          [0.37231169, 0.92228752, 0.58213322, 0.5702381 , 0.75866658,\n",
       "           0.00274852, 0.40650579, 0.89430929, 0.6948    , 0.99254435,\n",
       "           0.01039246, 0.93290429, 0.99892234, 0.54802091, 0.45937463],\n",
       "          [0.38242424, 0.94857595, 0.58712428, 0.76748971, 0.87041517,\n",
       "           0.26377688, 0.82611746, 0.90822706, 0.93351667, 0.99670066,\n",
       "           0.44496709, 0.90775417, 0.98378348, 0.64589038, 0.4242332 ],\n",
       "          [0.48714734, 0.95850611, 0.64808781, 0.6607599 , 0.88335299,\n",
       "           0.09077546, 0.79735644, 0.96309853, 0.94843448, 0.97090582,\n",
       "           0.09768175, 0.97938448, 0.94800745, 0.53859459, 0.24852108],\n",
       "          [0.33960227, 0.8786755 , 0.5323257 , 0.51533565, 0.69782994,\n",
       "           0.00114607, 0.34808017, 0.8855964 , 0.5974625 , 0.97782319,\n",
       "           0.00730362, 0.03985156, 0.96964136, 0.62477245, 0.4845955 ],\n",
       "          [0.38157576, 0.94650141, 0.59850612, 0.58940329, 0.82252475,\n",
       "           0.01344086, 0.5448614 , 0.95436359, 0.84217333, 0.99328134,\n",
       "           0.02686466, 0.56322   , 0.96306551, 0.60756784, 0.3407558 ],\n",
       "          [0.59254545, 0.49818038, 0.81958693, 0.77330247, 0.58491224,\n",
       "           0.03302611, 0.65007796, 0.90333833, 0.94226   , 0.97120576,\n",
       "           0.04609349, 0.93103   , 0.89993209, 0.27034478, 0.3748298 ],\n",
       "          [0.5568595 , 0.93929804, 0.71174283, 0.72390572, 0.87305662,\n",
       "           0.11009286, 0.82641278, 0.91393303, 0.97143636, 0.99820036,\n",
       "           0.04310742, 0.96892273, 0.41781518, 0.55525947, 0.26682134],\n",
       "          [0.49454545, 0.9777602 , 0.62670986, 0.76954733, 0.93133063,\n",
       "           0.64362519, 0.96852044, 0.95186297, 0.98566667, 1.        ,\n",
       "           0.58130836, 0.99651667, 0.54948978, 0.7330512 , 0.16509963]])},\n",
       "  {'group': 'C2',\n",
       "   'count': np.int64(72),\n",
       "   'score': np.float64(0.18823608954123522),\n",
       "   'centroids': array([[0.42616939, 0.95606134, 0.61605956, 0.67571489, 0.86253048,\n",
       "           0.01439928, 0.55402651, 0.94782029, 0.85860513, 0.98589513,\n",
       "           0.0322496 , 0.96173333, 0.99547243, 0.47743458, 0.37512745],\n",
       "          [0.39651515, 0.95039264, 0.60629275, 0.62598594, 0.83144564,\n",
       "           0.01175542, 0.45977275, 0.96216763, 0.81112222, 0.9931597 ,\n",
       "           0.01540762, 0.05843889, 0.9212102 , 0.5936869 , 0.4415705 ],\n",
       "          [0.37231169, 0.92228752, 0.58213322, 0.5702381 , 0.75866658,\n",
       "           0.00274852, 0.40650579, 0.89430929, 0.6948    , 0.99254435,\n",
       "           0.01039246, 0.93290429, 0.99892234, 0.54802091, 0.45937463],\n",
       "          [0.38242424, 0.94857595, 0.58712428, 0.76748971, 0.87041517,\n",
       "           0.26377688, 0.82611746, 0.90822706, 0.93351667, 0.99670066,\n",
       "           0.44496709, 0.90775417, 0.98378348, 0.64589038, 0.4242332 ],\n",
       "          [0.48714734, 0.95850611, 0.64808781, 0.6607599 , 0.88335299,\n",
       "           0.09077546, 0.79735644, 0.96309853, 0.94843448, 0.97090582,\n",
       "           0.09768175, 0.97938448, 0.94800745, 0.53859459, 0.24852108],\n",
       "          [0.33960227, 0.8786755 , 0.5323257 , 0.51533565, 0.69782994,\n",
       "           0.00114607, 0.34808017, 0.8855964 , 0.5974625 , 0.97782319,\n",
       "           0.00730362, 0.03985156, 0.96964136, 0.62477245, 0.4845955 ],\n",
       "          [0.38157576, 0.94650141, 0.59850612, 0.58940329, 0.82252475,\n",
       "           0.01344086, 0.5448614 , 0.95436359, 0.84217333, 0.99328134,\n",
       "           0.02686466, 0.56322   , 0.96306551, 0.60756784, 0.3407558 ],\n",
       "          [0.59254545, 0.49818038, 0.81958693, 0.77330247, 0.58491224,\n",
       "           0.03302611, 0.65007796, 0.90333833, 0.94226   , 0.97120576,\n",
       "           0.04609349, 0.93103   , 0.89993209, 0.27034478, 0.3748298 ],\n",
       "          [0.5568595 , 0.93929804, 0.71174283, 0.72390572, 0.87305662,\n",
       "           0.11009286, 0.82641278, 0.91393303, 0.97143636, 0.99820036,\n",
       "           0.04310742, 0.96892273, 0.41781518, 0.55525947, 0.26682134],\n",
       "          [0.49454545, 0.9777602 , 0.62670986, 0.76954733, 0.93133063,\n",
       "           0.64362519, 0.96852044, 0.95186297, 0.98566667, 1.        ,\n",
       "           0.58130836, 0.99651667, 0.54948978, 0.7330512 , 0.16509963]])},\n",
       "  {'group': 'C3',\n",
       "   'count': np.int64(70),\n",
       "   'score': np.float64(0.07620472501899951),\n",
       "   'centroids': array([[0.42616939, 0.95606134, 0.61605956, 0.67571489, 0.86253048,\n",
       "           0.01439928, 0.55402651, 0.94782029, 0.85860513, 0.98589513,\n",
       "           0.0322496 , 0.96173333, 0.99547243, 0.47743458, 0.37512745],\n",
       "          [0.39651515, 0.95039264, 0.60629275, 0.62598594, 0.83144564,\n",
       "           0.01175542, 0.45977275, 0.96216763, 0.81112222, 0.9931597 ,\n",
       "           0.01540762, 0.05843889, 0.9212102 , 0.5936869 , 0.4415705 ],\n",
       "          [0.37231169, 0.92228752, 0.58213322, 0.5702381 , 0.75866658,\n",
       "           0.00274852, 0.40650579, 0.89430929, 0.6948    , 0.99254435,\n",
       "           0.01039246, 0.93290429, 0.99892234, 0.54802091, 0.45937463],\n",
       "          [0.38242424, 0.94857595, 0.58712428, 0.76748971, 0.87041517,\n",
       "           0.26377688, 0.82611746, 0.90822706, 0.93351667, 0.99670066,\n",
       "           0.44496709, 0.90775417, 0.98378348, 0.64589038, 0.4242332 ],\n",
       "          [0.48714734, 0.95850611, 0.64808781, 0.6607599 , 0.88335299,\n",
       "           0.09077546, 0.79735644, 0.96309853, 0.94843448, 0.97090582,\n",
       "           0.09768175, 0.97938448, 0.94800745, 0.53859459, 0.24852108],\n",
       "          [0.33960227, 0.8786755 , 0.5323257 , 0.51533565, 0.69782994,\n",
       "           0.00114607, 0.34808017, 0.8855964 , 0.5974625 , 0.97782319,\n",
       "           0.00730362, 0.03985156, 0.96964136, 0.62477245, 0.4845955 ],\n",
       "          [0.38157576, 0.94650141, 0.59850612, 0.58940329, 0.82252475,\n",
       "           0.01344086, 0.5448614 , 0.95436359, 0.84217333, 0.99328134,\n",
       "           0.02686466, 0.56322   , 0.96306551, 0.60756784, 0.3407558 ],\n",
       "          [0.59254545, 0.49818038, 0.81958693, 0.77330247, 0.58491224,\n",
       "           0.03302611, 0.65007796, 0.90333833, 0.94226   , 0.97120576,\n",
       "           0.04609349, 0.93103   , 0.89993209, 0.27034478, 0.3748298 ],\n",
       "          [0.5568595 , 0.93929804, 0.71174283, 0.72390572, 0.87305662,\n",
       "           0.11009286, 0.82641278, 0.91393303, 0.97143636, 0.99820036,\n",
       "           0.04310742, 0.96892273, 0.41781518, 0.55525947, 0.26682134],\n",
       "          [0.49454545, 0.9777602 , 0.62670986, 0.76954733, 0.93133063,\n",
       "           0.64362519, 0.96852044, 0.95186297, 0.98566667, 1.        ,\n",
       "           0.58130836, 0.99651667, 0.54948978, 0.7330512 , 0.16509963]])},\n",
       "  {'group': 'C4',\n",
       "   'count': np.int64(24),\n",
       "   'score': np.float64(0.14541372762076735),\n",
       "   'centroids': array([[0.42616939, 0.95606134, 0.61605956, 0.67571489, 0.86253048,\n",
       "           0.01439928, 0.55402651, 0.94782029, 0.85860513, 0.98589513,\n",
       "           0.0322496 , 0.96173333, 0.99547243, 0.47743458, 0.37512745],\n",
       "          [0.39651515, 0.95039264, 0.60629275, 0.62598594, 0.83144564,\n",
       "           0.01175542, 0.45977275, 0.96216763, 0.81112222, 0.9931597 ,\n",
       "           0.01540762, 0.05843889, 0.9212102 , 0.5936869 , 0.4415705 ],\n",
       "          [0.37231169, 0.92228752, 0.58213322, 0.5702381 , 0.75866658,\n",
       "           0.00274852, 0.40650579, 0.89430929, 0.6948    , 0.99254435,\n",
       "           0.01039246, 0.93290429, 0.99892234, 0.54802091, 0.45937463],\n",
       "          [0.38242424, 0.94857595, 0.58712428, 0.76748971, 0.87041517,\n",
       "           0.26377688, 0.82611746, 0.90822706, 0.93351667, 0.99670066,\n",
       "           0.44496709, 0.90775417, 0.98378348, 0.64589038, 0.4242332 ],\n",
       "          [0.48714734, 0.95850611, 0.64808781, 0.6607599 , 0.88335299,\n",
       "           0.09077546, 0.79735644, 0.96309853, 0.94843448, 0.97090582,\n",
       "           0.09768175, 0.97938448, 0.94800745, 0.53859459, 0.24852108],\n",
       "          [0.33960227, 0.8786755 , 0.5323257 , 0.51533565, 0.69782994,\n",
       "           0.00114607, 0.34808017, 0.8855964 , 0.5974625 , 0.97782319,\n",
       "           0.00730362, 0.03985156, 0.96964136, 0.62477245, 0.4845955 ],\n",
       "          [0.38157576, 0.94650141, 0.59850612, 0.58940329, 0.82252475,\n",
       "           0.01344086, 0.5448614 , 0.95436359, 0.84217333, 0.99328134,\n",
       "           0.02686466, 0.56322   , 0.96306551, 0.60756784, 0.3407558 ],\n",
       "          [0.59254545, 0.49818038, 0.81958693, 0.77330247, 0.58491224,\n",
       "           0.03302611, 0.65007796, 0.90333833, 0.94226   , 0.97120576,\n",
       "           0.04609349, 0.93103   , 0.89993209, 0.27034478, 0.3748298 ],\n",
       "          [0.5568595 , 0.93929804, 0.71174283, 0.72390572, 0.87305662,\n",
       "           0.11009286, 0.82641278, 0.91393303, 0.97143636, 0.99820036,\n",
       "           0.04310742, 0.96892273, 0.41781518, 0.55525947, 0.26682134],\n",
       "          [0.49454545, 0.9777602 , 0.62670986, 0.76954733, 0.93133063,\n",
       "           0.64362519, 0.96852044, 0.95186297, 0.98566667, 1.        ,\n",
       "           0.58130836, 0.99651667, 0.54948978, 0.7330512 , 0.16509963]])},\n",
       "  {'group': 'C5',\n",
       "   'count': np.int64(58),\n",
       "   'score': np.float64(0.11126434047827125),\n",
       "   'centroids': array([[0.42616939, 0.95606134, 0.61605956, 0.67571489, 0.86253048,\n",
       "           0.01439928, 0.55402651, 0.94782029, 0.85860513, 0.98589513,\n",
       "           0.0322496 , 0.96173333, 0.99547243, 0.47743458, 0.37512745],\n",
       "          [0.39651515, 0.95039264, 0.60629275, 0.62598594, 0.83144564,\n",
       "           0.01175542, 0.45977275, 0.96216763, 0.81112222, 0.9931597 ,\n",
       "           0.01540762, 0.05843889, 0.9212102 , 0.5936869 , 0.4415705 ],\n",
       "          [0.37231169, 0.92228752, 0.58213322, 0.5702381 , 0.75866658,\n",
       "           0.00274852, 0.40650579, 0.89430929, 0.6948    , 0.99254435,\n",
       "           0.01039246, 0.93290429, 0.99892234, 0.54802091, 0.45937463],\n",
       "          [0.38242424, 0.94857595, 0.58712428, 0.76748971, 0.87041517,\n",
       "           0.26377688, 0.82611746, 0.90822706, 0.93351667, 0.99670066,\n",
       "           0.44496709, 0.90775417, 0.98378348, 0.64589038, 0.4242332 ],\n",
       "          [0.48714734, 0.95850611, 0.64808781, 0.6607599 , 0.88335299,\n",
       "           0.09077546, 0.79735644, 0.96309853, 0.94843448, 0.97090582,\n",
       "           0.09768175, 0.97938448, 0.94800745, 0.53859459, 0.24852108],\n",
       "          [0.33960227, 0.8786755 , 0.5323257 , 0.51533565, 0.69782994,\n",
       "           0.00114607, 0.34808017, 0.8855964 , 0.5974625 , 0.97782319,\n",
       "           0.00730362, 0.03985156, 0.96964136, 0.62477245, 0.4845955 ],\n",
       "          [0.38157576, 0.94650141, 0.59850612, 0.58940329, 0.82252475,\n",
       "           0.01344086, 0.5448614 , 0.95436359, 0.84217333, 0.99328134,\n",
       "           0.02686466, 0.56322   , 0.96306551, 0.60756784, 0.3407558 ],\n",
       "          [0.59254545, 0.49818038, 0.81958693, 0.77330247, 0.58491224,\n",
       "           0.03302611, 0.65007796, 0.90333833, 0.94226   , 0.97120576,\n",
       "           0.04609349, 0.93103   , 0.89993209, 0.27034478, 0.3748298 ],\n",
       "          [0.5568595 , 0.93929804, 0.71174283, 0.72390572, 0.87305662,\n",
       "           0.11009286, 0.82641278, 0.91393303, 0.97143636, 0.99820036,\n",
       "           0.04310742, 0.96892273, 0.41781518, 0.55525947, 0.26682134],\n",
       "          [0.49454545, 0.9777602 , 0.62670986, 0.76954733, 0.93133063,\n",
       "           0.64362519, 0.96852044, 0.95186297, 0.98566667, 1.        ,\n",
       "           0.58130836, 0.99651667, 0.54948978, 0.7330512 , 0.16509963]])},\n",
       "  {'group': 'C6',\n",
       "   'count': np.int64(64),\n",
       "   'score': np.float64(0.10964836295934434),\n",
       "   'centroids': array([[0.42616939, 0.95606134, 0.61605956, 0.67571489, 0.86253048,\n",
       "           0.01439928, 0.55402651, 0.94782029, 0.85860513, 0.98589513,\n",
       "           0.0322496 , 0.96173333, 0.99547243, 0.47743458, 0.37512745],\n",
       "          [0.39651515, 0.95039264, 0.60629275, 0.62598594, 0.83144564,\n",
       "           0.01175542, 0.45977275, 0.96216763, 0.81112222, 0.9931597 ,\n",
       "           0.01540762, 0.05843889, 0.9212102 , 0.5936869 , 0.4415705 ],\n",
       "          [0.37231169, 0.92228752, 0.58213322, 0.5702381 , 0.75866658,\n",
       "           0.00274852, 0.40650579, 0.89430929, 0.6948    , 0.99254435,\n",
       "           0.01039246, 0.93290429, 0.99892234, 0.54802091, 0.45937463],\n",
       "          [0.38242424, 0.94857595, 0.58712428, 0.76748971, 0.87041517,\n",
       "           0.26377688, 0.82611746, 0.90822706, 0.93351667, 0.99670066,\n",
       "           0.44496709, 0.90775417, 0.98378348, 0.64589038, 0.4242332 ],\n",
       "          [0.48714734, 0.95850611, 0.64808781, 0.6607599 , 0.88335299,\n",
       "           0.09077546, 0.79735644, 0.96309853, 0.94843448, 0.97090582,\n",
       "           0.09768175, 0.97938448, 0.94800745, 0.53859459, 0.24852108],\n",
       "          [0.33960227, 0.8786755 , 0.5323257 , 0.51533565, 0.69782994,\n",
       "           0.00114607, 0.34808017, 0.8855964 , 0.5974625 , 0.97782319,\n",
       "           0.00730362, 0.03985156, 0.96964136, 0.62477245, 0.4845955 ],\n",
       "          [0.38157576, 0.94650141, 0.59850612, 0.58940329, 0.82252475,\n",
       "           0.01344086, 0.5448614 , 0.95436359, 0.84217333, 0.99328134,\n",
       "           0.02686466, 0.56322   , 0.96306551, 0.60756784, 0.3407558 ],\n",
       "          [0.59254545, 0.49818038, 0.81958693, 0.77330247, 0.58491224,\n",
       "           0.03302611, 0.65007796, 0.90333833, 0.94226   , 0.97120576,\n",
       "           0.04609349, 0.93103   , 0.89993209, 0.27034478, 0.3748298 ],\n",
       "          [0.5568595 , 0.93929804, 0.71174283, 0.72390572, 0.87305662,\n",
       "           0.11009286, 0.82641278, 0.91393303, 0.97143636, 0.99820036,\n",
       "           0.04310742, 0.96892273, 0.41781518, 0.55525947, 0.26682134],\n",
       "          [0.49454545, 0.9777602 , 0.62670986, 0.76954733, 0.93133063,\n",
       "           0.64362519, 0.96852044, 0.95186297, 0.98566667, 1.        ,\n",
       "           0.58130836, 0.99651667, 0.54948978, 0.7330512 , 0.16509963]])},\n",
       "  {'group': 'C7',\n",
       "   'count': np.int64(30),\n",
       "   'score': np.float64(0.1679375550124238),\n",
       "   'centroids': array([[0.42616939, 0.95606134, 0.61605956, 0.67571489, 0.86253048,\n",
       "           0.01439928, 0.55402651, 0.94782029, 0.85860513, 0.98589513,\n",
       "           0.0322496 , 0.96173333, 0.99547243, 0.47743458, 0.37512745],\n",
       "          [0.39651515, 0.95039264, 0.60629275, 0.62598594, 0.83144564,\n",
       "           0.01175542, 0.45977275, 0.96216763, 0.81112222, 0.9931597 ,\n",
       "           0.01540762, 0.05843889, 0.9212102 , 0.5936869 , 0.4415705 ],\n",
       "          [0.37231169, 0.92228752, 0.58213322, 0.5702381 , 0.75866658,\n",
       "           0.00274852, 0.40650579, 0.89430929, 0.6948    , 0.99254435,\n",
       "           0.01039246, 0.93290429, 0.99892234, 0.54802091, 0.45937463],\n",
       "          [0.38242424, 0.94857595, 0.58712428, 0.76748971, 0.87041517,\n",
       "           0.26377688, 0.82611746, 0.90822706, 0.93351667, 0.99670066,\n",
       "           0.44496709, 0.90775417, 0.98378348, 0.64589038, 0.4242332 ],\n",
       "          [0.48714734, 0.95850611, 0.64808781, 0.6607599 , 0.88335299,\n",
       "           0.09077546, 0.79735644, 0.96309853, 0.94843448, 0.97090582,\n",
       "           0.09768175, 0.97938448, 0.94800745, 0.53859459, 0.24852108],\n",
       "          [0.33960227, 0.8786755 , 0.5323257 , 0.51533565, 0.69782994,\n",
       "           0.00114607, 0.34808017, 0.8855964 , 0.5974625 , 0.97782319,\n",
       "           0.00730362, 0.03985156, 0.96964136, 0.62477245, 0.4845955 ],\n",
       "          [0.38157576, 0.94650141, 0.59850612, 0.58940329, 0.82252475,\n",
       "           0.01344086, 0.5448614 , 0.95436359, 0.84217333, 0.99328134,\n",
       "           0.02686466, 0.56322   , 0.96306551, 0.60756784, 0.3407558 ],\n",
       "          [0.59254545, 0.49818038, 0.81958693, 0.77330247, 0.58491224,\n",
       "           0.03302611, 0.65007796, 0.90333833, 0.94226   , 0.97120576,\n",
       "           0.04609349, 0.93103   , 0.89993209, 0.27034478, 0.3748298 ],\n",
       "          [0.5568595 , 0.93929804, 0.71174283, 0.72390572, 0.87305662,\n",
       "           0.11009286, 0.82641278, 0.91393303, 0.97143636, 0.99820036,\n",
       "           0.04310742, 0.96892273, 0.41781518, 0.55525947, 0.26682134],\n",
       "          [0.49454545, 0.9777602 , 0.62670986, 0.76954733, 0.93133063,\n",
       "           0.64362519, 0.96852044, 0.95186297, 0.98566667, 1.        ,\n",
       "           0.58130836, 0.99651667, 0.54948978, 0.7330512 , 0.16509963]])},\n",
       "  {'group': 'C8',\n",
       "   'count': np.int64(20),\n",
       "   'score': np.float64(0.09100431528960493),\n",
       "   'centroids': array([[0.42616939, 0.95606134, 0.61605956, 0.67571489, 0.86253048,\n",
       "           0.01439928, 0.55402651, 0.94782029, 0.85860513, 0.98589513,\n",
       "           0.0322496 , 0.96173333, 0.99547243, 0.47743458, 0.37512745],\n",
       "          [0.39651515, 0.95039264, 0.60629275, 0.62598594, 0.83144564,\n",
       "           0.01175542, 0.45977275, 0.96216763, 0.81112222, 0.9931597 ,\n",
       "           0.01540762, 0.05843889, 0.9212102 , 0.5936869 , 0.4415705 ],\n",
       "          [0.37231169, 0.92228752, 0.58213322, 0.5702381 , 0.75866658,\n",
       "           0.00274852, 0.40650579, 0.89430929, 0.6948    , 0.99254435,\n",
       "           0.01039246, 0.93290429, 0.99892234, 0.54802091, 0.45937463],\n",
       "          [0.38242424, 0.94857595, 0.58712428, 0.76748971, 0.87041517,\n",
       "           0.26377688, 0.82611746, 0.90822706, 0.93351667, 0.99670066,\n",
       "           0.44496709, 0.90775417, 0.98378348, 0.64589038, 0.4242332 ],\n",
       "          [0.48714734, 0.95850611, 0.64808781, 0.6607599 , 0.88335299,\n",
       "           0.09077546, 0.79735644, 0.96309853, 0.94843448, 0.97090582,\n",
       "           0.09768175, 0.97938448, 0.94800745, 0.53859459, 0.24852108],\n",
       "          [0.33960227, 0.8786755 , 0.5323257 , 0.51533565, 0.69782994,\n",
       "           0.00114607, 0.34808017, 0.8855964 , 0.5974625 , 0.97782319,\n",
       "           0.00730362, 0.03985156, 0.96964136, 0.62477245, 0.4845955 ],\n",
       "          [0.38157576, 0.94650141, 0.59850612, 0.58940329, 0.82252475,\n",
       "           0.01344086, 0.5448614 , 0.95436359, 0.84217333, 0.99328134,\n",
       "           0.02686466, 0.56322   , 0.96306551, 0.60756784, 0.3407558 ],\n",
       "          [0.59254545, 0.49818038, 0.81958693, 0.77330247, 0.58491224,\n",
       "           0.03302611, 0.65007796, 0.90333833, 0.94226   , 0.97120576,\n",
       "           0.04609349, 0.93103   , 0.89993209, 0.27034478, 0.3748298 ],\n",
       "          [0.5568595 , 0.93929804, 0.71174283, 0.72390572, 0.87305662,\n",
       "           0.11009286, 0.82641278, 0.91393303, 0.97143636, 0.99820036,\n",
       "           0.04310742, 0.96892273, 0.41781518, 0.55525947, 0.26682134],\n",
       "          [0.49454545, 0.9777602 , 0.62670986, 0.76954733, 0.93133063,\n",
       "           0.64362519, 0.96852044, 0.95186297, 0.98566667, 1.        ,\n",
       "           0.58130836, 0.99651667, 0.54948978, 0.7330512 , 0.16509963]])},\n",
       "  {'group': 'C9',\n",
       "   'count': np.int64(22),\n",
       "   'score': np.float64(0.21010153932327744),\n",
       "   'centroids': array([[0.42616939, 0.95606134, 0.61605956, 0.67571489, 0.86253048,\n",
       "           0.01439928, 0.55402651, 0.94782029, 0.85860513, 0.98589513,\n",
       "           0.0322496 , 0.96173333, 0.99547243, 0.47743458, 0.37512745],\n",
       "          [0.39651515, 0.95039264, 0.60629275, 0.62598594, 0.83144564,\n",
       "           0.01175542, 0.45977275, 0.96216763, 0.81112222, 0.9931597 ,\n",
       "           0.01540762, 0.05843889, 0.9212102 , 0.5936869 , 0.4415705 ],\n",
       "          [0.37231169, 0.92228752, 0.58213322, 0.5702381 , 0.75866658,\n",
       "           0.00274852, 0.40650579, 0.89430929, 0.6948    , 0.99254435,\n",
       "           0.01039246, 0.93290429, 0.99892234, 0.54802091, 0.45937463],\n",
       "          [0.38242424, 0.94857595, 0.58712428, 0.76748971, 0.87041517,\n",
       "           0.26377688, 0.82611746, 0.90822706, 0.93351667, 0.99670066,\n",
       "           0.44496709, 0.90775417, 0.98378348, 0.64589038, 0.4242332 ],\n",
       "          [0.48714734, 0.95850611, 0.64808781, 0.6607599 , 0.88335299,\n",
       "           0.09077546, 0.79735644, 0.96309853, 0.94843448, 0.97090582,\n",
       "           0.09768175, 0.97938448, 0.94800745, 0.53859459, 0.24852108],\n",
       "          [0.33960227, 0.8786755 , 0.5323257 , 0.51533565, 0.69782994,\n",
       "           0.00114607, 0.34808017, 0.8855964 , 0.5974625 , 0.97782319,\n",
       "           0.00730362, 0.03985156, 0.96964136, 0.62477245, 0.4845955 ],\n",
       "          [0.38157576, 0.94650141, 0.59850612, 0.58940329, 0.82252475,\n",
       "           0.01344086, 0.5448614 , 0.95436359, 0.84217333, 0.99328134,\n",
       "           0.02686466, 0.56322   , 0.96306551, 0.60756784, 0.3407558 ],\n",
       "          [0.59254545, 0.49818038, 0.81958693, 0.77330247, 0.58491224,\n",
       "           0.03302611, 0.65007796, 0.90333833, 0.94226   , 0.97120576,\n",
       "           0.04609349, 0.93103   , 0.89993209, 0.27034478, 0.3748298 ],\n",
       "          [0.5568595 , 0.93929804, 0.71174283, 0.72390572, 0.87305662,\n",
       "           0.11009286, 0.82641278, 0.91393303, 0.97143636, 0.99820036,\n",
       "           0.04310742, 0.96892273, 0.41781518, 0.55525947, 0.26682134],\n",
       "          [0.49454545, 0.9777602 , 0.62670986, 0.76954733, 0.93133063,\n",
       "           0.64362519, 0.96852044, 0.95186297, 0.98566667, 1.        ,\n",
       "           0.58130836, 0.99651667, 0.54948978, 0.7330512 , 0.16509963]])},\n",
       "  {'group': 'C10',\n",
       "   'count': np.int64(6),\n",
       "   'score': np.float64(0.2807901340818347),\n",
       "   'centroids': array([[0.42616939, 0.95606134, 0.61605956, 0.67571489, 0.86253048,\n",
       "           0.01439928, 0.55402651, 0.94782029, 0.85860513, 0.98589513,\n",
       "           0.0322496 , 0.96173333, 0.99547243, 0.47743458, 0.37512745],\n",
       "          [0.39651515, 0.95039264, 0.60629275, 0.62598594, 0.83144564,\n",
       "           0.01175542, 0.45977275, 0.96216763, 0.81112222, 0.9931597 ,\n",
       "           0.01540762, 0.05843889, 0.9212102 , 0.5936869 , 0.4415705 ],\n",
       "          [0.37231169, 0.92228752, 0.58213322, 0.5702381 , 0.75866658,\n",
       "           0.00274852, 0.40650579, 0.89430929, 0.6948    , 0.99254435,\n",
       "           0.01039246, 0.93290429, 0.99892234, 0.54802091, 0.45937463],\n",
       "          [0.38242424, 0.94857595, 0.58712428, 0.76748971, 0.87041517,\n",
       "           0.26377688, 0.82611746, 0.90822706, 0.93351667, 0.99670066,\n",
       "           0.44496709, 0.90775417, 0.98378348, 0.64589038, 0.4242332 ],\n",
       "          [0.48714734, 0.95850611, 0.64808781, 0.6607599 , 0.88335299,\n",
       "           0.09077546, 0.79735644, 0.96309853, 0.94843448, 0.97090582,\n",
       "           0.09768175, 0.97938448, 0.94800745, 0.53859459, 0.24852108],\n",
       "          [0.33960227, 0.8786755 , 0.5323257 , 0.51533565, 0.69782994,\n",
       "           0.00114607, 0.34808017, 0.8855964 , 0.5974625 , 0.97782319,\n",
       "           0.00730362, 0.03985156, 0.96964136, 0.62477245, 0.4845955 ],\n",
       "          [0.38157576, 0.94650141, 0.59850612, 0.58940329, 0.82252475,\n",
       "           0.01344086, 0.5448614 , 0.95436359, 0.84217333, 0.99328134,\n",
       "           0.02686466, 0.56322   , 0.96306551, 0.60756784, 0.3407558 ],\n",
       "          [0.59254545, 0.49818038, 0.81958693, 0.77330247, 0.58491224,\n",
       "           0.03302611, 0.65007796, 0.90333833, 0.94226   , 0.97120576,\n",
       "           0.04609349, 0.93103   , 0.89993209, 0.27034478, 0.3748298 ],\n",
       "          [0.5568595 , 0.93929804, 0.71174283, 0.72390572, 0.87305662,\n",
       "           0.11009286, 0.82641278, 0.91393303, 0.97143636, 0.99820036,\n",
       "           0.04310742, 0.96892273, 0.41781518, 0.55525947, 0.26682134],\n",
       "          [0.49454545, 0.9777602 , 0.62670986, 0.76954733, 0.93133063,\n",
       "           0.64362519, 0.96852044, 0.95186297, 0.98566667, 1.        ,\n",
       "           0.58130836, 0.99651667, 0.54948978, 0.7330512 , 0.16509963]])}],\n",
       " 'k_means': KMeans(n_clusters=10, random_state=0)}"
      ]
     },
     "execution_count": 10,
     "metadata": {},
     "output_type": "execute_result"
    }
   ],
   "source": [
    "evaluate_cluster(df_processed, 10)"
   ]
  },
  {
   "cell_type": "code",
   "execution_count": 11,
   "id": "11141c48d1472454",
   "metadata": {
    "ExecuteTime": {
     "end_time": "2025-08-31T23:00:38.402374Z",
     "start_time": "2025-08-31T23:00:36.509816Z"
    }
   },
   "outputs": [
    {
     "name": "stdout",
     "output_type": "stream",
     "text": [
      "For n_clusters = 10 The average silhouette_score is : 0.15\n"
     ]
    },
    {
     "data": {
      "image/png": "[encoded data removed]",
      "text/plain": [
       "<Figure size 1800x700 with 2 Axes>"
      ]
     },
     "metadata": {},
     "output_type": "display_data"
    },
    {
     "name": "stdout",
     "output_type": "stream",
     "text": [
      "For n_clusters = 2 The average silhouette_score is : 0.42\n"
     ]
    },
    {
     "data": {
      "image/png": "[encoded data removed]",
      "text/plain": [
       "<Figure size 1800x700 with 2 Axes>"
      ]
     },
     "metadata": {},
     "output_type": "display_data"
    },
    {
     "name": "stdout",
     "output_type": "stream",
     "text": [
      "For n_clusters = 13 The average silhouette_score is : 0.15\n"
     ]
    },
    {
     "data": {
      "image/png": "[encoded data removed]",
      "text/plain": [
       "<Figure size 1800x700 with 2 Axes>"
      ]
     },
     "metadata": {},
     "output_type": "display_data"
    }
   ],
   "source": [
    "for k in cluster_suggestions:\n",
    "  classification = evaluate_grouping_options(df_processed, k, k)\n",
    "  get_grouping_analysis_graph(classification[0], df_processed)"
   ]
  },
  {
   "cell_type": "markdown",
   "id": "409ee992ddd16331",
   "metadata": {},
   "source": [
    "### Principal Component Analysis (PCA)"
   ]
  },
  {
   "cell_type": "code",
   "execution_count": null,
   "id": "a7d59672015e4e5a",
   "metadata": {
    "ExecuteTime": {
     "end_time": "2025-08-31T23:00:38.851670Z",
     "start_time": "2025-08-31T23:00:38.706292Z"
    }
   },
   "outputs": [
    {
     "data": {
      "application/vnd.plotly.v1+json": {
       "config": {
        "plotlyServerURL": "https://plot.ly"
       },
       "data": [
        {
         "hovertemplate": "PC1_abs=%{marker.color}<br>subindicator=%{y}<extra></extra>",
         "legendgroup": "",
         "marker": {
          "color": {
           "bdata": "lPYGX5hMZT9GJXUCmghrP588LNSa5o0/LSEf9GxWrT+QMXctIR+0PwFNhA1Pr7Q/yxDHuriNtj8s1JrmHae4P1+YTBWMSro/SnuDL0ymuj+oxks3iUHAPzcawFsgQcE/h6dXyjLEyT82PL1SliHSP6abxCCwcuw/",
           "dtype": "f8"
          },
          "coloraxis": "coloraxis",
          "pattern": {
           "shape": ""
          }
         },
         "name": "",
         "orientation": "h",
         "showlegend": false,
         "textposition": "auto",
         "texttemplate": "%{x}",
         "type": "bar",
         "x": {
          "bdata": "lPYGX5hMZT9GJXUCmghrP588LNSa5o0/LSEf9GxWrT+QMXctIR+0PwFNhA1Pr7Q/yxDHuriNtj8s1JrmHae4P1+YTBWMSro/SnuDL0ymuj+oxks3iUHAPzcawFsgQcE/h6dXyjLEyT82PL1SliHSP6abxCCwcuw/",
          "dtype": "f8"
         },
         "xaxis": "x",
         "y": [
          "2010_VD2",
          "2010_VH1",
          "2010_VED1",
          "2010_VH4",
          "2010_VE1",
          "2010_VD3",
          "2010_VE2",
          "2010_VH2",
          "2010_VD1",
          "2010_VH5",
          "2010_VD4",
          "VA4_2010",
          "2010_VED2",
          "2010_VE3",
          "2010_VH3"
         ],
         "yaxis": "y"
        }
       ],
       "layout": {
        "barmode": "relative",
        "coloraxis": {
         "colorbar": {
          "title": {
           "text": "PC1_abs"
          }
         },
         "colorscale": [
          [
           0,
           "rgb(243, 231, 155)"
          ],
          [
           0.16666666666666666,
           "rgb(250, 196, 132)"
          ],
          [
           0.3333333333333333,
           "rgb(248, 160, 126)"
          ],
          [
           0.5,
           "rgb(235, 127, 134)"
          ],
          [
           0.6666666666666666,
           "rgb(206, 102, 147)"
          ],
          [
           0.8333333333333334,
           "rgb(160, 89, 160)"
          ],
          [
           1,
           "rgb(92, 83, 165)"
          ]
         ]
        },
        "legend": {
         "tracegroupgap": 0
        },
        "template": {
         "data": {
          "bar": [
           {
            "error_x": {
             "color": "#f2f5fa"
            },
            "error_y": {
             "color": "#f2f5fa"
            },
            "marker": {
             "line": {
              "color": "rgb(17,17,17)",
              "width": 0.5
             },
             "pattern": {
              "fillmode": "overlay",
              "size": 10,
              "solidity": 0.2
             }
            },
            "type": "bar"
           }
          ],
          "barpolar": [
           {
            "marker": {
             "line": {
              "color": "rgb(17,17,17)",
              "width": 0.5
             },
             "pattern": {
              "fillmode": "overlay",
              "size": 10,
              "solidity": 0.2
             }
            },
            "type": "barpolar"
           }
          ],
          "carpet": [
           {
            "aaxis": {
             "endlinecolor": "#A2B1C6",
             "gridcolor": "#506784",
             "linecolor": "#506784",
             "minorgridcolor": "#506784",
             "startlinecolor": "#A2B1C6"
            },
            "baxis": {
             "endlinecolor": "#A2B1C6",
             "gridcolor": "#506784",
             "linecolor": "#506784",
             "minorgridcolor": "#506784",
             "startlinecolor": "#A2B1C6"
            },
            "type": "carpet"
           }
          ],
          "choropleth": [
           {
            "colorbar": {
             "outlinewidth": 0,
             "ticks": ""
            },
            "type": "choropleth"
           }
          ],
          "contour": [
           {
            "colorbar": {
             "outlinewidth": 0,
             "ticks": ""
            },
            "colorscale": [
             [
              0,
              "#0d0887"
             ],
             [
              0.1111111111111111,
              "#46039f"
             ],
             [
              0.2222222222222222,
              "#7201a8"
             ],
             [
              0.3333333333333333,
              "#9c179e"
             ],
             [
              0.4444444444444444,
              "#bd3786"
             ],
             [
              0.5555555555555556,
              "#d8576b"
             ],
             [
              0.6666666666666666,
              "#ed7953"
             ],
             [
              0.7777777777777778,
              "#fb9f3a"
             ],
             [
              0.8888888888888888,
              "#fdca26"
             ],
             [
              1,
              "#f0f921"
             ]
            ],
            "type": "contour"
           }
          ],
          "contourcarpet": [
           {
            "colorbar": {
             "outlinewidth": 0,
             "ticks": ""
            },
            "type": "contourcarpet"
           }
          ],
          "heatmap": [
           {
            "colorbar": {
             "outlinewidth": 0,
             "ticks": ""
            },
            "colorscale": [
             [
              0,
              "#0d0887"
             ],
             [
              0.1111111111111111,
              "#46039f"
             ],
             [
              0.2222222222222222,
              "#7201a8"
             ],
             [
              0.3333333333333333,
              "#9c179e"
             ],
             [
              0.4444444444444444,
              "#bd3786"
             ],
             [
              0.5555555555555556,
              "#d8576b"
             ],
             [
              0.6666666666666666,
              "#ed7953"
             ],
             [
              0.7777777777777778,
              "#fb9f3a"
             ],
             [
              0.8888888888888888,
              "#fdca26"
             ],
             [
              1,
              "#f0f921"
             ]
            ],
            "type": "heatmap"
           }
          ],
          "histogram": [
           {
            "marker": {
             "pattern": {
              "fillmode": "overlay",
              "size": 10,
              "solidity": 0.2
             }
            },
            "type": "histogram"
           }
          ],
          "histogram2d": [
           {
            "colorbar": {
             "outlinewidth": 0,
             "ticks": ""
            },
            "colorscale": [
             [
              0,
              "#0d0887"
             ],
             [
              0.1111111111111111,
              "#46039f"
             ],
             [
              0.2222222222222222,
              "#7201a8"
             ],
             [
              0.3333333333333333,
              "#9c179e"
             ],
             [
              0.4444444444444444,
              "#bd3786"
             ],
             [
              0.5555555555555556,
              "#d8576b"
             ],
             [
              0.6666666666666666,
              "#ed7953"
             ],
             [
              0.7777777777777778,
              "#fb9f3a"
             ],
             [
              0.8888888888888888,
              "#fdca26"
             ],
             [
              1,
              "#f0f921"
             ]
            ],
            "type": "histogram2d"
           }
          ],
          "histogram2dcontour": [
           {
            "colorbar": {
             "outlinewidth": 0,
             "ticks": ""
            },
            "colorscale": [
             [
              0,
              "#0d0887"
             ],
             [
              0.1111111111111111,
              "#46039f"
             ],
             [
              0.2222222222222222,
              "#7201a8"
             ],
             [
              0.3333333333333333,
              "#9c179e"
             ],
             [
              0.4444444444444444,
              "#bd3786"
             ],
             [
              0.5555555555555556,
              "#d8576b"
             ],
             [
              0.6666666666666666,
              "#ed7953"
             ],
             [
              0.7777777777777778,
              "#fb9f3a"
             ],
             [
              0.8888888888888888,
              "#fdca26"
             ],
             [
              1,
              "#f0f921"
             ]
            ],
            "type": "histogram2dcontour"
           }
          ],
          "mesh3d": [
           {
            "colorbar": {
             "outlinewidth": 0,
             "ticks": ""
            },
            "type": "mesh3d"
           }
          ],
          "parcoords": [
           {
            "line": {
             "colorbar": {
              "outlinewidth": 0,
              "ticks": ""
             }
            },
            "type": "parcoords"
           }
          ],
          "pie": [
           {
            "automargin": true,
            "type": "pie"
           }
          ],
          "scatter": [
           {
            "marker": {
             "line": {
              "color": "#283442"
             }
            },
            "type": "scatter"
           }
          ],
          "scatter3d": [
           {
            "line": {
             "colorbar": {
              "outlinewidth": 0,
              "ticks": ""
             }
            },
            "marker": {
             "colorbar": {
              "outlinewidth": 0,
              "ticks": ""
             }
            },
            "type": "scatter3d"
           }
          ],
          "scattercarpet": [
           {
            "marker": {
             "colorbar": {
              "outlinewidth": 0,
              "ticks": ""
             }
            },
            "type": "scattercarpet"
           }
          ],
          "scattergeo": [
           {
            "marker": {
             "colorbar": {
              "outlinewidth": 0,
              "ticks": ""
             }
            },
            "type": "scattergeo"
           }
          ],
          "scattergl": [
           {
            "marker": {
             "line": {
              "color": "#283442"
             }
            },
            "type": "scattergl"
           }
          ],
          "scattermap": [
           {
            "marker": {
             "colorbar": {
              "outlinewidth": 0,
              "ticks": ""
             }
            },
            "type": "scattermap"
           }
          ],
          "scattermapbox": [
           {
            "marker": {
             "colorbar": {
              "outlinewidth": 0,
              "ticks": ""
             }
            },
            "type": "scattermapbox"
           }
          ],
          "scatterpolar": [
           {
            "marker": {
             "colorbar": {
              "outlinewidth": 0,
              "ticks": ""
             }
            },
            "type": "scatterpolar"
           }
          ],
          "scatterpolargl": [
           {
            "marker": {
             "colorbar": {
              "outlinewidth": 0,
              "ticks": ""
             }
            },
            "type": "scatterpolargl"
           }
          ],
          "scatterternary": [
           {
            "marker": {
             "colorbar": {
              "outlinewidth": 0,
              "ticks": ""
             }
            },
            "type": "scatterternary"
           }
          ],
          "surface": [
           {
            "colorbar": {
             "outlinewidth": 0,
             "ticks": ""
            },
            "colorscale": [
             [
              0,
              "#0d0887"
             ],
             [
              0.1111111111111111,
              "#46039f"
             ],
             [
              0.2222222222222222,
              "#7201a8"
             ],
             [
              0.3333333333333333,
              "#9c179e"
             ],
             [
              0.4444444444444444,
              "#bd3786"
             ],
             [
              0.5555555555555556,
              "#d8576b"
             ],
             [
              0.6666666666666666,
              "#ed7953"
             ],
             [
              0.7777777777777778,
              "#fb9f3a"
             ],
             [
              0.8888888888888888,
              "#fdca26"
             ],
             [
              1,
              "#f0f921"
             ]
            ],
            "type": "surface"
           }
          ],
          "table": [
           {
            "cells": {
             "fill": {
              "color": "#506784"
             },
             "line": {
              "color": "rgb(17,17,17)"
             }
            },
            "header": {
             "fill": {
              "color": "#2a3f5f"
             },
             "line": {
              "color": "rgb(17,17,17)"
             }
            },
            "type": "table"
           }
          ]
         },
         "layout": {
          "annotationdefaults": {
           "arrowcolor": "#f2f5fa",
           "arrowhead": 0,
           "arrowwidth": 1
          },
          "autotypenumbers": "strict",
          "coloraxis": {
           "colorbar": {
            "outlinewidth": 0,
            "ticks": ""
           }
          },
          "colorscale": {
           "diverging": [
            [
             0,
             "#8e0152"
            ],
            [
             0.1,
             "#c51b7d"
            ],
            [
             0.2,
             "#de77ae"
            ],
            [
             0.3,
             "#f1b6da"
            ],
            [
             0.4,
             "#fde0ef"
            ],
            [
             0.5,
             "#f7f7f7"
            ],
            [
             0.6,
             "#e6f5d0"
            ],
            [
             0.7,
             "#b8e186"
            ],
            [
             0.8,
             "#7fbc41"
            ],
            [
             0.9,
             "#4d9221"
            ],
            [
             1,
             "#276419"
            ]
           ],
           "sequential": [
            [
             0,
             "#0d0887"
            ],
            [
             0.1111111111111111,
             "#46039f"
            ],
            [
             0.2222222222222222,
             "#7201a8"
            ],
            [
             0.3333333333333333,
             "#9c179e"
            ],
            [
             0.4444444444444444,
             "#bd3786"
            ],
            [
             0.5555555555555556,
             "#d8576b"
            ],
            [
             0.6666666666666666,
             "#ed7953"
            ],
            [
             0.7777777777777778,
             "#fb9f3a"
            ],
            [
             0.8888888888888888,
             "#fdca26"
            ],
            [
             1,
             "#f0f921"
            ]
           ],
           "sequentialminus": [
            [
             0,
             "#0d0887"
            ],
            [
             0.1111111111111111,
             "#46039f"
            ],
            [
             0.2222222222222222,
             "#7201a8"
            ],
            [
             0.3333333333333333,
             "#9c179e"
            ],
            [
             0.4444444444444444,
             "#bd3786"
            ],
            [
             0.5555555555555556,
             "#d8576b"
            ],
            [
             0.6666666666666666,
             "#ed7953"
            ],
            [
             0.7777777777777778,
             "#fb9f3a"
            ],
            [
             0.8888888888888888,
             "#fdca26"
            ],
            [
             1,
             "#f0f921"
            ]
           ]
          },
          "colorway": [
           "#636efa",
           "#EF553B",
           "#00cc96",
           "#ab63fa",
           "#FFA15A",
           "#19d3f3",
           "#FF6692",
           "#B6E880",
           "#FF97FF",
           "#FECB52"
          ],
          "font": {
           "color": "#f2f5fa"
          },
          "geo": {
           "bgcolor": "rgb(17,17,17)",
           "lakecolor": "rgb(17,17,17)",
           "landcolor": "rgb(17,17,17)",
           "showlakes": true,
           "showland": true,
           "subunitcolor": "#506784"
          },
          "hoverlabel": {
           "align": "left"
          },
          "hovermode": "closest",
          "mapbox": {
           "style": "dark"
          },
          "paper_bgcolor": "rgb(17,17,17)",
          "plot_bgcolor": "rgb(17,17,17)",
          "polar": {
           "angularaxis": {
            "gridcolor": "#506784",
            "linecolor": "#506784",
            "ticks": ""
           },
           "bgcolor": "rgb(17,17,17)",
           "radialaxis": {
            "gridcolor": "#506784",
            "linecolor": "#506784",
            "ticks": ""
           }
          },
          "scene": {
           "xaxis": {
            "backgroundcolor": "rgb(17,17,17)",
            "gridcolor": "#506784",
            "gridwidth": 2,
            "linecolor": "#506784",
            "showbackground": true,
            "ticks": "",
            "zerolinecolor": "#C8D4E3"
           },
           "yaxis": {
            "backgroundcolor": "rgb(17,17,17)",
            "gridcolor": "#506784",
            "gridwidth": 2,
            "linecolor": "#506784",
            "showbackground": true,
            "ticks": "",
            "zerolinecolor": "#C8D4E3"
           },
           "zaxis": {
            "backgroundcolor": "rgb(17,17,17)",
            "gridcolor": "#506784",
            "gridwidth": 2,
            "linecolor": "#506784",
            "showbackground": true,
            "ticks": "",
            "zerolinecolor": "#C8D4E3"
           }
          },
          "shapedefaults": {
           "line": {
            "color": "#f2f5fa"
           }
          },
          "sliderdefaults": {
           "bgcolor": "#C8D4E3",
           "bordercolor": "rgb(17,17,17)",
           "borderwidth": 1,
           "tickwidth": 0
          },
          "ternary": {
           "aaxis": {
            "gridcolor": "#506784",
            "linecolor": "#506784",
            "ticks": ""
           },
           "baxis": {
            "gridcolor": "#506784",
            "linecolor": "#506784",
            "ticks": ""
           },
           "bgcolor": "rgb(17,17,17)",
           "caxis": {
            "gridcolor": "#506784",
            "linecolor": "#506784",
            "ticks": ""
           }
          },
          "title": {
           "x": 0.05
          },
          "updatemenudefaults": {
           "bgcolor": "#506784",
           "borderwidth": 0
          },
          "xaxis": {
           "automargin": true,
           "gridcolor": "#283442",
           "linecolor": "#506784",
           "ticks": "",
           "title": {
            "standoff": 15
           },
           "zerolinecolor": "#283442",
           "zerolinewidth": 2
          },
          "yaxis": {
           "automargin": true,
           "gridcolor": "#283442",
           "linecolor": "#506784",
           "ticks": "",
           "title": {
            "standoff": 15
           },
           "zerolinecolor": "#283442",
           "zerolinewidth": 2
          }
         }
        },
        "title": {
         "text": "Subindicators PC1_abs"
        },
        "xaxis": {
         "anchor": "y",
         "domain": [
          0,
          1
         ],
         "title": {
          "text": "PC1_abs"
         }
        },
        "yaxis": {
         "anchor": "x",
         "domain": [
          0,
          1
         ],
         "title": {
          "text": "subindicator"
         }
        }
       }
      }
     },
     "metadata": {},
     "output_type": "display_data"
    }
   ],
   "source": [
    "# PCA is used to understand which variables explain most of the variance\n",
    "# in the data, identifying the most influential indicators.\n",
    "\n",
    "ranking = calculate_pca(df_processed)\n",
    "ranking_chart = px.bar(\n",
    "  x=ranking.index, \n",
    "  y=ranking[\"PC1_abs\"],\n",
    "  title=\"Variable Ranking by Influence on PC1\"\n",
    ")\n",
    "ranking_chart.show()"
   ]
  },
  {
   "cell_type": "markdown",
   "id": "ddd2ec7f582187bf",
   "metadata": {},
   "source": [
    "### Entropy evaluation of dataset variables"
   ]
  },
  {
   "cell_type": "code",
   "execution_count": 13,
   "id": "f3850c9190df5cf8",
   "metadata": {
    "ExecuteTime": {
     "end_time": "2025-08-31T23:00:38.963103Z",
     "start_time": "2025-08-31T23:00:38.889867Z"
    }
   },
   "outputs": [
    {
     "data": {
      "application/vnd.plotly.v1+json": {
       "config": {
        "plotlyServerURL": "https://plot.ly"
       },
       "data": [
        {
         "hovertemplate": "entropy=%{marker.color}<br>subindicator=%{y}<extra></extra>",
         "legendgroup": "",
         "marker": {
          "color": {
           "bdata": "7nw/NV66AECkcD0K16MMQPYoXI/C9RBA/Knx0k1iEUDJdr6fGq8ZQA4tsp3vpxpAGQRWDi0yG0C+nxov3SQcQFK4HoXrUSBAPzVeukmMIEC+nxov3SQhQBfZzvdTYyFAAAAAAACAIUAxCKwcWqQhQKJFtvP91CFA",
           "dtype": "f8"
          },
          "coloraxis": "coloraxis",
          "pattern": {
           "shape": ""
          }
         },
         "name": "",
         "orientation": "h",
         "showlegend": false,
         "textposition": "auto",
         "texttemplate": "%{x}",
         "type": "bar",
         "x": {
          "bdata": "7nw/NV66AECkcD0K16MMQPYoXI/C9RBA/Knx0k1iEUDJdr6fGq8ZQA4tsp3vpxpAGQRWDi0yG0C+nxov3SQcQFK4HoXrUSBAPzVeukmMIEC+nxov3SQhQBfZzvdTYyFAAAAAAACAIUAxCKwcWqQhQKJFtvP91CFA",
          "dtype": "f8"
         },
         "xaxis": "x",
         "y": [
          "2010_VH1",
          "2010_VED1",
          "2010_VH4",
          "2010_VE2",
          "2010_VD1",
          "2010_VD2",
          "2010_VH2",
          "2010_VD4",
          "2010_VH3",
          "2010_VED2",
          "2010_VE1",
          "2010_VD3",
          "2010_VH5",
          "2010_VE3",
          "VA4_2010"
         ],
         "yaxis": "y"
        }
       ],
       "layout": {
        "barmode": "relative",
        "coloraxis": {
         "colorbar": {
          "title": {
           "text": "entropy"
          }
         },
         "colorscale": [
          [
           0,
           "rgb(243, 231, 155)"
          ],
          [
           0.16666666666666666,
           "rgb(250, 196, 132)"
          ],
          [
           0.3333333333333333,
           "rgb(248, 160, 126)"
          ],
          [
           0.5,
           "rgb(235, 127, 134)"
          ],
          [
           0.6666666666666666,
           "rgb(206, 102, 147)"
          ],
          [
           0.8333333333333334,
           "rgb(160, 89, 160)"
          ],
          [
           1,
           "rgb(92, 83, 165)"
          ]
         ]
        },
        "legend": {
         "tracegroupgap": 0
        },
        "template": {
         "data": {
          "bar": [
           {
            "error_x": {
             "color": "#f2f5fa"
            },
            "error_y": {
             "color": "#f2f5fa"
            },
            "marker": {
             "line": {
              "color": "rgb(17,17,17)",
              "width": 0.5
             },
             "pattern": {
              "fillmode": "overlay",
              "size": 10,
              "solidity": 0.2
             }
            },
            "type": "bar"
           }
          ],
          "barpolar": [
           {
            "marker": {
             "line": {
              "color": "rgb(17,17,17)",
              "width": 0.5
             },
             "pattern": {
              "fillmode": "overlay",
              "size": 10,
              "solidity": 0.2
             }
            },
            "type": "barpolar"
           }
          ],
          "carpet": [
           {
            "aaxis": {
             "endlinecolor": "#A2B1C6",
             "gridcolor": "#506784",
             "linecolor": "#506784",
             "minorgridcolor": "#506784",
             "startlinecolor": "#A2B1C6"
            },
            "baxis": {
             "endlinecolor": "#A2B1C6",
             "gridcolor": "#506784",
             "linecolor": "#506784",
             "minorgridcolor": "#506784",
             "startlinecolor": "#A2B1C6"
            },
            "type": "carpet"
           }
          ],
          "choropleth": [
           {
            "colorbar": {
             "outlinewidth": 0,
             "ticks": ""
            },
            "type": "choropleth"
           }
          ],
          "contour": [
           {
            "colorbar": {
             "outlinewidth": 0,
             "ticks": ""
            },
            "colorscale": [
             [
              0,
              "#0d0887"
             ],
             [
              0.1111111111111111,
              "#46039f"
             ],
             [
              0.2222222222222222,
              "#7201a8"
             ],
             [
              0.3333333333333333,
              "#9c179e"
             ],
             [
              0.4444444444444444,
              "#bd3786"
             ],
             [
              0.5555555555555556,
              "#d8576b"
             ],
             [
              0.6666666666666666,
              "#ed7953"
             ],
             [
              0.7777777777777778,
              "#fb9f3a"
             ],
             [
              0.8888888888888888,
              "#fdca26"
             ],
             [
              1,
              "#f0f921"
             ]
            ],
            "type": "contour"
           }
          ],
          "contourcarpet": [
           {
            "colorbar": {
             "outlinewidth": 0,
             "ticks": ""
            },
            "type": "contourcarpet"
           }
          ],
          "heatmap": [
           {
            "colorbar": {
             "outlinewidth": 0,
             "ticks": ""
            },
            "colorscale": [
             [
              0,
              "#0d0887"
             ],
             [
              0.1111111111111111,
              "#46039f"
             ],
             [
              0.2222222222222222,
              "#7201a8"
             ],
             [
              0.3333333333333333,
              "#9c179e"
             ],
             [
              0.4444444444444444,
              "#bd3786"
             ],
             [
              0.5555555555555556,
              "#d8576b"
             ],
             [
              0.6666666666666666,
              "#ed7953"
             ],
             [
              0.7777777777777778,
              "#fb9f3a"
             ],
             [
              0.8888888888888888,
              "#fdca26"
             ],
             [
              1,
              "#f0f921"
             ]
            ],
            "type": "heatmap"
           }
          ],
          "histogram": [
           {
            "marker": {
             "pattern": {
              "fillmode": "overlay",
              "size": 10,
              "solidity": 0.2
             }
            },
            "type": "histogram"
           }
          ],
          "histogram2d": [
           {
            "colorbar": {
             "outlinewidth": 0,
             "ticks": ""
            },
            "colorscale": [
             [
              0,
              "#0d0887"
             ],
             [
              0.1111111111111111,
              "#46039f"
             ],
             [
              0.2222222222222222,
              "#7201a8"
             ],
             [
              0.3333333333333333,
              "#9c179e"
             ],
             [
              0.4444444444444444,
              "#bd3786"
             ],
             [
              0.5555555555555556,
              "#d8576b"
             ],
             [
              0.6666666666666666,
              "#ed7953"
             ],
             [
              0.7777777777777778,
              "#fb9f3a"
             ],
             [
              0.8888888888888888,
              "#fdca26"
             ],
             [
              1,
              "#f0f921"
             ]
            ],
            "type": "histogram2d"
           }
          ],
          "histogram2dcontour": [
           {
            "colorbar": {
             "outlinewidth": 0,
             "ticks": ""
            },
            "colorscale": [
             [
              0,
              "#0d0887"
             ],
             [
              0.1111111111111111,
              "#46039f"
             ],
             [
              0.2222222222222222,
              "#7201a8"
             ],
             [
              0.3333333333333333,
              "#9c179e"
             ],
             [
              0.4444444444444444,
              "#bd3786"
             ],
             [
              0.5555555555555556,
              "#d8576b"
             ],
             [
              0.6666666666666666,
              "#ed7953"
             ],
             [
              0.7777777777777778,
              "#fb9f3a"
             ],
             [
              0.8888888888888888,
              "#fdca26"
             ],
             [
              1,
              "#f0f921"
             ]
            ],
            "type": "histogram2dcontour"
           }
          ],
          "mesh3d": [
           {
            "colorbar": {
             "outlinewidth": 0,
             "ticks": ""
            },
            "type": "mesh3d"
           }
          ],
          "parcoords": [
           {
            "line": {
             "colorbar": {
              "outlinewidth": 0,
              "ticks": ""
             }
            },
            "type": "parcoords"
           }
          ],
          "pie": [
           {
            "automargin": true,
            "type": "pie"
           }
          ],
          "scatter": [
           {
            "marker": {
             "line": {
              "color": "#283442"
             }
            },
            "type": "scatter"
           }
          ],
          "scatter3d": [
           {
            "line": {
             "colorbar": {
              "outlinewidth": 0,
              "ticks": ""
             }
            },
            "marker": {
             "colorbar": {
              "outlinewidth": 0,
              "ticks": ""
             }
            },
            "type": "scatter3d"
           }
          ],
          "scattercarpet": [
           {
            "marker": {
             "colorbar": {
              "outlinewidth": 0,
              "ticks": ""
             }
            },
            "type": "scattercarpet"
           }
          ],
          "scattergeo": [
           {
            "marker": {
             "colorbar": {
              "outlinewidth": 0,
              "ticks": ""
             }
            },
            "type": "scattergeo"
           }
          ],
          "scattergl": [
           {
            "marker": {
             "line": {
              "color": "#283442"
             }
            },
            "type": "scattergl"
           }
          ],
          "scattermap": [
           {
            "marker": {
             "colorbar": {
              "outlinewidth": 0,
              "ticks": ""
             }
            },
            "type": "scattermap"
           }
          ],
          "scattermapbox": [
           {
            "marker": {
             "colorbar": {
              "outlinewidth": 0,
              "ticks": ""
             }
            },
            "type": "scattermapbox"
           }
          ],
          "scatterpolar": [
           {
            "marker": {
             "colorbar": {
              "outlinewidth": 0,
              "ticks": ""
             }
            },
            "type": "scatterpolar"
           }
          ],
          "scatterpolargl": [
           {
            "marker": {
             "colorbar": {
              "outlinewidth": 0,
              "ticks": ""
             }
            },
            "type": "scatterpolargl"
           }
          ],
          "scatterternary": [
           {
            "marker": {
             "colorbar": {
              "outlinewidth": 0,
              "ticks": ""
             }
            },
            "type": "scatterternary"
           }
          ],
          "surface": [
           {
            "colorbar": {
             "outlinewidth": 0,
             "ticks": ""
            },
            "colorscale": [
             [
              0,
              "#0d0887"
             ],
             [
              0.1111111111111111,
              "#46039f"
             ],
             [
              0.2222222222222222,
              "#7201a8"
             ],
             [
              0.3333333333333333,
              "#9c179e"
             ],
             [
              0.4444444444444444,
              "#bd3786"
             ],
             [
              0.5555555555555556,
              "#d8576b"
             ],
             [
              0.6666666666666666,
              "#ed7953"
             ],
             [
              0.7777777777777778,
              "#fb9f3a"
             ],
             [
              0.8888888888888888,
              "#fdca26"
             ],
             [
              1,
              "#f0f921"
             ]
            ],
            "type": "surface"
           }
          ],
          "table": [
           {
            "cells": {
             "fill": {
              "color": "#506784"
             },
             "line": {
              "color": "rgb(17,17,17)"
             }
            },
            "header": {
             "fill": {
              "color": "#2a3f5f"
             },
             "line": {
              "color": "rgb(17,17,17)"
             }
            },
            "type": "table"
           }
          ]
         },
         "layout": {
          "annotationdefaults": {
           "arrowcolor": "#f2f5fa",
           "arrowhead": 0,
           "arrowwidth": 1
          },
          "autotypenumbers": "strict",
          "coloraxis": {
           "colorbar": {
            "outlinewidth": 0,
            "ticks": ""
           }
          },
          "colorscale": {
           "diverging": [
            [
             0,
             "#8e0152"
            ],
            [
             0.1,
             "#c51b7d"
            ],
            [
             0.2,
             "#de77ae"
            ],
            [
             0.3,
             "#f1b6da"
            ],
            [
             0.4,
             "#fde0ef"
            ],
            [
             0.5,
             "#f7f7f7"
            ],
            [
             0.6,
             "#e6f5d0"
            ],
            [
             0.7,
             "#b8e186"
            ],
            [
             0.8,
             "#7fbc41"
            ],
            [
             0.9,
             "#4d9221"
            ],
            [
             1,
             "#276419"
            ]
           ],
           "sequential": [
            [
             0,
             "#0d0887"
            ],
            [
             0.1111111111111111,
             "#46039f"
            ],
            [
             0.2222222222222222,
             "#7201a8"
            ],
            [
             0.3333333333333333,
             "#9c179e"
            ],
            [
             0.4444444444444444,
             "#bd3786"
            ],
            [
             0.5555555555555556,
             "#d8576b"
            ],
            [
             0.6666666666666666,
             "#ed7953"
            ],
            [
             0.7777777777777778,
             "#fb9f3a"
            ],
            [
             0.8888888888888888,
             "#fdca26"
            ],
            [
             1,
             "#f0f921"
            ]
           ],
           "sequentialminus": [
            [
             0,
             "#0d0887"
            ],
            [
             0.1111111111111111,
             "#46039f"
            ],
            [
             0.2222222222222222,
             "#7201a8"
            ],
            [
             0.3333333333333333,
             "#9c179e"
            ],
            [
             0.4444444444444444,
             "#bd3786"
            ],
            [
             0.5555555555555556,
             "#d8576b"
            ],
            [
             0.6666666666666666,
             "#ed7953"
            ],
            [
             0.7777777777777778,
             "#fb9f3a"
            ],
            [
             0.8888888888888888,
             "#fdca26"
            ],
            [
             1,
             "#f0f921"
            ]
           ]
          },
          "colorway": [
           "#636efa",
           "#EF553B",
           "#00cc96",
           "#ab63fa",
           "#FFA15A",
           "#19d3f3",
           "#FF6692",
           "#B6E880",
           "#FF97FF",
           "#FECB52"
          ],
          "font": {
           "color": "#f2f5fa"
          },
          "geo": {
           "bgcolor": "rgb(17,17,17)",
           "lakecolor": "rgb(17,17,17)",
           "landcolor": "rgb(17,17,17)",
           "showlakes": true,
           "showland": true,
           "subunitcolor": "#506784"
          },
          "hoverlabel": {
           "align": "left"
          },
          "hovermode": "closest",
          "mapbox": {
           "style": "dark"
          },
          "paper_bgcolor": "rgb(17,17,17)",
          "plot_bgcolor": "rgb(17,17,17)",
          "polar": {
           "angularaxis": {
            "gridcolor": "#506784",
            "linecolor": "#506784",
            "ticks": ""
           },
           "bgcolor": "rgb(17,17,17)",
           "radialaxis": {
            "gridcolor": "#506784",
            "linecolor": "#506784",
            "ticks": ""
           }
          },
          "scene": {
           "xaxis": {
            "backgroundcolor": "rgb(17,17,17)",
            "gridcolor": "#506784",
            "gridwidth": 2,
            "linecolor": "#506784",
            "showbackground": true,
            "ticks": "",
            "zerolinecolor": "#C8D4E3"
           },
           "yaxis": {
            "backgroundcolor": "rgb(17,17,17)",
            "gridcolor": "#506784",
            "gridwidth": 2,
            "linecolor": "#506784",
            "showbackground": true,
            "ticks": "",
            "zerolinecolor": "#C8D4E3"
           },
           "zaxis": {
            "backgroundcolor": "rgb(17,17,17)",
            "gridcolor": "#506784",
            "gridwidth": 2,
            "linecolor": "#506784",
            "showbackground": true,
            "ticks": "",
            "zerolinecolor": "#C8D4E3"
           }
          },
          "shapedefaults": {
           "line": {
            "color": "#f2f5fa"
           }
          },
          "sliderdefaults": {
           "bgcolor": "#C8D4E3",
           "bordercolor": "rgb(17,17,17)",
           "borderwidth": 1,
           "tickwidth": 0
          },
          "ternary": {
           "aaxis": {
            "gridcolor": "#506784",
            "linecolor": "#506784",
            "ticks": ""
           },
           "baxis": {
            "gridcolor": "#506784",
            "linecolor": "#506784",
            "ticks": ""
           },
           "bgcolor": "rgb(17,17,17)",
           "caxis": {
            "gridcolor": "#506784",
            "linecolor": "#506784",
            "ticks": ""
           }
          },
          "title": {
           "x": 0.05
          },
          "updatemenudefaults": {
           "bgcolor": "#506784",
           "borderwidth": 0
          },
          "xaxis": {
           "automargin": true,
           "gridcolor": "#283442",
           "linecolor": "#506784",
           "ticks": "",
           "title": {
            "standoff": 15
           },
           "zerolinecolor": "#283442",
           "zerolinewidth": 2
          },
          "yaxis": {
           "automargin": true,
           "gridcolor": "#283442",
           "linecolor": "#506784",
           "ticks": "",
           "title": {
            "standoff": 15
           },
           "zerolinecolor": "#283442",
           "zerolinewidth": 2
          }
         }
        },
        "title": {
         "text": "Subindicators Entropy"
        },
        "xaxis": {
         "anchor": "y",
         "domain": [
          0,
          1
         ],
         "title": {
          "text": "entropy"
         }
        },
        "yaxis": {
         "anchor": "x",
         "domain": [
          0,
          1
         ],
         "title": {
          "text": "subindicator"
         }
        }
       }
      }
     },
     "metadata": {},
     "output_type": "display_data"
    }
   ],
   "source": [
    "entropies = []\n",
    "columns_list = df_processed.columns.tolist()\n",
    "\n",
    "for col in columns_list:\n",
    "  entropies.append(\n",
    "    {\n",
    "      \"subindicator\": col,\n",
    "      \"entropy\": round(calculate_shannon_entropy(df_processed[col]), 3),\n",
    "    }\n",
    "  )\n",
    "\n",
    "df_entropies = pd.DataFrame(entropies)\n",
    "df_entropies.sort_values(by=[\"entropy\"], ascending=False, inplace=True)\n",
    "\n",
    "px.bar(\n",
    "  df_entropies.sort_values(by=[\"entropy\"], ascending=True),\n",
    "  x=\"entropy\",\n",
    "  y=\"subindicator\",\n",
    "  color=\"entropy\",\n",
    "  color_continuous_scale=\"sunset\",\n",
    "  text_auto=True,\n",
    "  title=\"Subindicators Entropy\"\n",
    ")"
   ]
  }
 ],
 "metadata": {
  "kernelspec": {
   "display_name": ".venv (3.13.5)",
   "language": "python",
   "name": "python3"
  },
  "language_info": {
   "codemirror_mode": {
    "name": "ipython",
    "version": 3
   },
   "file_extension": ".py",
   "mimetype": "text/x-python",
   "name": "python",
   "nbconvert_exporter": "python",
   "pygments_lexer": "ipython3",
   "version": "3.13.5"
  }
 },
 "nbformat": 4,
 "nbformat_minor": 5
}
