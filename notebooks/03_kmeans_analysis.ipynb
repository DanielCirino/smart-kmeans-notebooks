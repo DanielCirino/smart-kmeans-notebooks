{
 "cells": [
  {
   "cell_type": "markdown",
   "id": "2f032dead47a683",
   "metadata": {},
   "source": [
    "This notebook executes K-Means clustering analysis on preprocessed data.\n",
    "It evaluates the model using cluster quality metrics to determine the optimal number of groups and saves the best model for the next step."
   ]
  },
  {
   "cell_type": "markdown",
   "id": "ed513fe0f2cd0136",
   "metadata": {},
   "source": [
    "### Configuration and Library Imports"
   ]
  },
  {
   "cell_type": "code",
   "id": "6393c70089e1b566",
   "metadata": {
    "ExecuteTime": {
     "end_time": "2025-09-03T15:08:41.840910Z",
     "start_time": "2025-09-03T15:08:41.792061Z"
    }
   },
   "source": "%run ../src/settings.py",
   "outputs": [],
   "execution_count": 1
  },
  {
   "metadata": {
    "ExecuteTime": {
     "end_time": "2025-09-03T15:08:42.506816Z",
     "start_time": "2025-09-03T15:08:41.849399Z"
    }
   },
   "cell_type": "code",
   "source": [
    "import pandas as pd\n",
    "\n",
    "from src.settings import load_config\n",
    "from src.smart_k_means import calculate_best_k_with_entropy\n",
    "from src.smart_k_means import evaluate_cluster\n",
    "from src.smart_k_means import get_comparision_clusters_graph"
   ],
   "id": "e7e3749a602ebb9e",
   "outputs": [],
   "execution_count": 2
  },
  {
   "cell_type": "code",
   "id": "272650626bd24299",
   "metadata": {
    "collapsed": true,
    "ExecuteTime": {
     "end_time": "2025-09-03T15:08:42.524659Z",
     "start_time": "2025-09-03T15:08:42.517227Z"
    }
   },
   "source": [
    "config = load_config()\n",
    "MIN_CLUSTERS = 3\n",
    "MAX_CLUSTERS = 7"
   ],
   "outputs": [],
   "execution_count": 3
  },
  {
   "cell_type": "code",
   "id": "1cabafe4995328b4",
   "metadata": {
    "ExecuteTime": {
     "end_time": "2025-09-03T15:08:42.540151Z",
     "start_time": "2025-09-03T15:08:42.533867Z"
    }
   },
   "source": [
    "config = load_config()\n",
    "QTD_MIN_CLUSTERS = 3\n",
    "QTD_MAX_CLUSTERS = 7\n"
   ],
   "outputs": [],
   "execution_count": 4
  },
  {
   "cell_type": "markdown",
   "id": "93ff9cbcd10db389",
   "metadata": {},
   "source": [
    "### Data Loading and Overview"
   ]
  },
  {
   "cell_type": "code",
   "id": "548c349b73216af4",
   "metadata": {
    "ExecuteTime": {
     "end_time": "2025-09-03T15:08:43.078457Z",
     "start_time": "2025-09-03T15:08:42.550068Z"
    }
   },
   "source": [
    "path_file = config['datasets'][5]\n",
    "\n",
    "# Column names to be ignored, according to the original notebook\n",
    "cols_to_ignore = [\"RendaMedia\"]\n",
    "id_column = \"Cod_Setor\"\n",
    "\n",
    "df_original = pd.read_excel(path_file, dtype={id_column: \"object\"})\n",
    "df_processed = df_original.drop(columns=[id_column, *cols_to_ignore])\n",
    "\n",
    "display(df_original)\n",
    "display(df_processed.describe().T)"
   ],
   "outputs": [
    {
     "data": {
      "text/plain": [
       "           Cod_Setor  2010_VD1  2010_VD2  2010_VD3  2010_VD4  2010_VE1  \\\n",
       "0    411520005010001  0.723636  0.923523  0.568170  0.774691  0.836859   \n",
       "1    411520005010002  0.669091  0.947785  0.659827  0.805556  0.910891   \n",
       "2    411520005010003  0.607273  0.948840  0.617171  0.811728  0.877588   \n",
       "3    411520005010004  0.567273  0.962553  0.571139  0.753086  0.928218   \n",
       "4    411520005010005  0.534545  0.979430  0.689390  0.780864  0.920567   \n",
       "..               ...       ...       ...       ...       ...       ...   \n",
       "478  412625605000066  0.352727  0.974684  0.641199  0.608025  0.853285   \n",
       "479  412625605000067  0.367273  0.952532  0.595437  0.595679  0.872412   \n",
       "480  412625605000068  0.360000  0.946730  0.529968  0.574074  0.640414   \n",
       "481  412625605000069  0.320000  0.621308  0.437635  0.293210  0.333933   \n",
       "482  412625605000070  0.352727  0.938819  0.361096  0.311728  0.858686   \n",
       "\n",
       "     2010_VE2  2010_VE3  2010_VED1  2010_VED2  2010_VH1  2010_VH2  2010_VH3  \\\n",
       "0    0.153226  0.888877   1.000000     0.9856  1.000000  0.024468    1.0000   \n",
       "1    0.291475  0.891996   1.000000     0.9868  1.000000  0.257003    1.0000   \n",
       "2    0.387865  0.936590   1.000000     0.9688  1.000000  0.239116    1.0000   \n",
       "3    0.599078  0.910499   0.722431     0.9716  1.000000  0.107661    1.0000   \n",
       "4    0.361367  0.966112   1.000000     0.9844  1.000000  0.086061    0.9961   \n",
       "..        ...       ...        ...        ...       ...       ...       ...   \n",
       "478  0.009217  0.331393   0.929482     0.7972  1.000000  0.004050    0.0338   \n",
       "479  0.000000  0.319647   0.760690     0.7136  1.000000  0.000000    0.0657   \n",
       "480  0.003840  0.385759   0.888972     0.6440  0.994001  0.001687    0.0314   \n",
       "481  0.000000  0.442100   0.882221     0.6436  0.982603  0.000000    0.0144   \n",
       "482  0.008833  0.190956   0.821455     0.4140  1.000000  0.003881    0.0442   \n",
       "\n",
       "     2010_VH4  2010_VH5  VA4_2010   RendaMedia  \n",
       "0    1.000000  0.572691  0.190181  4800.240000  \n",
       "1    0.588340  0.550909  0.060300  5965.110000  \n",
       "2    0.833664  0.645631  0.009710  4789.690000  \n",
       "3    0.070003  0.692930  0.148177  8623.780000  \n",
       "4    0.201024  0.700398  0.161849  8165.580000  \n",
       "..        ...       ...       ...          ...  \n",
       "478  1.000000  0.646378  0.462668     0.576274  \n",
       "479  0.990597  0.706497  0.691973     0.575469  \n",
       "480  0.980984  0.704630  0.477806     0.544284  \n",
       "481  1.000000  0.686706  0.472028     0.475316  \n",
       "482  1.000000  0.669654  0.710249     0.512419  \n",
       "\n",
       "[483 rows x 17 columns]"
      ],
      "text/html": [
       "<div>\n",
       "<style scoped>\n",
       "    .dataframe tbody tr th:only-of-type {\n",
       "        vertical-align: middle;\n",
       "    }\n",
       "\n",
       "    .dataframe tbody tr th {\n",
       "        vertical-align: top;\n",
       "    }\n",
       "\n",
       "    .dataframe thead th {\n",
       "        text-align: right;\n",
       "    }\n",
       "</style>\n",
       "<table border=\"1\" class=\"dataframe\">\n",
       "  <thead>\n",
       "    <tr style=\"text-align: right;\">\n",
       "      <th></th>\n",
       "      <th>Cod_Setor</th>\n",
       "      <th>2010_VD1</th>\n",
       "      <th>2010_VD2</th>\n",
       "      <th>2010_VD3</th>\n",
       "      <th>2010_VD4</th>\n",
       "      <th>2010_VE1</th>\n",
       "      <th>2010_VE2</th>\n",
       "      <th>2010_VE3</th>\n",
       "      <th>2010_VED1</th>\n",
       "      <th>2010_VED2</th>\n",
       "      <th>2010_VH1</th>\n",
       "      <th>2010_VH2</th>\n",
       "      <th>2010_VH3</th>\n",
       "      <th>2010_VH4</th>\n",
       "      <th>2010_VH5</th>\n",
       "      <th>VA4_2010</th>\n",
       "      <th>RendaMedia</th>\n",
       "    </tr>\n",
       "  </thead>\n",
       "  <tbody>\n",
       "    <tr>\n",
       "      <th>0</th>\n",
       "      <td>411520005010001</td>\n",
       "      <td>0.723636</td>\n",
       "      <td>0.923523</td>\n",
       "      <td>0.568170</td>\n",
       "      <td>0.774691</td>\n",
       "      <td>0.836859</td>\n",
       "      <td>0.153226</td>\n",
       "      <td>0.888877</td>\n",
       "      <td>1.000000</td>\n",
       "      <td>0.9856</td>\n",
       "      <td>1.000000</td>\n",
       "      <td>0.024468</td>\n",
       "      <td>1.0000</td>\n",
       "      <td>1.000000</td>\n",
       "      <td>0.572691</td>\n",
       "      <td>0.190181</td>\n",
       "      <td>4800.240000</td>\n",
       "    </tr>\n",
       "    <tr>\n",
       "      <th>1</th>\n",
       "      <td>411520005010002</td>\n",
       "      <td>0.669091</td>\n",
       "      <td>0.947785</td>\n",
       "      <td>0.659827</td>\n",
       "      <td>0.805556</td>\n",
       "      <td>0.910891</td>\n",
       "      <td>0.291475</td>\n",
       "      <td>0.891996</td>\n",
       "      <td>1.000000</td>\n",
       "      <td>0.9868</td>\n",
       "      <td>1.000000</td>\n",
       "      <td>0.257003</td>\n",
       "      <td>1.0000</td>\n",
       "      <td>0.588340</td>\n",
       "      <td>0.550909</td>\n",
       "      <td>0.060300</td>\n",
       "      <td>5965.110000</td>\n",
       "    </tr>\n",
       "    <tr>\n",
       "      <th>2</th>\n",
       "      <td>411520005010003</td>\n",
       "      <td>0.607273</td>\n",
       "      <td>0.948840</td>\n",
       "      <td>0.617171</td>\n",
       "      <td>0.811728</td>\n",
       "      <td>0.877588</td>\n",
       "      <td>0.387865</td>\n",
       "      <td>0.936590</td>\n",
       "      <td>1.000000</td>\n",
       "      <td>0.9688</td>\n",
       "      <td>1.000000</td>\n",
       "      <td>0.239116</td>\n",
       "      <td>1.0000</td>\n",
       "      <td>0.833664</td>\n",
       "      <td>0.645631</td>\n",
       "      <td>0.009710</td>\n",
       "      <td>4789.690000</td>\n",
       "    </tr>\n",
       "    <tr>\n",
       "      <th>3</th>\n",
       "      <td>411520005010004</td>\n",
       "      <td>0.567273</td>\n",
       "      <td>0.962553</td>\n",
       "      <td>0.571139</td>\n",
       "      <td>0.753086</td>\n",
       "      <td>0.928218</td>\n",
       "      <td>0.599078</td>\n",
       "      <td>0.910499</td>\n",
       "      <td>0.722431</td>\n",
       "      <td>0.9716</td>\n",
       "      <td>1.000000</td>\n",
       "      <td>0.107661</td>\n",
       "      <td>1.0000</td>\n",
       "      <td>0.070003</td>\n",
       "      <td>0.692930</td>\n",
       "      <td>0.148177</td>\n",
       "      <td>8623.780000</td>\n",
       "    </tr>\n",
       "    <tr>\n",
       "      <th>4</th>\n",
       "      <td>411520005010005</td>\n",
       "      <td>0.534545</td>\n",
       "      <td>0.979430</td>\n",
       "      <td>0.689390</td>\n",
       "      <td>0.780864</td>\n",
       "      <td>0.920567</td>\n",
       "      <td>0.361367</td>\n",
       "      <td>0.966112</td>\n",
       "      <td>1.000000</td>\n",
       "      <td>0.9844</td>\n",
       "      <td>1.000000</td>\n",
       "      <td>0.086061</td>\n",
       "      <td>0.9961</td>\n",
       "      <td>0.201024</td>\n",
       "      <td>0.700398</td>\n",
       "      <td>0.161849</td>\n",
       "      <td>8165.580000</td>\n",
       "    </tr>\n",
       "    <tr>\n",
       "      <th>...</th>\n",
       "      <td>...</td>\n",
       "      <td>...</td>\n",
       "      <td>...</td>\n",
       "      <td>...</td>\n",
       "      <td>...</td>\n",
       "      <td>...</td>\n",
       "      <td>...</td>\n",
       "      <td>...</td>\n",
       "      <td>...</td>\n",
       "      <td>...</td>\n",
       "      <td>...</td>\n",
       "      <td>...</td>\n",
       "      <td>...</td>\n",
       "      <td>...</td>\n",
       "      <td>...</td>\n",
       "      <td>...</td>\n",
       "      <td>...</td>\n",
       "    </tr>\n",
       "    <tr>\n",
       "      <th>478</th>\n",
       "      <td>412625605000066</td>\n",
       "      <td>0.352727</td>\n",
       "      <td>0.974684</td>\n",
       "      <td>0.641199</td>\n",
       "      <td>0.608025</td>\n",
       "      <td>0.853285</td>\n",
       "      <td>0.009217</td>\n",
       "      <td>0.331393</td>\n",
       "      <td>0.929482</td>\n",
       "      <td>0.7972</td>\n",
       "      <td>1.000000</td>\n",
       "      <td>0.004050</td>\n",
       "      <td>0.0338</td>\n",
       "      <td>1.000000</td>\n",
       "      <td>0.646378</td>\n",
       "      <td>0.462668</td>\n",
       "      <td>0.576274</td>\n",
       "    </tr>\n",
       "    <tr>\n",
       "      <th>479</th>\n",
       "      <td>412625605000067</td>\n",
       "      <td>0.367273</td>\n",
       "      <td>0.952532</td>\n",
       "      <td>0.595437</td>\n",
       "      <td>0.595679</td>\n",
       "      <td>0.872412</td>\n",
       "      <td>0.000000</td>\n",
       "      <td>0.319647</td>\n",
       "      <td>0.760690</td>\n",
       "      <td>0.7136</td>\n",
       "      <td>1.000000</td>\n",
       "      <td>0.000000</td>\n",
       "      <td>0.0657</td>\n",
       "      <td>0.990597</td>\n",
       "      <td>0.706497</td>\n",
       "      <td>0.691973</td>\n",
       "      <td>0.575469</td>\n",
       "    </tr>\n",
       "    <tr>\n",
       "      <th>480</th>\n",
       "      <td>412625605000068</td>\n",
       "      <td>0.360000</td>\n",
       "      <td>0.946730</td>\n",
       "      <td>0.529968</td>\n",
       "      <td>0.574074</td>\n",
       "      <td>0.640414</td>\n",
       "      <td>0.003840</td>\n",
       "      <td>0.385759</td>\n",
       "      <td>0.888972</td>\n",
       "      <td>0.6440</td>\n",
       "      <td>0.994001</td>\n",
       "      <td>0.001687</td>\n",
       "      <td>0.0314</td>\n",
       "      <td>0.980984</td>\n",
       "      <td>0.704630</td>\n",
       "      <td>0.477806</td>\n",
       "      <td>0.544284</td>\n",
       "    </tr>\n",
       "    <tr>\n",
       "      <th>481</th>\n",
       "      <td>412625605000069</td>\n",
       "      <td>0.320000</td>\n",
       "      <td>0.621308</td>\n",
       "      <td>0.437635</td>\n",
       "      <td>0.293210</td>\n",
       "      <td>0.333933</td>\n",
       "      <td>0.000000</td>\n",
       "      <td>0.442100</td>\n",
       "      <td>0.882221</td>\n",
       "      <td>0.6436</td>\n",
       "      <td>0.982603</td>\n",
       "      <td>0.000000</td>\n",
       "      <td>0.0144</td>\n",
       "      <td>1.000000</td>\n",
       "      <td>0.686706</td>\n",
       "      <td>0.472028</td>\n",
       "      <td>0.475316</td>\n",
       "    </tr>\n",
       "    <tr>\n",
       "      <th>482</th>\n",
       "      <td>412625605000070</td>\n",
       "      <td>0.352727</td>\n",
       "      <td>0.938819</td>\n",
       "      <td>0.361096</td>\n",
       "      <td>0.311728</td>\n",
       "      <td>0.858686</td>\n",
       "      <td>0.008833</td>\n",
       "      <td>0.190956</td>\n",
       "      <td>0.821455</td>\n",
       "      <td>0.4140</td>\n",
       "      <td>1.000000</td>\n",
       "      <td>0.003881</td>\n",
       "      <td>0.0442</td>\n",
       "      <td>1.000000</td>\n",
       "      <td>0.669654</td>\n",
       "      <td>0.710249</td>\n",
       "      <td>0.512419</td>\n",
       "    </tr>\n",
       "  </tbody>\n",
       "</table>\n",
       "<p>483 rows × 17 columns</p>\n",
       "</div>"
      ]
     },
     "metadata": {},
     "output_type": "display_data",
     "jetTransient": {
      "display_id": null
     }
    },
    {
     "data": {
      "text/plain": [
       "           count      mean       std  min       25%       50%       75%  max\n",
       "2010_VD1   483.0  0.418543  0.104599  0.0  0.352727  0.403636  0.465455  1.0\n",
       "2010_VD2   483.0  0.919942  0.125474  0.0  0.918513  0.959388  0.983914  1.0\n",
       "2010_VD3   483.0  0.612828  0.098168  0.0  0.563647  0.608936  0.659355  1.0\n",
       "2010_VD4   483.0  0.636569  0.131548  0.0  0.552469  0.638889  0.725309  1.0\n",
       "2010_VE1   483.0  0.811266  0.157044  0.0  0.753375  0.863186  0.917079  1.0\n",
       "2010_VE2   483.0  0.045010  0.107741  0.0  0.000000  0.000000  0.029186  1.0\n",
       "2010_VE3   483.0  0.555011  0.187450  0.0  0.415021  0.522037  0.698337  1.0\n",
       "2010_VED1  483.0  0.930897  0.117805  0.0  0.882971  1.000000  1.000000  1.0\n",
       "2010_VED2  483.0  0.816855  0.152264  0.0  0.734800  0.847200  0.932800  1.0\n",
       "2010_VH1   483.0  0.986195  0.071940  0.0  1.000000  1.000000  1.000000  1.0\n",
       "2010_VH2   483.0  0.059185  0.126400  0.0  0.004134  0.015019  0.047081  1.0\n",
       "2010_VH3   483.0  0.674922  0.409789  0.0  0.114850  0.941700  0.985300  1.0\n",
       "2010_VH4   483.0  0.937378  0.174557  0.0  0.989604  1.000000  1.000000  1.0\n",
       "2010_VH5   483.0  0.546460  0.145992  0.0  0.462410  0.564600  0.642955  1.0\n",
       "VA4_2010   483.0  0.389294  0.145132  0.0  0.296886  0.378254  0.473441  1.0"
      ],
      "text/html": [
       "<div>\n",
       "<style scoped>\n",
       "    .dataframe tbody tr th:only-of-type {\n",
       "        vertical-align: middle;\n",
       "    }\n",
       "\n",
       "    .dataframe tbody tr th {\n",
       "        vertical-align: top;\n",
       "    }\n",
       "\n",
       "    .dataframe thead th {\n",
       "        text-align: right;\n",
       "    }\n",
       "</style>\n",
       "<table border=\"1\" class=\"dataframe\">\n",
       "  <thead>\n",
       "    <tr style=\"text-align: right;\">\n",
       "      <th></th>\n",
       "      <th>count</th>\n",
       "      <th>mean</th>\n",
       "      <th>std</th>\n",
       "      <th>min</th>\n",
       "      <th>25%</th>\n",
       "      <th>50%</th>\n",
       "      <th>75%</th>\n",
       "      <th>max</th>\n",
       "    </tr>\n",
       "  </thead>\n",
       "  <tbody>\n",
       "    <tr>\n",
       "      <th>2010_VD1</th>\n",
       "      <td>483.0</td>\n",
       "      <td>0.418543</td>\n",
       "      <td>0.104599</td>\n",
       "      <td>0.0</td>\n",
       "      <td>0.352727</td>\n",
       "      <td>0.403636</td>\n",
       "      <td>0.465455</td>\n",
       "      <td>1.0</td>\n",
       "    </tr>\n",
       "    <tr>\n",
       "      <th>2010_VD2</th>\n",
       "      <td>483.0</td>\n",
       "      <td>0.919942</td>\n",
       "      <td>0.125474</td>\n",
       "      <td>0.0</td>\n",
       "      <td>0.918513</td>\n",
       "      <td>0.959388</td>\n",
       "      <td>0.983914</td>\n",
       "      <td>1.0</td>\n",
       "    </tr>\n",
       "    <tr>\n",
       "      <th>2010_VD3</th>\n",
       "      <td>483.0</td>\n",
       "      <td>0.612828</td>\n",
       "      <td>0.098168</td>\n",
       "      <td>0.0</td>\n",
       "      <td>0.563647</td>\n",
       "      <td>0.608936</td>\n",
       "      <td>0.659355</td>\n",
       "      <td>1.0</td>\n",
       "    </tr>\n",
       "    <tr>\n",
       "      <th>2010_VD4</th>\n",
       "      <td>483.0</td>\n",
       "      <td>0.636569</td>\n",
       "      <td>0.131548</td>\n",
       "      <td>0.0</td>\n",
       "      <td>0.552469</td>\n",
       "      <td>0.638889</td>\n",
       "      <td>0.725309</td>\n",
       "      <td>1.0</td>\n",
       "    </tr>\n",
       "    <tr>\n",
       "      <th>2010_VE1</th>\n",
       "      <td>483.0</td>\n",
       "      <td>0.811266</td>\n",
       "      <td>0.157044</td>\n",
       "      <td>0.0</td>\n",
       "      <td>0.753375</td>\n",
       "      <td>0.863186</td>\n",
       "      <td>0.917079</td>\n",
       "      <td>1.0</td>\n",
       "    </tr>\n",
       "    <tr>\n",
       "      <th>2010_VE2</th>\n",
       "      <td>483.0</td>\n",
       "      <td>0.045010</td>\n",
       "      <td>0.107741</td>\n",
       "      <td>0.0</td>\n",
       "      <td>0.000000</td>\n",
       "      <td>0.000000</td>\n",
       "      <td>0.029186</td>\n",
       "      <td>1.0</td>\n",
       "    </tr>\n",
       "    <tr>\n",
       "      <th>2010_VE3</th>\n",
       "      <td>483.0</td>\n",
       "      <td>0.555011</td>\n",
       "      <td>0.187450</td>\n",
       "      <td>0.0</td>\n",
       "      <td>0.415021</td>\n",
       "      <td>0.522037</td>\n",
       "      <td>0.698337</td>\n",
       "      <td>1.0</td>\n",
       "    </tr>\n",
       "    <tr>\n",
       "      <th>2010_VED1</th>\n",
       "      <td>483.0</td>\n",
       "      <td>0.930897</td>\n",
       "      <td>0.117805</td>\n",
       "      <td>0.0</td>\n",
       "      <td>0.882971</td>\n",
       "      <td>1.000000</td>\n",
       "      <td>1.000000</td>\n",
       "      <td>1.0</td>\n",
       "    </tr>\n",
       "    <tr>\n",
       "      <th>2010_VED2</th>\n",
       "      <td>483.0</td>\n",
       "      <td>0.816855</td>\n",
       "      <td>0.152264</td>\n",
       "      <td>0.0</td>\n",
       "      <td>0.734800</td>\n",
       "      <td>0.847200</td>\n",
       "      <td>0.932800</td>\n",
       "      <td>1.0</td>\n",
       "    </tr>\n",
       "    <tr>\n",
       "      <th>2010_VH1</th>\n",
       "      <td>483.0</td>\n",
       "      <td>0.986195</td>\n",
       "      <td>0.071940</td>\n",
       "      <td>0.0</td>\n",
       "      <td>1.000000</td>\n",
       "      <td>1.000000</td>\n",
       "      <td>1.000000</td>\n",
       "      <td>1.0</td>\n",
       "    </tr>\n",
       "    <tr>\n",
       "      <th>2010_VH2</th>\n",
       "      <td>483.0</td>\n",
       "      <td>0.059185</td>\n",
       "      <td>0.126400</td>\n",
       "      <td>0.0</td>\n",
       "      <td>0.004134</td>\n",
       "      <td>0.015019</td>\n",
       "      <td>0.047081</td>\n",
       "      <td>1.0</td>\n",
       "    </tr>\n",
       "    <tr>\n",
       "      <th>2010_VH3</th>\n",
       "      <td>483.0</td>\n",
       "      <td>0.674922</td>\n",
       "      <td>0.409789</td>\n",
       "      <td>0.0</td>\n",
       "      <td>0.114850</td>\n",
       "      <td>0.941700</td>\n",
       "      <td>0.985300</td>\n",
       "      <td>1.0</td>\n",
       "    </tr>\n",
       "    <tr>\n",
       "      <th>2010_VH4</th>\n",
       "      <td>483.0</td>\n",
       "      <td>0.937378</td>\n",
       "      <td>0.174557</td>\n",
       "      <td>0.0</td>\n",
       "      <td>0.989604</td>\n",
       "      <td>1.000000</td>\n",
       "      <td>1.000000</td>\n",
       "      <td>1.0</td>\n",
       "    </tr>\n",
       "    <tr>\n",
       "      <th>2010_VH5</th>\n",
       "      <td>483.0</td>\n",
       "      <td>0.546460</td>\n",
       "      <td>0.145992</td>\n",
       "      <td>0.0</td>\n",
       "      <td>0.462410</td>\n",
       "      <td>0.564600</td>\n",
       "      <td>0.642955</td>\n",
       "      <td>1.0</td>\n",
       "    </tr>\n",
       "    <tr>\n",
       "      <th>VA4_2010</th>\n",
       "      <td>483.0</td>\n",
       "      <td>0.389294</td>\n",
       "      <td>0.145132</td>\n",
       "      <td>0.0</td>\n",
       "      <td>0.296886</td>\n",
       "      <td>0.378254</td>\n",
       "      <td>0.473441</td>\n",
       "      <td>1.0</td>\n",
       "    </tr>\n",
       "  </tbody>\n",
       "</table>\n",
       "</div>"
      ]
     },
     "metadata": {},
     "output_type": "display_data",
     "jetTransient": {
      "display_id": null
     }
    }
   ],
   "execution_count": 5
  },
  {
   "cell_type": "markdown",
   "id": "52c977e9c11f761f",
   "metadata": {},
   "source": [
    "### Evaluate user-desired options"
   ]
  },
  {
   "cell_type": "code",
   "id": "58acf375465b63bf",
   "metadata": {
    "ExecuteTime": {
     "end_time": "2025-09-03T15:08:47.132852Z",
     "start_time": "2025-09-03T15:08:43.234827Z"
    }
   },
   "source": [
    "\n",
    "\n",
    "pre_results = [\n",
    "  evaluate_cluster(df_processed, k)\n",
    "  for k in range(MIN_CLUSTERS, MAX_CLUSTERS + 1)\n",
    "]\n",
    "\n",
    "df_pre_results = pd.DataFrame(pre_results,\n",
    "                              columns=['cluster', 'num_clusters',\n",
    "                                       'silhouette_score',\n",
    "                                       'davies_bouldin_score',\n",
    "                                       'dunn_score'])\n",
    "\n",
    "comparison_graph = get_comparision_clusters_graph(df_pre_results.round(3),\n",
    "                                                  title=\"Cluster Evaluation Metrics Comparison\")\n",
    "\n",
    "df_pre_results"
   ],
   "outputs": [
    {
     "data": {
      "text/plain": [
       "    cluster  num_clusters  silhouette_score  davies_bouldin_score  dunn_score\n",
       "0  3 groups             3          0.299611              1.509108    0.228483\n",
       "1  4 groups             4          0.264569              1.975772    0.211635\n",
       "2  5 groups             5          0.233157              1.935129    0.195972\n",
       "3  6 groups             6          0.213813              1.822688    0.175760\n",
       "4  7 groups             7          0.189489              1.928467    0.146368"
      ],
      "text/html": [
       "<div>\n",
       "<style scoped>\n",
       "    .dataframe tbody tr th:only-of-type {\n",
       "        vertical-align: middle;\n",
       "    }\n",
       "\n",
       "    .dataframe tbody tr th {\n",
       "        vertical-align: top;\n",
       "    }\n",
       "\n",
       "    .dataframe thead th {\n",
       "        text-align: right;\n",
       "    }\n",
       "</style>\n",
       "<table border=\"1\" class=\"dataframe\">\n",
       "  <thead>\n",
       "    <tr style=\"text-align: right;\">\n",
       "      <th></th>\n",
       "      <th>cluster</th>\n",
       "      <th>num_clusters</th>\n",
       "      <th>silhouette_score</th>\n",
       "      <th>davies_bouldin_score</th>\n",
       "      <th>dunn_score</th>\n",
       "    </tr>\n",
       "  </thead>\n",
       "  <tbody>\n",
       "    <tr>\n",
       "      <th>0</th>\n",
       "      <td>3 groups</td>\n",
       "      <td>3</td>\n",
       "      <td>0.299611</td>\n",
       "      <td>1.509108</td>\n",
       "      <td>0.228483</td>\n",
       "    </tr>\n",
       "    <tr>\n",
       "      <th>1</th>\n",
       "      <td>4 groups</td>\n",
       "      <td>4</td>\n",
       "      <td>0.264569</td>\n",
       "      <td>1.975772</td>\n",
       "      <td>0.211635</td>\n",
       "    </tr>\n",
       "    <tr>\n",
       "      <th>2</th>\n",
       "      <td>5 groups</td>\n",
       "      <td>5</td>\n",
       "      <td>0.233157</td>\n",
       "      <td>1.935129</td>\n",
       "      <td>0.195972</td>\n",
       "    </tr>\n",
       "    <tr>\n",
       "      <th>3</th>\n",
       "      <td>6 groups</td>\n",
       "      <td>6</td>\n",
       "      <td>0.213813</td>\n",
       "      <td>1.822688</td>\n",
       "      <td>0.175760</td>\n",
       "    </tr>\n",
       "    <tr>\n",
       "      <th>4</th>\n",
       "      <td>7 groups</td>\n",
       "      <td>7</td>\n",
       "      <td>0.189489</td>\n",
       "      <td>1.928467</td>\n",
       "      <td>0.146368</td>\n",
       "    </tr>\n",
       "  </tbody>\n",
       "</table>\n",
       "</div>"
      ]
     },
     "execution_count": 6,
     "metadata": {},
     "output_type": "execute_result"
    }
   ],
   "execution_count": 6
  },
  {
   "cell_type": "code",
   "id": "dbd81c9c9de3e7f1",
   "metadata": {
    "ExecuteTime": {
     "end_time": "2025-09-03T15:08:50.174013Z",
     "start_time": "2025-09-03T15:08:48.269884Z"
    }
   },
   "source": "comparison_graph",
   "outputs": [
    {
     "data": {
      "application/vnd.plotly.v1+json": {
       "data": [
        {
         "hovertemplate": "cluster=%{x}<br>silhouette_score=%{y}<extra></extra>",
         "legendgroup": "3 groups",
         "marker": {
          "color": "#636efa",
          "pattern": {
           "shape": ""
          }
         },
         "name": "3 groups",
         "orientation": "v",
         "showlegend": true,
         "textposition": "auto",
         "texttemplate": "%{y}",
         "x": [
          "3 groups"
         ],
         "xaxis": "x",
         "y": {
          "dtype": "f8",
          "bdata": "MzMzMzMz0z8="
         },
         "yaxis": "y",
         "type": "bar"
        },
        {
         "hovertemplate": "cluster=%{x}<br>silhouette_score=%{y}<extra></extra>",
         "legendgroup": "4 groups",
         "marker": {
          "color": "#EF553B",
          "pattern": {
           "shape": ""
          }
         },
         "name": "4 groups",
         "orientation": "v",
         "showlegend": true,
         "textposition": "auto",
         "texttemplate": "%{y}",
         "x": [
          "4 groups"
         ],
         "xaxis": "x",
         "y": {
          "dtype": "f8",
          "bdata": "9ihcj8L10D8="
         },
         "yaxis": "y",
         "type": "bar"
        },
        {
         "hovertemplate": "cluster=%{x}<br>silhouette_score=%{y}<extra></extra>",
         "legendgroup": "5 groups",
         "marker": {
          "color": "#00cc96",
          "pattern": {
           "shape": ""
          }
         },
         "name": "5 groups",
         "orientation": "v",
         "showlegend": true,
         "textposition": "auto",
         "texttemplate": "%{y}",
         "x": [
          "5 groups"
         ],
         "xaxis": "x",
         "y": {
          "dtype": "f8",
          "bdata": "bef7qfHSzT8="
         },
         "yaxis": "y",
         "type": "bar"
        },
        {
         "hovertemplate": "cluster=%{x}<br>silhouette_score=%{y}<extra></extra>",
         "legendgroup": "6 groups",
         "marker": {
          "color": "#ab63fa",
          "pattern": {
           "shape": ""
          }
         },
         "name": "6 groups",
         "orientation": "v",
         "showlegend": true,
         "textposition": "auto",
         "texttemplate": "%{y}",
         "x": [
          "6 groups"
         ],
         "xaxis": "x",
         "y": {
          "dtype": "f8",
          "bdata": "MQisHFpkyz8="
         },
         "yaxis": "y",
         "type": "bar"
        },
        {
         "hovertemplate": "cluster=%{x}<br>silhouette_score=%{y}<extra></extra>",
         "legendgroup": "7 groups",
         "marker": {
          "color": "#FFA15A",
          "pattern": {
           "shape": ""
          }
         },
         "name": "7 groups",
         "orientation": "v",
         "showlegend": true,
         "textposition": "auto",
         "texttemplate": "%{y}",
         "x": [
          "7 groups"
         ],
         "xaxis": "x",
         "y": {
          "dtype": "f8",
          "bdata": "/tR46SYxyD8="
         },
         "yaxis": "y",
         "type": "bar"
        }
       ],
       "layout": {
        "template": {
         "data": {
          "histogram2dcontour": [
           {
            "type": "histogram2dcontour",
            "colorbar": {
             "outlinewidth": 0,
             "ticks": ""
            },
            "colorscale": [
             [
              0.0,
              "#0d0887"
             ],
             [
              0.1111111111111111,
              "#46039f"
             ],
             [
              0.2222222222222222,
              "#7201a8"
             ],
             [
              0.3333333333333333,
              "#9c179e"
             ],
             [
              0.4444444444444444,
              "#bd3786"
             ],
             [
              0.5555555555555556,
              "#d8576b"
             ],
             [
              0.6666666666666666,
              "#ed7953"
             ],
             [
              0.7777777777777778,
              "#fb9f3a"
             ],
             [
              0.8888888888888888,
              "#fdca26"
             ],
             [
              1.0,
              "#f0f921"
             ]
            ]
           }
          ],
          "choropleth": [
           {
            "type": "choropleth",
            "colorbar": {
             "outlinewidth": 0,
             "ticks": ""
            }
           }
          ],
          "histogram2d": [
           {
            "type": "histogram2d",
            "colorbar": {
             "outlinewidth": 0,
             "ticks": ""
            },
            "colorscale": [
             [
              0.0,
              "#0d0887"
             ],
             [
              0.1111111111111111,
              "#46039f"
             ],
             [
              0.2222222222222222,
              "#7201a8"
             ],
             [
              0.3333333333333333,
              "#9c179e"
             ],
             [
              0.4444444444444444,
              "#bd3786"
             ],
             [
              0.5555555555555556,
              "#d8576b"
             ],
             [
              0.6666666666666666,
              "#ed7953"
             ],
             [
              0.7777777777777778,
              "#fb9f3a"
             ],
             [
              0.8888888888888888,
              "#fdca26"
             ],
             [
              1.0,
              "#f0f921"
             ]
            ]
           }
          ],
          "heatmap": [
           {
            "type": "heatmap",
            "colorbar": {
             "outlinewidth": 0,
             "ticks": ""
            },
            "colorscale": [
             [
              0.0,
              "#0d0887"
             ],
             [
              0.1111111111111111,
              "#46039f"
             ],
             [
              0.2222222222222222,
              "#7201a8"
             ],
             [
              0.3333333333333333,
              "#9c179e"
             ],
             [
              0.4444444444444444,
              "#bd3786"
             ],
             [
              0.5555555555555556,
              "#d8576b"
             ],
             [
              0.6666666666666666,
              "#ed7953"
             ],
             [
              0.7777777777777778,
              "#fb9f3a"
             ],
             [
              0.8888888888888888,
              "#fdca26"
             ],
             [
              1.0,
              "#f0f921"
             ]
            ]
           }
          ],
          "contourcarpet": [
           {
            "type": "contourcarpet",
            "colorbar": {
             "outlinewidth": 0,
             "ticks": ""
            }
           }
          ],
          "contour": [
           {
            "type": "contour",
            "colorbar": {
             "outlinewidth": 0,
             "ticks": ""
            },
            "colorscale": [
             [
              0.0,
              "#0d0887"
             ],
             [
              0.1111111111111111,
              "#46039f"
             ],
             [
              0.2222222222222222,
              "#7201a8"
             ],
             [
              0.3333333333333333,
              "#9c179e"
             ],
             [
              0.4444444444444444,
              "#bd3786"
             ],
             [
              0.5555555555555556,
              "#d8576b"
             ],
             [
              0.6666666666666666,
              "#ed7953"
             ],
             [
              0.7777777777777778,
              "#fb9f3a"
             ],
             [
              0.8888888888888888,
              "#fdca26"
             ],
             [
              1.0,
              "#f0f921"
             ]
            ]
           }
          ],
          "surface": [
           {
            "type": "surface",
            "colorbar": {
             "outlinewidth": 0,
             "ticks": ""
            },
            "colorscale": [
             [
              0.0,
              "#0d0887"
             ],
             [
              0.1111111111111111,
              "#46039f"
             ],
             [
              0.2222222222222222,
              "#7201a8"
             ],
             [
              0.3333333333333333,
              "#9c179e"
             ],
             [
              0.4444444444444444,
              "#bd3786"
             ],
             [
              0.5555555555555556,
              "#d8576b"
             ],
             [
              0.6666666666666666,
              "#ed7953"
             ],
             [
              0.7777777777777778,
              "#fb9f3a"
             ],
             [
              0.8888888888888888,
              "#fdca26"
             ],
             [
              1.0,
              "#f0f921"
             ]
            ]
           }
          ],
          "mesh3d": [
           {
            "type": "mesh3d",
            "colorbar": {
             "outlinewidth": 0,
             "ticks": ""
            }
           }
          ],
          "scatter": [
           {
            "fillpattern": {
             "fillmode": "overlay",
             "size": 10,
             "solidity": 0.2
            },
            "type": "scatter"
           }
          ],
          "parcoords": [
           {
            "type": "parcoords",
            "line": {
             "colorbar": {
              "outlinewidth": 0,
              "ticks": ""
             }
            }
           }
          ],
          "scatterpolargl": [
           {
            "type": "scatterpolargl",
            "marker": {
             "colorbar": {
              "outlinewidth": 0,
              "ticks": ""
             }
            }
           }
          ],
          "bar": [
           {
            "error_x": {
             "color": "#2a3f5f"
            },
            "error_y": {
             "color": "#2a3f5f"
            },
            "marker": {
             "line": {
              "color": "#E5ECF6",
              "width": 0.5
             },
             "pattern": {
              "fillmode": "overlay",
              "size": 10,
              "solidity": 0.2
             }
            },
            "type": "bar"
           }
          ],
          "scattergeo": [
           {
            "type": "scattergeo",
            "marker": {
             "colorbar": {
              "outlinewidth": 0,
              "ticks": ""
             }
            }
           }
          ],
          "scatterpolar": [
           {
            "type": "scatterpolar",
            "marker": {
             "colorbar": {
              "outlinewidth": 0,
              "ticks": ""
             }
            }
           }
          ],
          "histogram": [
           {
            "marker": {
             "pattern": {
              "fillmode": "overlay",
              "size": 10,
              "solidity": 0.2
             }
            },
            "type": "histogram"
           }
          ],
          "scattergl": [
           {
            "type": "scattergl",
            "marker": {
             "colorbar": {
              "outlinewidth": 0,
              "ticks": ""
             }
            }
           }
          ],
          "scatter3d": [
           {
            "type": "scatter3d",
            "line": {
             "colorbar": {
              "outlinewidth": 0,
              "ticks": ""
             }
            },
            "marker": {
             "colorbar": {
              "outlinewidth": 0,
              "ticks": ""
             }
            }
           }
          ],
          "scattermap": [
           {
            "type": "scattermap",
            "marker": {
             "colorbar": {
              "outlinewidth": 0,
              "ticks": ""
             }
            }
           }
          ],
          "scattermapbox": [
           {
            "type": "scattermapbox",
            "marker": {
             "colorbar": {
              "outlinewidth": 0,
              "ticks": ""
             }
            }
           }
          ],
          "scatterternary": [
           {
            "type": "scatterternary",
            "marker": {
             "colorbar": {
              "outlinewidth": 0,
              "ticks": ""
             }
            }
           }
          ],
          "scattercarpet": [
           {
            "type": "scattercarpet",
            "marker": {
             "colorbar": {
              "outlinewidth": 0,
              "ticks": ""
             }
            }
           }
          ],
          "carpet": [
           {
            "aaxis": {
             "endlinecolor": "#2a3f5f",
             "gridcolor": "white",
             "linecolor": "white",
             "minorgridcolor": "white",
             "startlinecolor": "#2a3f5f"
            },
            "baxis": {
             "endlinecolor": "#2a3f5f",
             "gridcolor": "white",
             "linecolor": "white",
             "minorgridcolor": "white",
             "startlinecolor": "#2a3f5f"
            },
            "type": "carpet"
           }
          ],
          "table": [
           {
            "cells": {
             "fill": {
              "color": "#EBF0F8"
             },
             "line": {
              "color": "white"
             }
            },
            "header": {
             "fill": {
              "color": "#C8D4E3"
             },
             "line": {
              "color": "white"
             }
            },
            "type": "table"
           }
          ],
          "barpolar": [
           {
            "marker": {
             "line": {
              "color": "#E5ECF6",
              "width": 0.5
             },
             "pattern": {
              "fillmode": "overlay",
              "size": 10,
              "solidity": 0.2
             }
            },
            "type": "barpolar"
           }
          ],
          "pie": [
           {
            "automargin": true,
            "type": "pie"
           }
          ]
         },
         "layout": {
          "autotypenumbers": "strict",
          "colorway": [
           "#636efa",
           "#EF553B",
           "#00cc96",
           "#ab63fa",
           "#FFA15A",
           "#19d3f3",
           "#FF6692",
           "#B6E880",
           "#FF97FF",
           "#FECB52"
          ],
          "font": {
           "color": "#2a3f5f"
          },
          "hovermode": "closest",
          "hoverlabel": {
           "align": "left"
          },
          "paper_bgcolor": "white",
          "plot_bgcolor": "#E5ECF6",
          "polar": {
           "bgcolor": "#E5ECF6",
           "angularaxis": {
            "gridcolor": "white",
            "linecolor": "white",
            "ticks": ""
           },
           "radialaxis": {
            "gridcolor": "white",
            "linecolor": "white",
            "ticks": ""
           }
          },
          "ternary": {
           "bgcolor": "#E5ECF6",
           "aaxis": {
            "gridcolor": "white",
            "linecolor": "white",
            "ticks": ""
           },
           "baxis": {
            "gridcolor": "white",
            "linecolor": "white",
            "ticks": ""
           },
           "caxis": {
            "gridcolor": "white",
            "linecolor": "white",
            "ticks": ""
           }
          },
          "coloraxis": {
           "colorbar": {
            "outlinewidth": 0,
            "ticks": ""
           }
          },
          "colorscale": {
           "sequential": [
            [
             0.0,
             "#0d0887"
            ],
            [
             0.1111111111111111,
             "#46039f"
            ],
            [
             0.2222222222222222,
             "#7201a8"
            ],
            [
             0.3333333333333333,
             "#9c179e"
            ],
            [
             0.4444444444444444,
             "#bd3786"
            ],
            [
             0.5555555555555556,
             "#d8576b"
            ],
            [
             0.6666666666666666,
             "#ed7953"
            ],
            [
             0.7777777777777778,
             "#fb9f3a"
            ],
            [
             0.8888888888888888,
             "#fdca26"
            ],
            [
             1.0,
             "#f0f921"
            ]
           ],
           "sequentialminus": [
            [
             0.0,
             "#0d0887"
            ],
            [
             0.1111111111111111,
             "#46039f"
            ],
            [
             0.2222222222222222,
             "#7201a8"
            ],
            [
             0.3333333333333333,
             "#9c179e"
            ],
            [
             0.4444444444444444,
             "#bd3786"
            ],
            [
             0.5555555555555556,
             "#d8576b"
            ],
            [
             0.6666666666666666,
             "#ed7953"
            ],
            [
             0.7777777777777778,
             "#fb9f3a"
            ],
            [
             0.8888888888888888,
             "#fdca26"
            ],
            [
             1.0,
             "#f0f921"
            ]
           ],
           "diverging": [
            [
             0,
             "#8e0152"
            ],
            [
             0.1,
             "#c51b7d"
            ],
            [
             0.2,
             "#de77ae"
            ],
            [
             0.3,
             "#f1b6da"
            ],
            [
             0.4,
             "#fde0ef"
            ],
            [
             0.5,
             "#f7f7f7"
            ],
            [
             0.6,
             "#e6f5d0"
            ],
            [
             0.7,
             "#b8e186"
            ],
            [
             0.8,
             "#7fbc41"
            ],
            [
             0.9,
             "#4d9221"
            ],
            [
             1,
             "#276419"
            ]
           ]
          },
          "xaxis": {
           "gridcolor": "white",
           "linecolor": "white",
           "ticks": "",
           "title": {
            "standoff": 15
           },
           "zerolinecolor": "white",
           "automargin": true,
           "zerolinewidth": 2
          },
          "yaxis": {
           "gridcolor": "white",
           "linecolor": "white",
           "ticks": "",
           "title": {
            "standoff": 15
           },
           "zerolinecolor": "white",
           "automargin": true,
           "zerolinewidth": 2
          },
          "scene": {
           "xaxis": {
            "backgroundcolor": "#E5ECF6",
            "gridcolor": "white",
            "linecolor": "white",
            "showbackground": true,
            "ticks": "",
            "zerolinecolor": "white",
            "gridwidth": 2
           },
           "yaxis": {
            "backgroundcolor": "#E5ECF6",
            "gridcolor": "white",
            "linecolor": "white",
            "showbackground": true,
            "ticks": "",
            "zerolinecolor": "white",
            "gridwidth": 2
           },
           "zaxis": {
            "backgroundcolor": "#E5ECF6",
            "gridcolor": "white",
            "linecolor": "white",
            "showbackground": true,
            "ticks": "",
            "zerolinecolor": "white",
            "gridwidth": 2
           }
          },
          "shapedefaults": {
           "line": {
            "color": "#2a3f5f"
           }
          },
          "annotationdefaults": {
           "arrowcolor": "#2a3f5f",
           "arrowhead": 0,
           "arrowwidth": 1
          },
          "geo": {
           "bgcolor": "white",
           "landcolor": "#E5ECF6",
           "subunitcolor": "white",
           "showland": true,
           "showlakes": true,
           "lakecolor": "white"
          },
          "title": {
           "x": 0.05
          },
          "mapbox": {
           "style": "light"
          }
         }
        },
        "xaxis": {
         "anchor": "y",
         "domain": [
          0.0,
          1.0
         ],
         "title": {
          "text": "cluster"
         },
         "categoryorder": "array",
         "categoryarray": [
          "3 groups",
          "4 groups",
          "5 groups",
          "6 groups",
          "7 groups"
         ]
        },
        "yaxis": {
         "anchor": "x",
         "domain": [
          0.0,
          1.0
         ],
         "title": {
          "text": "silhouette_score"
         },
         "range": [
          -1,
          1
         ]
        },
        "legend": {
         "title": {
          "text": "cluster"
         },
         "tracegroupgap": 0
        },
        "title": {
         "text": "Cluster Evaluation Metrics Comparison"
        },
        "barmode": "relative",
        "shapes": [
         {
          "line": {
           "color": "red",
           "dash": "dot",
           "width": 2
          },
          "type": "line",
          "x0": 0,
          "x1": 1,
          "xref": "x domain",
          "y0": 0.5,
          "y1": 0.5,
          "yref": "y"
         },
         {
          "line": {
           "color": "orange",
           "dash": "dot"
          },
          "type": "line",
          "x0": 0,
          "x1": 1,
          "xref": "x domain",
          "y0": 0.24,
          "y1": 0.24,
          "yref": "y"
         }
        ],
        "annotations": [
         {
          "showarrow": false,
          "text": "threshold",
          "x": 1,
          "xanchor": "right",
          "xref": "x domain",
          "y": 0.5,
          "yanchor": "top",
          "yref": "y"
         },
         {
          "showarrow": false,
          "text": "mean: 0.24",
          "x": 1,
          "xanchor": "right",
          "xref": "x domain",
          "y": 0.24,
          "yanchor": "bottom",
          "yref": "y"
         }
        ],
        "height": 360,
        "width": 720,
        "showlegend": false
       },
       "config": {
        "plotlyServerURL": "https://plot.ly"
       }
      }
     },
     "metadata": {},
     "output_type": "display_data",
     "jetTransient": {
      "display_id": null
     }
    }
   ],
   "execution_count": 7
  },
  {
   "cell_type": "markdown",
   "id": "a83e1ce5de0ca968",
   "metadata": {},
   "source": [
    "### Applying the Smart K-Means"
   ]
  },
  {
   "cell_type": "code",
   "id": "69c94fffa8b2baf0",
   "metadata": {
    "ExecuteTime": {
     "end_time": "2025-09-03T15:08:53.023226Z",
     "start_time": "2025-09-03T15:08:50.291876Z"
    }
   },
   "source": [
    "\n",
    "\n",
    "\n",
    "results = calculate_best_k_with_entropy(df_processed, QTD_MIN_CLUSTERS,\n",
    "                                        QTD_MAX_CLUSTERS)\n",
    "results[0]"
   ],
   "outputs": [
    {
     "data": {
      "text/plain": [
       "    cluster  qty_subindicators  silhouette_score  davies_bouldin_score  \\\n",
       "0  3 groups                  7          0.568408              0.988493   \n",
       "1  5 groups                  7          0.521769              0.917974   \n",
       "2  4 groups                  7          0.515995              0.970469   \n",
       "3  6 groups                  4          0.529098              0.979725   \n",
       "4  7 groups                  4          0.524111              0.858092   \n",
       "\n",
       "   dunn_score                                      subindicators  \\\n",
       "0    0.378603  [2010_VH2, 2010_VD2, 2010_VD1, 2010_VE2, 2010_...   \n",
       "1    0.330873  [2010_VH2, 2010_VD2, 2010_VD1, 2010_VE2, 2010_...   \n",
       "2    0.296098  [2010_VH2, 2010_VD2, 2010_VD1, 2010_VE2, 2010_...   \n",
       "3    0.170257          [2010_VE2, 2010_VH4, 2010_VED1, 2010_VH1]   \n",
       "4    0.199247          [2010_VE2, 2010_VH4, 2010_VED1, 2010_VH1]   \n",
       "\n",
       "                                             details  \n",
       "0  {'cluster': '3 groups', 'num_clusters': 3, 'la...  \n",
       "1  {'cluster': '5 groups', 'num_clusters': 5, 'la...  \n",
       "2  {'cluster': '4 groups', 'num_clusters': 4, 'la...  \n",
       "3  {'cluster': '6 groups', 'num_clusters': 6, 'la...  \n",
       "4  {'cluster': '7 groups', 'num_clusters': 7, 'la...  "
      ],
      "text/html": [
       "<div>\n",
       "<style scoped>\n",
       "    .dataframe tbody tr th:only-of-type {\n",
       "        vertical-align: middle;\n",
       "    }\n",
       "\n",
       "    .dataframe tbody tr th {\n",
       "        vertical-align: top;\n",
       "    }\n",
       "\n",
       "    .dataframe thead th {\n",
       "        text-align: right;\n",
       "    }\n",
       "</style>\n",
       "<table border=\"1\" class=\"dataframe\">\n",
       "  <thead>\n",
       "    <tr style=\"text-align: right;\">\n",
       "      <th></th>\n",
       "      <th>cluster</th>\n",
       "      <th>qty_subindicators</th>\n",
       "      <th>silhouette_score</th>\n",
       "      <th>davies_bouldin_score</th>\n",
       "      <th>dunn_score</th>\n",
       "      <th>subindicators</th>\n",
       "      <th>details</th>\n",
       "    </tr>\n",
       "  </thead>\n",
       "  <tbody>\n",
       "    <tr>\n",
       "      <th>0</th>\n",
       "      <td>3 groups</td>\n",
       "      <td>7</td>\n",
       "      <td>0.568408</td>\n",
       "      <td>0.988493</td>\n",
       "      <td>0.378603</td>\n",
       "      <td>[2010_VH2, 2010_VD2, 2010_VD1, 2010_VE2, 2010_...</td>\n",
       "      <td>{'cluster': '3 groups', 'num_clusters': 3, 'la...</td>\n",
       "    </tr>\n",
       "    <tr>\n",
       "      <th>1</th>\n",
       "      <td>5 groups</td>\n",
       "      <td>7</td>\n",
       "      <td>0.521769</td>\n",
       "      <td>0.917974</td>\n",
       "      <td>0.330873</td>\n",
       "      <td>[2010_VH2, 2010_VD2, 2010_VD1, 2010_VE2, 2010_...</td>\n",
       "      <td>{'cluster': '5 groups', 'num_clusters': 5, 'la...</td>\n",
       "    </tr>\n",
       "    <tr>\n",
       "      <th>2</th>\n",
       "      <td>4 groups</td>\n",
       "      <td>7</td>\n",
       "      <td>0.515995</td>\n",
       "      <td>0.970469</td>\n",
       "      <td>0.296098</td>\n",
       "      <td>[2010_VH2, 2010_VD2, 2010_VD1, 2010_VE2, 2010_...</td>\n",
       "      <td>{'cluster': '4 groups', 'num_clusters': 4, 'la...</td>\n",
       "    </tr>\n",
       "    <tr>\n",
       "      <th>3</th>\n",
       "      <td>6 groups</td>\n",
       "      <td>4</td>\n",
       "      <td>0.529098</td>\n",
       "      <td>0.979725</td>\n",
       "      <td>0.170257</td>\n",
       "      <td>[2010_VE2, 2010_VH4, 2010_VED1, 2010_VH1]</td>\n",
       "      <td>{'cluster': '6 groups', 'num_clusters': 6, 'la...</td>\n",
       "    </tr>\n",
       "    <tr>\n",
       "      <th>4</th>\n",
       "      <td>7 groups</td>\n",
       "      <td>4</td>\n",
       "      <td>0.524111</td>\n",
       "      <td>0.858092</td>\n",
       "      <td>0.199247</td>\n",
       "      <td>[2010_VE2, 2010_VH4, 2010_VED1, 2010_VH1]</td>\n",
       "      <td>{'cluster': '7 groups', 'num_clusters': 7, 'la...</td>\n",
       "    </tr>\n",
       "  </tbody>\n",
       "</table>\n",
       "</div>"
      ]
     },
     "execution_count": 8,
     "metadata": {},
     "output_type": "execute_result"
    }
   ],
   "execution_count": 8
  },
  {
   "cell_type": "code",
   "id": "2f404189dca4470d",
   "metadata": {
    "ExecuteTime": {
     "end_time": "2025-09-03T15:08:53.501232Z",
     "start_time": "2025-09-03T15:08:53.484705Z"
    }
   },
   "source": [
    "pd.DataFrame(results[0].iloc[0]['details']['details'])"
   ],
   "outputs": [
    {
     "data": {
      "text/plain": [
       "  group  count     score                                          centroids\n",
       "0    C1    413  0.629718  [[0.027892432821587293, 0.9185911974744843, 0....\n",
       "1    C2     38  0.225383  [[0.027892432821587293, 0.9185911974744843, 0....\n",
       "2    C3     32  0.184476  [[0.027892432821587293, 0.9185911974744843, 0...."
      ],
      "text/html": [
       "<div>\n",
       "<style scoped>\n",
       "    .dataframe tbody tr th:only-of-type {\n",
       "        vertical-align: middle;\n",
       "    }\n",
       "\n",
       "    .dataframe tbody tr th {\n",
       "        vertical-align: top;\n",
       "    }\n",
       "\n",
       "    .dataframe thead th {\n",
       "        text-align: right;\n",
       "    }\n",
       "</style>\n",
       "<table border=\"1\" class=\"dataframe\">\n",
       "  <thead>\n",
       "    <tr style=\"text-align: right;\">\n",
       "      <th></th>\n",
       "      <th>group</th>\n",
       "      <th>count</th>\n",
       "      <th>score</th>\n",
       "      <th>centroids</th>\n",
       "    </tr>\n",
       "  </thead>\n",
       "  <tbody>\n",
       "    <tr>\n",
       "      <th>0</th>\n",
       "      <td>C1</td>\n",
       "      <td>413</td>\n",
       "      <td>0.629718</td>\n",
       "      <td>[[0.027892432821587293, 0.9185911974744843, 0....</td>\n",
       "    </tr>\n",
       "    <tr>\n",
       "      <th>1</th>\n",
       "      <td>C2</td>\n",
       "      <td>38</td>\n",
       "      <td>0.225383</td>\n",
       "      <td>[[0.027892432821587293, 0.9185911974744843, 0....</td>\n",
       "    </tr>\n",
       "    <tr>\n",
       "      <th>2</th>\n",
       "      <td>C3</td>\n",
       "      <td>32</td>\n",
       "      <td>0.184476</td>\n",
       "      <td>[[0.027892432821587293, 0.9185911974744843, 0....</td>\n",
       "    </tr>\n",
       "  </tbody>\n",
       "</table>\n",
       "</div>"
      ]
     },
     "execution_count": 9,
     "metadata": {},
     "output_type": "execute_result"
    }
   ],
   "execution_count": 9
  },
  {
   "cell_type": "code",
   "id": "ba2c7340430e1235",
   "metadata": {
    "ExecuteTime": {
     "end_time": "2025-09-03T15:08:53.708005Z",
     "start_time": "2025-09-03T15:08:53.630774Z"
    }
   },
   "source": [
    "import plotly.express as px\n",
    "\n",
    "df_entropies = results[1]\n",
    "px.bar(\n",
    "  df_entropies.sort_values(by=[\"entropy\"], ascending=False),\n",
    "  x=\"entropy\",\n",
    "  y=\"subindicator\",\n",
    "  color=\"entropy\",\n",
    "  color_continuous_scale=\"sunset\",\n",
    "  text_auto=True,\n",
    "  title=\"Subindicators Entropy\"\n",
    ")"
   ],
   "outputs": [
    {
     "data": {
      "application/vnd.plotly.v1+json": {
       "data": [
        {
         "hovertemplate": "entropy=%{marker.color}<br>subindicator=%{y}<extra></extra>",
         "legendgroup": "",
         "marker": {
          "color": {
           "dtype": "f8",
           "bdata": "rsv/Ie7UIUBtiesVK6QhQE659KnYfyFAL7ObLHxjIUDkeEPn0CQhQB6t/XhKjCBAwkvScvdRIECXQ8raWiQcQFqhhkTrMRtA6b+y9W2oGkB75uRl4K4ZQIoan9+fYhFA1r6F4G31EEDGY1YOqaMMQOZT9pnLuQBA"
          },
          "coloraxis": "coloraxis",
          "pattern": {
           "shape": ""
          }
         },
         "name": "",
         "orientation": "h",
         "showlegend": false,
         "textposition": "auto",
         "texttemplate": "%{x}",
         "x": {
          "dtype": "f8",
          "bdata": "rsv/Ie7UIUBtiesVK6QhQE659KnYfyFAL7ObLHxjIUDkeEPn0CQhQB6t/XhKjCBAwkvScvdRIECXQ8raWiQcQFqhhkTrMRtA6b+y9W2oGkB75uRl4K4ZQIoan9+fYhFA1r6F4G31EEDGY1YOqaMMQOZT9pnLuQBA"
         },
         "xaxis": "x",
         "y": [
          "VA4_2010",
          "2010_VE3",
          "2010_VH5",
          "2010_VD3",
          "2010_VE1",
          "2010_VED2",
          "2010_VH3",
          "2010_VD4",
          "2010_VH2",
          "2010_VD2",
          "2010_VD1",
          "2010_VE2",
          "2010_VH4",
          "2010_VED1",
          "2010_VH1"
         ],
         "yaxis": "y",
         "type": "bar"
        }
       ],
       "layout": {
        "template": {
         "data": {
          "histogram2dcontour": [
           {
            "type": "histogram2dcontour",
            "colorbar": {
             "outlinewidth": 0,
             "ticks": ""
            },
            "colorscale": [
             [
              0.0,
              "#0d0887"
             ],
             [
              0.1111111111111111,
              "#46039f"
             ],
             [
              0.2222222222222222,
              "#7201a8"
             ],
             [
              0.3333333333333333,
              "#9c179e"
             ],
             [
              0.4444444444444444,
              "#bd3786"
             ],
             [
              0.5555555555555556,
              "#d8576b"
             ],
             [
              0.6666666666666666,
              "#ed7953"
             ],
             [
              0.7777777777777778,
              "#fb9f3a"
             ],
             [
              0.8888888888888888,
              "#fdca26"
             ],
             [
              1.0,
              "#f0f921"
             ]
            ]
           }
          ],
          "choropleth": [
           {
            "type": "choropleth",
            "colorbar": {
             "outlinewidth": 0,
             "ticks": ""
            }
           }
          ],
          "histogram2d": [
           {
            "type": "histogram2d",
            "colorbar": {
             "outlinewidth": 0,
             "ticks": ""
            },
            "colorscale": [
             [
              0.0,
              "#0d0887"
             ],
             [
              0.1111111111111111,
              "#46039f"
             ],
             [
              0.2222222222222222,
              "#7201a8"
             ],
             [
              0.3333333333333333,
              "#9c179e"
             ],
             [
              0.4444444444444444,
              "#bd3786"
             ],
             [
              0.5555555555555556,
              "#d8576b"
             ],
             [
              0.6666666666666666,
              "#ed7953"
             ],
             [
              0.7777777777777778,
              "#fb9f3a"
             ],
             [
              0.8888888888888888,
              "#fdca26"
             ],
             [
              1.0,
              "#f0f921"
             ]
            ]
           }
          ],
          "heatmap": [
           {
            "type": "heatmap",
            "colorbar": {
             "outlinewidth": 0,
             "ticks": ""
            },
            "colorscale": [
             [
              0.0,
              "#0d0887"
             ],
             [
              0.1111111111111111,
              "#46039f"
             ],
             [
              0.2222222222222222,
              "#7201a8"
             ],
             [
              0.3333333333333333,
              "#9c179e"
             ],
             [
              0.4444444444444444,
              "#bd3786"
             ],
             [
              0.5555555555555556,
              "#d8576b"
             ],
             [
              0.6666666666666666,
              "#ed7953"
             ],
             [
              0.7777777777777778,
              "#fb9f3a"
             ],
             [
              0.8888888888888888,
              "#fdca26"
             ],
             [
              1.0,
              "#f0f921"
             ]
            ]
           }
          ],
          "contourcarpet": [
           {
            "type": "contourcarpet",
            "colorbar": {
             "outlinewidth": 0,
             "ticks": ""
            }
           }
          ],
          "contour": [
           {
            "type": "contour",
            "colorbar": {
             "outlinewidth": 0,
             "ticks": ""
            },
            "colorscale": [
             [
              0.0,
              "#0d0887"
             ],
             [
              0.1111111111111111,
              "#46039f"
             ],
             [
              0.2222222222222222,
              "#7201a8"
             ],
             [
              0.3333333333333333,
              "#9c179e"
             ],
             [
              0.4444444444444444,
              "#bd3786"
             ],
             [
              0.5555555555555556,
              "#d8576b"
             ],
             [
              0.6666666666666666,
              "#ed7953"
             ],
             [
              0.7777777777777778,
              "#fb9f3a"
             ],
             [
              0.8888888888888888,
              "#fdca26"
             ],
             [
              1.0,
              "#f0f921"
             ]
            ]
           }
          ],
          "surface": [
           {
            "type": "surface",
            "colorbar": {
             "outlinewidth": 0,
             "ticks": ""
            },
            "colorscale": [
             [
              0.0,
              "#0d0887"
             ],
             [
              0.1111111111111111,
              "#46039f"
             ],
             [
              0.2222222222222222,
              "#7201a8"
             ],
             [
              0.3333333333333333,
              "#9c179e"
             ],
             [
              0.4444444444444444,
              "#bd3786"
             ],
             [
              0.5555555555555556,
              "#d8576b"
             ],
             [
              0.6666666666666666,
              "#ed7953"
             ],
             [
              0.7777777777777778,
              "#fb9f3a"
             ],
             [
              0.8888888888888888,
              "#fdca26"
             ],
             [
              1.0,
              "#f0f921"
             ]
            ]
           }
          ],
          "mesh3d": [
           {
            "type": "mesh3d",
            "colorbar": {
             "outlinewidth": 0,
             "ticks": ""
            }
           }
          ],
          "scatter": [
           {
            "fillpattern": {
             "fillmode": "overlay",
             "size": 10,
             "solidity": 0.2
            },
            "type": "scatter"
           }
          ],
          "parcoords": [
           {
            "type": "parcoords",
            "line": {
             "colorbar": {
              "outlinewidth": 0,
              "ticks": ""
             }
            }
           }
          ],
          "scatterpolargl": [
           {
            "type": "scatterpolargl",
            "marker": {
             "colorbar": {
              "outlinewidth": 0,
              "ticks": ""
             }
            }
           }
          ],
          "bar": [
           {
            "error_x": {
             "color": "#2a3f5f"
            },
            "error_y": {
             "color": "#2a3f5f"
            },
            "marker": {
             "line": {
              "color": "#E5ECF6",
              "width": 0.5
             },
             "pattern": {
              "fillmode": "overlay",
              "size": 10,
              "solidity": 0.2
             }
            },
            "type": "bar"
           }
          ],
          "scattergeo": [
           {
            "type": "scattergeo",
            "marker": {
             "colorbar": {
              "outlinewidth": 0,
              "ticks": ""
             }
            }
           }
          ],
          "scatterpolar": [
           {
            "type": "scatterpolar",
            "marker": {
             "colorbar": {
              "outlinewidth": 0,
              "ticks": ""
             }
            }
           }
          ],
          "histogram": [
           {
            "marker": {
             "pattern": {
              "fillmode": "overlay",
              "size": 10,
              "solidity": 0.2
             }
            },
            "type": "histogram"
           }
          ],
          "scattergl": [
           {
            "type": "scattergl",
            "marker": {
             "colorbar": {
              "outlinewidth": 0,
              "ticks": ""
             }
            }
           }
          ],
          "scatter3d": [
           {
            "type": "scatter3d",
            "line": {
             "colorbar": {
              "outlinewidth": 0,
              "ticks": ""
             }
            },
            "marker": {
             "colorbar": {
              "outlinewidth": 0,
              "ticks": ""
             }
            }
           }
          ],
          "scattermap": [
           {
            "type": "scattermap",
            "marker": {
             "colorbar": {
              "outlinewidth": 0,
              "ticks": ""
             }
            }
           }
          ],
          "scattermapbox": [
           {
            "type": "scattermapbox",
            "marker": {
             "colorbar": {
              "outlinewidth": 0,
              "ticks": ""
             }
            }
           }
          ],
          "scatterternary": [
           {
            "type": "scatterternary",
            "marker": {
             "colorbar": {
              "outlinewidth": 0,
              "ticks": ""
             }
            }
           }
          ],
          "scattercarpet": [
           {
            "type": "scattercarpet",
            "marker": {
             "colorbar": {
              "outlinewidth": 0,
              "ticks": ""
             }
            }
           }
          ],
          "carpet": [
           {
            "aaxis": {
             "endlinecolor": "#2a3f5f",
             "gridcolor": "white",
             "linecolor": "white",
             "minorgridcolor": "white",
             "startlinecolor": "#2a3f5f"
            },
            "baxis": {
             "endlinecolor": "#2a3f5f",
             "gridcolor": "white",
             "linecolor": "white",
             "minorgridcolor": "white",
             "startlinecolor": "#2a3f5f"
            },
            "type": "carpet"
           }
          ],
          "table": [
           {
            "cells": {
             "fill": {
              "color": "#EBF0F8"
             },
             "line": {
              "color": "white"
             }
            },
            "header": {
             "fill": {
              "color": "#C8D4E3"
             },
             "line": {
              "color": "white"
             }
            },
            "type": "table"
           }
          ],
          "barpolar": [
           {
            "marker": {
             "line": {
              "color": "#E5ECF6",
              "width": 0.5
             },
             "pattern": {
              "fillmode": "overlay",
              "size": 10,
              "solidity": 0.2
             }
            },
            "type": "barpolar"
           }
          ],
          "pie": [
           {
            "automargin": true,
            "type": "pie"
           }
          ]
         },
         "layout": {
          "autotypenumbers": "strict",
          "colorway": [
           "#636efa",
           "#EF553B",
           "#00cc96",
           "#ab63fa",
           "#FFA15A",
           "#19d3f3",
           "#FF6692",
           "#B6E880",
           "#FF97FF",
           "#FECB52"
          ],
          "font": {
           "color": "#2a3f5f"
          },
          "hovermode": "closest",
          "hoverlabel": {
           "align": "left"
          },
          "paper_bgcolor": "white",
          "plot_bgcolor": "#E5ECF6",
          "polar": {
           "bgcolor": "#E5ECF6",
           "angularaxis": {
            "gridcolor": "white",
            "linecolor": "white",
            "ticks": ""
           },
           "radialaxis": {
            "gridcolor": "white",
            "linecolor": "white",
            "ticks": ""
           }
          },
          "ternary": {
           "bgcolor": "#E5ECF6",
           "aaxis": {
            "gridcolor": "white",
            "linecolor": "white",
            "ticks": ""
           },
           "baxis": {
            "gridcolor": "white",
            "linecolor": "white",
            "ticks": ""
           },
           "caxis": {
            "gridcolor": "white",
            "linecolor": "white",
            "ticks": ""
           }
          },
          "coloraxis": {
           "colorbar": {
            "outlinewidth": 0,
            "ticks": ""
           }
          },
          "colorscale": {
           "sequential": [
            [
             0.0,
             "#0d0887"
            ],
            [
             0.1111111111111111,
             "#46039f"
            ],
            [
             0.2222222222222222,
             "#7201a8"
            ],
            [
             0.3333333333333333,
             "#9c179e"
            ],
            [
             0.4444444444444444,
             "#bd3786"
            ],
            [
             0.5555555555555556,
             "#d8576b"
            ],
            [
             0.6666666666666666,
             "#ed7953"
            ],
            [
             0.7777777777777778,
             "#fb9f3a"
            ],
            [
             0.8888888888888888,
             "#fdca26"
            ],
            [
             1.0,
             "#f0f921"
            ]
           ],
           "sequentialminus": [
            [
             0.0,
             "#0d0887"
            ],
            [
             0.1111111111111111,
             "#46039f"
            ],
            [
             0.2222222222222222,
             "#7201a8"
            ],
            [
             0.3333333333333333,
             "#9c179e"
            ],
            [
             0.4444444444444444,
             "#bd3786"
            ],
            [
             0.5555555555555556,
             "#d8576b"
            ],
            [
             0.6666666666666666,
             "#ed7953"
            ],
            [
             0.7777777777777778,
             "#fb9f3a"
            ],
            [
             0.8888888888888888,
             "#fdca26"
            ],
            [
             1.0,
             "#f0f921"
            ]
           ],
           "diverging": [
            [
             0,
             "#8e0152"
            ],
            [
             0.1,
             "#c51b7d"
            ],
            [
             0.2,
             "#de77ae"
            ],
            [
             0.3,
             "#f1b6da"
            ],
            [
             0.4,
             "#fde0ef"
            ],
            [
             0.5,
             "#f7f7f7"
            ],
            [
             0.6,
             "#e6f5d0"
            ],
            [
             0.7,
             "#b8e186"
            ],
            [
             0.8,
             "#7fbc41"
            ],
            [
             0.9,
             "#4d9221"
            ],
            [
             1,
             "#276419"
            ]
           ]
          },
          "xaxis": {
           "gridcolor": "white",
           "linecolor": "white",
           "ticks": "",
           "title": {
            "standoff": 15
           },
           "zerolinecolor": "white",
           "automargin": true,
           "zerolinewidth": 2
          },
          "yaxis": {
           "gridcolor": "white",
           "linecolor": "white",
           "ticks": "",
           "title": {
            "standoff": 15
           },
           "zerolinecolor": "white",
           "automargin": true,
           "zerolinewidth": 2
          },
          "scene": {
           "xaxis": {
            "backgroundcolor": "#E5ECF6",
            "gridcolor": "white",
            "linecolor": "white",
            "showbackground": true,
            "ticks": "",
            "zerolinecolor": "white",
            "gridwidth": 2
           },
           "yaxis": {
            "backgroundcolor": "#E5ECF6",
            "gridcolor": "white",
            "linecolor": "white",
            "showbackground": true,
            "ticks": "",
            "zerolinecolor": "white",
            "gridwidth": 2
           },
           "zaxis": {
            "backgroundcolor": "#E5ECF6",
            "gridcolor": "white",
            "linecolor": "white",
            "showbackground": true,
            "ticks": "",
            "zerolinecolor": "white",
            "gridwidth": 2
           }
          },
          "shapedefaults": {
           "line": {
            "color": "#2a3f5f"
           }
          },
          "annotationdefaults": {
           "arrowcolor": "#2a3f5f",
           "arrowhead": 0,
           "arrowwidth": 1
          },
          "geo": {
           "bgcolor": "white",
           "landcolor": "#E5ECF6",
           "subunitcolor": "white",
           "showland": true,
           "showlakes": true,
           "lakecolor": "white"
          },
          "title": {
           "x": 0.05
          },
          "mapbox": {
           "style": "light"
          }
         }
        },
        "xaxis": {
         "anchor": "y",
         "domain": [
          0.0,
          1.0
         ],
         "title": {
          "text": "entropy"
         }
        },
        "yaxis": {
         "anchor": "x",
         "domain": [
          0.0,
          1.0
         ],
         "title": {
          "text": "subindicator"
         }
        },
        "coloraxis": {
         "colorbar": {
          "title": {
           "text": "entropy"
          }
         },
         "colorscale": [
          [
           0.0,
           "rgb(243, 231, 155)"
          ],
          [
           0.16666666666666666,
           "rgb(250, 196, 132)"
          ],
          [
           0.3333333333333333,
           "rgb(248, 160, 126)"
          ],
          [
           0.5,
           "rgb(235, 127, 134)"
          ],
          [
           0.6666666666666666,
           "rgb(206, 102, 147)"
          ],
          [
           0.8333333333333334,
           "rgb(160, 89, 160)"
          ],
          [
           1.0,
           "rgb(92, 83, 165)"
          ]
         ]
        },
        "legend": {
         "tracegroupgap": 0
        },
        "title": {
         "text": "Subindicators Entropy"
        },
        "barmode": "relative"
       },
       "config": {
        "plotlyServerURL": "https://plot.ly"
       }
      }
     },
     "metadata": {},
     "output_type": "display_data",
     "jetTransient": {
      "display_id": null
     }
    }
   ],
   "execution_count": 10
  },
  {
   "metadata": {
    "ExecuteTime": {
     "end_time": "2025-09-03T15:08:54.350524Z",
     "start_time": "2025-09-03T15:08:54.333767Z"
    }
   },
   "cell_type": "code",
   "source": "results[2]",
   "id": "8fd6441f5775c38c",
   "outputs": [
    {
     "data": {
      "text/plain": [
       "     cluster  iteration excluded_indicator   entropy  silhouette_score  \\\n",
       "0   3 groups          1           VA4_2010  8.915879          0.299611   \n",
       "1   3 groups          2           2010_VE3  8.820641          0.311467   \n",
       "2   3 groups          3           2010_VH5  8.749700          0.362337   \n",
       "3   3 groups          4           2010_VD3  8.694307          0.375873   \n",
       "4   3 groups          5           2010_VE1  8.571906          0.360978   \n",
       "5   3 groups          6          2010_VED2  8.274006          0.314741   \n",
       "6   3 groups          7           2010_VH3  8.160091          0.491032   \n",
       "7   3 groups          8           2010_VD4  7.035503          0.477056   \n",
       "8   3 groups          9           2010_VH2  6.798749          0.568408   \n",
       "9   4 groups          1           VA4_2010  8.915879          0.264569   \n",
       "10  4 groups          2           2010_VE3  8.820641          0.222959   \n",
       "11  4 groups          3           2010_VH5  8.749700          0.261674   \n",
       "12  4 groups          4           2010_VD3  8.694307          0.327528   \n",
       "13  4 groups          5           2010_VE1  8.571906          0.315501   \n",
       "14  4 groups          6          2010_VED2  8.274006          0.372121   \n",
       "15  4 groups          7           2010_VH3  8.160091          0.493675   \n",
       "16  4 groups          8           2010_VD4  7.035503          0.210666   \n",
       "17  4 groups          9           2010_VH2  6.798749          0.515995   \n",
       "18  5 groups          1           VA4_2010  8.915879          0.233157   \n",
       "19  5 groups          2           2010_VE3  8.820641          0.231656   \n",
       "20  5 groups          3           2010_VH5  8.749700          0.239271   \n",
       "21  5 groups          4           2010_VD3  8.694307          0.338253   \n",
       "22  5 groups          5           2010_VE1  8.571906          0.295713   \n",
       "23  5 groups          6          2010_VED2  8.274006          0.356154   \n",
       "24  5 groups          7           2010_VH3  8.160091          0.378028   \n",
       "25  5 groups          8           2010_VD4  7.035503          0.216839   \n",
       "26  5 groups          9           2010_VH2  6.798749          0.521769   \n",
       "27  6 groups          1           VA4_2010  8.915879          0.213813   \n",
       "28  6 groups          2           2010_VE3  8.820641          0.207682   \n",
       "29  6 groups          3           2010_VH5  8.749700          0.267519   \n",
       "30  6 groups          4           2010_VD3  8.694307          0.333058   \n",
       "31  6 groups          5           2010_VE1  8.571906          0.308585   \n",
       "32  6 groups          6          2010_VED2  8.274006          0.300467   \n",
       "33  6 groups          7           2010_VH3  8.160091          0.399210   \n",
       "34  6 groups          8           2010_VD4  7.035503          0.235990   \n",
       "35  6 groups          9           2010_VH2  6.798749          0.327569   \n",
       "36  6 groups         10           2010_VD2  6.664482          0.250974   \n",
       "37  6 groups         11           2010_VD1  6.420778          0.374513   \n",
       "38  6 groups         12           2010_VE2  4.346313          0.529098   \n",
       "39  7 groups          1           VA4_2010  8.915879          0.189489   \n",
       "40  7 groups          2           2010_VE3  8.820641          0.180158   \n",
       "41  7 groups          3           2010_VH5  8.749700          0.224801   \n",
       "42  7 groups          4           2010_VD3  8.694307          0.343631   \n",
       "43  7 groups          5           2010_VE1  8.571906          0.321955   \n",
       "44  7 groups          6          2010_VED2  8.274006          0.299854   \n",
       "45  7 groups          7           2010_VH3  8.160091          0.420071   \n",
       "46  7 groups          8           2010_VD4  7.035503          0.241760   \n",
       "47  7 groups          9           2010_VH2  6.798749          0.294760   \n",
       "48  7 groups         10           2010_VD2  6.664482          0.235895   \n",
       "49  7 groups         11           2010_VD1  6.420778          0.382306   \n",
       "50  7 groups         12           2010_VE2  4.346313          0.524111   \n",
       "\n",
       "    davies_bouldin_score  dunn_score  \n",
       "0               1.509108    0.228483  \n",
       "1               1.464015    0.229442  \n",
       "2               1.592643    0.221977  \n",
       "3               1.412390    0.269605  \n",
       "4               1.588810    0.174847  \n",
       "5               1.304022    0.250992  \n",
       "6               1.114875    0.287805  \n",
       "7               1.434891    0.256312  \n",
       "8               0.988493    0.378603  \n",
       "9               1.975772    0.211635  \n",
       "10              1.904363    0.169902  \n",
       "11              1.762186    0.158662  \n",
       "12              1.818663    0.228778  \n",
       "13              1.645365    0.179361  \n",
       "14              1.257760    0.250525  \n",
       "15              1.160425    0.290976  \n",
       "16              1.347667    0.147752  \n",
       "17              0.970469    0.296098  \n",
       "18              1.935129    0.195972  \n",
       "19              1.740273    0.187907  \n",
       "20              1.551110    0.166326  \n",
       "21              1.714599    0.234013  \n",
       "22              1.633778    0.190240  \n",
       "23              1.143659    0.276255  \n",
       "24              1.143844    0.219994  \n",
       "25              1.289935    0.153281  \n",
       "26              0.917974    0.330873  \n",
       "27              1.822688    0.175760  \n",
       "28              1.678780    0.187455  \n",
       "29              1.381895    0.182868  \n",
       "30              1.472800    0.217265  \n",
       "31              1.465669    0.188897  \n",
       "32              1.335749    0.169238  \n",
       "33              1.118626    0.268745  \n",
       "34              1.173402    0.147125  \n",
       "35              0.982248    0.163360  \n",
       "36              1.278260    0.102646  \n",
       "37              0.999263    0.152451  \n",
       "38              0.979725    0.170257  \n",
       "39              1.928467    0.146368  \n",
       "40              1.757201    0.178305  \n",
       "41              1.548071    0.183501  \n",
       "42              1.341492    0.250807  \n",
       "43              1.334851    0.198332  \n",
       "44              1.217879    0.165017  \n",
       "45              1.030186    0.288599  \n",
       "46              1.086555    0.164424  \n",
       "47              0.983915    0.157248  \n",
       "48              1.187747    0.096167  \n",
       "49              1.047016    0.156434  \n",
       "50              0.858092    0.199247  "
      ],
      "text/html": [
       "<div>\n",
       "<style scoped>\n",
       "    .dataframe tbody tr th:only-of-type {\n",
       "        vertical-align: middle;\n",
       "    }\n",
       "\n",
       "    .dataframe tbody tr th {\n",
       "        vertical-align: top;\n",
       "    }\n",
       "\n",
       "    .dataframe thead th {\n",
       "        text-align: right;\n",
       "    }\n",
       "</style>\n",
       "<table border=\"1\" class=\"dataframe\">\n",
       "  <thead>\n",
       "    <tr style=\"text-align: right;\">\n",
       "      <th></th>\n",
       "      <th>cluster</th>\n",
       "      <th>iteration</th>\n",
       "      <th>excluded_indicator</th>\n",
       "      <th>entropy</th>\n",
       "      <th>silhouette_score</th>\n",
       "      <th>davies_bouldin_score</th>\n",
       "      <th>dunn_score</th>\n",
       "    </tr>\n",
       "  </thead>\n",
       "  <tbody>\n",
       "    <tr>\n",
       "      <th>0</th>\n",
       "      <td>3 groups</td>\n",
       "      <td>1</td>\n",
       "      <td>VA4_2010</td>\n",
       "      <td>8.915879</td>\n",
       "      <td>0.299611</td>\n",
       "      <td>1.509108</td>\n",
       "      <td>0.228483</td>\n",
       "    </tr>\n",
       "    <tr>\n",
       "      <th>1</th>\n",
       "      <td>3 groups</td>\n",
       "      <td>2</td>\n",
       "      <td>2010_VE3</td>\n",
       "      <td>8.820641</td>\n",
       "      <td>0.311467</td>\n",
       "      <td>1.464015</td>\n",
       "      <td>0.229442</td>\n",
       "    </tr>\n",
       "    <tr>\n",
       "      <th>2</th>\n",
       "      <td>3 groups</td>\n",
       "      <td>3</td>\n",
       "      <td>2010_VH5</td>\n",
       "      <td>8.749700</td>\n",
       "      <td>0.362337</td>\n",
       "      <td>1.592643</td>\n",
       "      <td>0.221977</td>\n",
       "    </tr>\n",
       "    <tr>\n",
       "      <th>3</th>\n",
       "      <td>3 groups</td>\n",
       "      <td>4</td>\n",
       "      <td>2010_VD3</td>\n",
       "      <td>8.694307</td>\n",
       "      <td>0.375873</td>\n",
       "      <td>1.412390</td>\n",
       "      <td>0.269605</td>\n",
       "    </tr>\n",
       "    <tr>\n",
       "      <th>4</th>\n",
       "      <td>3 groups</td>\n",
       "      <td>5</td>\n",
       "      <td>2010_VE1</td>\n",
       "      <td>8.571906</td>\n",
       "      <td>0.360978</td>\n",
       "      <td>1.588810</td>\n",
       "      <td>0.174847</td>\n",
       "    </tr>\n",
       "    <tr>\n",
       "      <th>5</th>\n",
       "      <td>3 groups</td>\n",
       "      <td>6</td>\n",
       "      <td>2010_VED2</td>\n",
       "      <td>8.274006</td>\n",
       "      <td>0.314741</td>\n",
       "      <td>1.304022</td>\n",
       "      <td>0.250992</td>\n",
       "    </tr>\n",
       "    <tr>\n",
       "      <th>6</th>\n",
       "      <td>3 groups</td>\n",
       "      <td>7</td>\n",
       "      <td>2010_VH3</td>\n",
       "      <td>8.160091</td>\n",
       "      <td>0.491032</td>\n",
       "      <td>1.114875</td>\n",
       "      <td>0.287805</td>\n",
       "    </tr>\n",
       "    <tr>\n",
       "      <th>7</th>\n",
       "      <td>3 groups</td>\n",
       "      <td>8</td>\n",
       "      <td>2010_VD4</td>\n",
       "      <td>7.035503</td>\n",
       "      <td>0.477056</td>\n",
       "      <td>1.434891</td>\n",
       "      <td>0.256312</td>\n",
       "    </tr>\n",
       "    <tr>\n",
       "      <th>8</th>\n",
       "      <td>3 groups</td>\n",
       "      <td>9</td>\n",
       "      <td>2010_VH2</td>\n",
       "      <td>6.798749</td>\n",
       "      <td>0.568408</td>\n",
       "      <td>0.988493</td>\n",
       "      <td>0.378603</td>\n",
       "    </tr>\n",
       "    <tr>\n",
       "      <th>9</th>\n",
       "      <td>4 groups</td>\n",
       "      <td>1</td>\n",
       "      <td>VA4_2010</td>\n",
       "      <td>8.915879</td>\n",
       "      <td>0.264569</td>\n",
       "      <td>1.975772</td>\n",
       "      <td>0.211635</td>\n",
       "    </tr>\n",
       "    <tr>\n",
       "      <th>10</th>\n",
       "      <td>4 groups</td>\n",
       "      <td>2</td>\n",
       "      <td>2010_VE3</td>\n",
       "      <td>8.820641</td>\n",
       "      <td>0.222959</td>\n",
       "      <td>1.904363</td>\n",
       "      <td>0.169902</td>\n",
       "    </tr>\n",
       "    <tr>\n",
       "      <th>11</th>\n",
       "      <td>4 groups</td>\n",
       "      <td>3</td>\n",
       "      <td>2010_VH5</td>\n",
       "      <td>8.749700</td>\n",
       "      <td>0.261674</td>\n",
       "      <td>1.762186</td>\n",
       "      <td>0.158662</td>\n",
       "    </tr>\n",
       "    <tr>\n",
       "      <th>12</th>\n",
       "      <td>4 groups</td>\n",
       "      <td>4</td>\n",
       "      <td>2010_VD3</td>\n",
       "      <td>8.694307</td>\n",
       "      <td>0.327528</td>\n",
       "      <td>1.818663</td>\n",
       "      <td>0.228778</td>\n",
       "    </tr>\n",
       "    <tr>\n",
       "      <th>13</th>\n",
       "      <td>4 groups</td>\n",
       "      <td>5</td>\n",
       "      <td>2010_VE1</td>\n",
       "      <td>8.571906</td>\n",
       "      <td>0.315501</td>\n",
       "      <td>1.645365</td>\n",
       "      <td>0.179361</td>\n",
       "    </tr>\n",
       "    <tr>\n",
       "      <th>14</th>\n",
       "      <td>4 groups</td>\n",
       "      <td>6</td>\n",
       "      <td>2010_VED2</td>\n",
       "      <td>8.274006</td>\n",
       "      <td>0.372121</td>\n",
       "      <td>1.257760</td>\n",
       "      <td>0.250525</td>\n",
       "    </tr>\n",
       "    <tr>\n",
       "      <th>15</th>\n",
       "      <td>4 groups</td>\n",
       "      <td>7</td>\n",
       "      <td>2010_VH3</td>\n",
       "      <td>8.160091</td>\n",
       "      <td>0.493675</td>\n",
       "      <td>1.160425</td>\n",
       "      <td>0.290976</td>\n",
       "    </tr>\n",
       "    <tr>\n",
       "      <th>16</th>\n",
       "      <td>4 groups</td>\n",
       "      <td>8</td>\n",
       "      <td>2010_VD4</td>\n",
       "      <td>7.035503</td>\n",
       "      <td>0.210666</td>\n",
       "      <td>1.347667</td>\n",
       "      <td>0.147752</td>\n",
       "    </tr>\n",
       "    <tr>\n",
       "      <th>17</th>\n",
       "      <td>4 groups</td>\n",
       "      <td>9</td>\n",
       "      <td>2010_VH2</td>\n",
       "      <td>6.798749</td>\n",
       "      <td>0.515995</td>\n",
       "      <td>0.970469</td>\n",
       "      <td>0.296098</td>\n",
       "    </tr>\n",
       "    <tr>\n",
       "      <th>18</th>\n",
       "      <td>5 groups</td>\n",
       "      <td>1</td>\n",
       "      <td>VA4_2010</td>\n",
       "      <td>8.915879</td>\n",
       "      <td>0.233157</td>\n",
       "      <td>1.935129</td>\n",
       "      <td>0.195972</td>\n",
       "    </tr>\n",
       "    <tr>\n",
       "      <th>19</th>\n",
       "      <td>5 groups</td>\n",
       "      <td>2</td>\n",
       "      <td>2010_VE3</td>\n",
       "      <td>8.820641</td>\n",
       "      <td>0.231656</td>\n",
       "      <td>1.740273</td>\n",
       "      <td>0.187907</td>\n",
       "    </tr>\n",
       "    <tr>\n",
       "      <th>20</th>\n",
       "      <td>5 groups</td>\n",
       "      <td>3</td>\n",
       "      <td>2010_VH5</td>\n",
       "      <td>8.749700</td>\n",
       "      <td>0.239271</td>\n",
       "      <td>1.551110</td>\n",
       "      <td>0.166326</td>\n",
       "    </tr>\n",
       "    <tr>\n",
       "      <th>21</th>\n",
       "      <td>5 groups</td>\n",
       "      <td>4</td>\n",
       "      <td>2010_VD3</td>\n",
       "      <td>8.694307</td>\n",
       "      <td>0.338253</td>\n",
       "      <td>1.714599</td>\n",
       "      <td>0.234013</td>\n",
       "    </tr>\n",
       "    <tr>\n",
       "      <th>22</th>\n",
       "      <td>5 groups</td>\n",
       "      <td>5</td>\n",
       "      <td>2010_VE1</td>\n",
       "      <td>8.571906</td>\n",
       "      <td>0.295713</td>\n",
       "      <td>1.633778</td>\n",
       "      <td>0.190240</td>\n",
       "    </tr>\n",
       "    <tr>\n",
       "      <th>23</th>\n",
       "      <td>5 groups</td>\n",
       "      <td>6</td>\n",
       "      <td>2010_VED2</td>\n",
       "      <td>8.274006</td>\n",
       "      <td>0.356154</td>\n",
       "      <td>1.143659</td>\n",
       "      <td>0.276255</td>\n",
       "    </tr>\n",
       "    <tr>\n",
       "      <th>24</th>\n",
       "      <td>5 groups</td>\n",
       "      <td>7</td>\n",
       "      <td>2010_VH3</td>\n",
       "      <td>8.160091</td>\n",
       "      <td>0.378028</td>\n",
       "      <td>1.143844</td>\n",
       "      <td>0.219994</td>\n",
       "    </tr>\n",
       "    <tr>\n",
       "      <th>25</th>\n",
       "      <td>5 groups</td>\n",
       "      <td>8</td>\n",
       "      <td>2010_VD4</td>\n",
       "      <td>7.035503</td>\n",
       "      <td>0.216839</td>\n",
       "      <td>1.289935</td>\n",
       "      <td>0.153281</td>\n",
       "    </tr>\n",
       "    <tr>\n",
       "      <th>26</th>\n",
       "      <td>5 groups</td>\n",
       "      <td>9</td>\n",
       "      <td>2010_VH2</td>\n",
       "      <td>6.798749</td>\n",
       "      <td>0.521769</td>\n",
       "      <td>0.917974</td>\n",
       "      <td>0.330873</td>\n",
       "    </tr>\n",
       "    <tr>\n",
       "      <th>27</th>\n",
       "      <td>6 groups</td>\n",
       "      <td>1</td>\n",
       "      <td>VA4_2010</td>\n",
       "      <td>8.915879</td>\n",
       "      <td>0.213813</td>\n",
       "      <td>1.822688</td>\n",
       "      <td>0.175760</td>\n",
       "    </tr>\n",
       "    <tr>\n",
       "      <th>28</th>\n",
       "      <td>6 groups</td>\n",
       "      <td>2</td>\n",
       "      <td>2010_VE3</td>\n",
       "      <td>8.820641</td>\n",
       "      <td>0.207682</td>\n",
       "      <td>1.678780</td>\n",
       "      <td>0.187455</td>\n",
       "    </tr>\n",
       "    <tr>\n",
       "      <th>29</th>\n",
       "      <td>6 groups</td>\n",
       "      <td>3</td>\n",
       "      <td>2010_VH5</td>\n",
       "      <td>8.749700</td>\n",
       "      <td>0.267519</td>\n",
       "      <td>1.381895</td>\n",
       "      <td>0.182868</td>\n",
       "    </tr>\n",
       "    <tr>\n",
       "      <th>30</th>\n",
       "      <td>6 groups</td>\n",
       "      <td>4</td>\n",
       "      <td>2010_VD3</td>\n",
       "      <td>8.694307</td>\n",
       "      <td>0.333058</td>\n",
       "      <td>1.472800</td>\n",
       "      <td>0.217265</td>\n",
       "    </tr>\n",
       "    <tr>\n",
       "      <th>31</th>\n",
       "      <td>6 groups</td>\n",
       "      <td>5</td>\n",
       "      <td>2010_VE1</td>\n",
       "      <td>8.571906</td>\n",
       "      <td>0.308585</td>\n",
       "      <td>1.465669</td>\n",
       "      <td>0.188897</td>\n",
       "    </tr>\n",
       "    <tr>\n",
       "      <th>32</th>\n",
       "      <td>6 groups</td>\n",
       "      <td>6</td>\n",
       "      <td>2010_VED2</td>\n",
       "      <td>8.274006</td>\n",
       "      <td>0.300467</td>\n",
       "      <td>1.335749</td>\n",
       "      <td>0.169238</td>\n",
       "    </tr>\n",
       "    <tr>\n",
       "      <th>33</th>\n",
       "      <td>6 groups</td>\n",
       "      <td>7</td>\n",
       "      <td>2010_VH3</td>\n",
       "      <td>8.160091</td>\n",
       "      <td>0.399210</td>\n",
       "      <td>1.118626</td>\n",
       "      <td>0.268745</td>\n",
       "    </tr>\n",
       "    <tr>\n",
       "      <th>34</th>\n",
       "      <td>6 groups</td>\n",
       "      <td>8</td>\n",
       "      <td>2010_VD4</td>\n",
       "      <td>7.035503</td>\n",
       "      <td>0.235990</td>\n",
       "      <td>1.173402</td>\n",
       "      <td>0.147125</td>\n",
       "    </tr>\n",
       "    <tr>\n",
       "      <th>35</th>\n",
       "      <td>6 groups</td>\n",
       "      <td>9</td>\n",
       "      <td>2010_VH2</td>\n",
       "      <td>6.798749</td>\n",
       "      <td>0.327569</td>\n",
       "      <td>0.982248</td>\n",
       "      <td>0.163360</td>\n",
       "    </tr>\n",
       "    <tr>\n",
       "      <th>36</th>\n",
       "      <td>6 groups</td>\n",
       "      <td>10</td>\n",
       "      <td>2010_VD2</td>\n",
       "      <td>6.664482</td>\n",
       "      <td>0.250974</td>\n",
       "      <td>1.278260</td>\n",
       "      <td>0.102646</td>\n",
       "    </tr>\n",
       "    <tr>\n",
       "      <th>37</th>\n",
       "      <td>6 groups</td>\n",
       "      <td>11</td>\n",
       "      <td>2010_VD1</td>\n",
       "      <td>6.420778</td>\n",
       "      <td>0.374513</td>\n",
       "      <td>0.999263</td>\n",
       "      <td>0.152451</td>\n",
       "    </tr>\n",
       "    <tr>\n",
       "      <th>38</th>\n",
       "      <td>6 groups</td>\n",
       "      <td>12</td>\n",
       "      <td>2010_VE2</td>\n",
       "      <td>4.346313</td>\n",
       "      <td>0.529098</td>\n",
       "      <td>0.979725</td>\n",
       "      <td>0.170257</td>\n",
       "    </tr>\n",
       "    <tr>\n",
       "      <th>39</th>\n",
       "      <td>7 groups</td>\n",
       "      <td>1</td>\n",
       "      <td>VA4_2010</td>\n",
       "      <td>8.915879</td>\n",
       "      <td>0.189489</td>\n",
       "      <td>1.928467</td>\n",
       "      <td>0.146368</td>\n",
       "    </tr>\n",
       "    <tr>\n",
       "      <th>40</th>\n",
       "      <td>7 groups</td>\n",
       "      <td>2</td>\n",
       "      <td>2010_VE3</td>\n",
       "      <td>8.820641</td>\n",
       "      <td>0.180158</td>\n",
       "      <td>1.757201</td>\n",
       "      <td>0.178305</td>\n",
       "    </tr>\n",
       "    <tr>\n",
       "      <th>41</th>\n",
       "      <td>7 groups</td>\n",
       "      <td>3</td>\n",
       "      <td>2010_VH5</td>\n",
       "      <td>8.749700</td>\n",
       "      <td>0.224801</td>\n",
       "      <td>1.548071</td>\n",
       "      <td>0.183501</td>\n",
       "    </tr>\n",
       "    <tr>\n",
       "      <th>42</th>\n",
       "      <td>7 groups</td>\n",
       "      <td>4</td>\n",
       "      <td>2010_VD3</td>\n",
       "      <td>8.694307</td>\n",
       "      <td>0.343631</td>\n",
       "      <td>1.341492</td>\n",
       "      <td>0.250807</td>\n",
       "    </tr>\n",
       "    <tr>\n",
       "      <th>43</th>\n",
       "      <td>7 groups</td>\n",
       "      <td>5</td>\n",
       "      <td>2010_VE1</td>\n",
       "      <td>8.571906</td>\n",
       "      <td>0.321955</td>\n",
       "      <td>1.334851</td>\n",
       "      <td>0.198332</td>\n",
       "    </tr>\n",
       "    <tr>\n",
       "      <th>44</th>\n",
       "      <td>7 groups</td>\n",
       "      <td>6</td>\n",
       "      <td>2010_VED2</td>\n",
       "      <td>8.274006</td>\n",
       "      <td>0.299854</td>\n",
       "      <td>1.217879</td>\n",
       "      <td>0.165017</td>\n",
       "    </tr>\n",
       "    <tr>\n",
       "      <th>45</th>\n",
       "      <td>7 groups</td>\n",
       "      <td>7</td>\n",
       "      <td>2010_VH3</td>\n",
       "      <td>8.160091</td>\n",
       "      <td>0.420071</td>\n",
       "      <td>1.030186</td>\n",
       "      <td>0.288599</td>\n",
       "    </tr>\n",
       "    <tr>\n",
       "      <th>46</th>\n",
       "      <td>7 groups</td>\n",
       "      <td>8</td>\n",
       "      <td>2010_VD4</td>\n",
       "      <td>7.035503</td>\n",
       "      <td>0.241760</td>\n",
       "      <td>1.086555</td>\n",
       "      <td>0.164424</td>\n",
       "    </tr>\n",
       "    <tr>\n",
       "      <th>47</th>\n",
       "      <td>7 groups</td>\n",
       "      <td>9</td>\n",
       "      <td>2010_VH2</td>\n",
       "      <td>6.798749</td>\n",
       "      <td>0.294760</td>\n",
       "      <td>0.983915</td>\n",
       "      <td>0.157248</td>\n",
       "    </tr>\n",
       "    <tr>\n",
       "      <th>48</th>\n",
       "      <td>7 groups</td>\n",
       "      <td>10</td>\n",
       "      <td>2010_VD2</td>\n",
       "      <td>6.664482</td>\n",
       "      <td>0.235895</td>\n",
       "      <td>1.187747</td>\n",
       "      <td>0.096167</td>\n",
       "    </tr>\n",
       "    <tr>\n",
       "      <th>49</th>\n",
       "      <td>7 groups</td>\n",
       "      <td>11</td>\n",
       "      <td>2010_VD1</td>\n",
       "      <td>6.420778</td>\n",
       "      <td>0.382306</td>\n",
       "      <td>1.047016</td>\n",
       "      <td>0.156434</td>\n",
       "    </tr>\n",
       "    <tr>\n",
       "      <th>50</th>\n",
       "      <td>7 groups</td>\n",
       "      <td>12</td>\n",
       "      <td>2010_VE2</td>\n",
       "      <td>4.346313</td>\n",
       "      <td>0.524111</td>\n",
       "      <td>0.858092</td>\n",
       "      <td>0.199247</td>\n",
       "    </tr>\n",
       "  </tbody>\n",
       "</table>\n",
       "</div>"
      ]
     },
     "execution_count": 11,
     "metadata": {},
     "output_type": "execute_result"
    }
   ],
   "execution_count": 11
  }
 ],
 "metadata": {
  "kernelspec": {
   "display_name": "Python 3",
   "language": "python",
   "name": "python3"
  },
  "language_info": {
   "codemirror_mode": {
    "name": "ipython",
    "version": 2
   },
   "file_extension": ".py",
   "mimetype": "text/x-python",
   "name": "python",
   "nbconvert_exporter": "python",
   "pygments_lexer": "ipython2",
   "version": "2.7.6"
  }
 },
 "nbformat": 4,
 "nbformat_minor": 5
}
