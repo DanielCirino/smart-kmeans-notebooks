{
 "cells": [
  {
   "cell_type": "markdown",
   "id": "2f032dead47a683",
   "metadata": {},
   "source": [
    "This notebook executes K-Means clustering analysis on preprocessed data.\n",
    "It evaluates the model using cluster quality metrics to determine the optimal number of groups and saves the best model for the next step."
   ]
  },
  {
   "cell_type": "markdown",
   "id": "ed513fe0f2cd0136",
   "metadata": {},
   "source": [
    "### Configuration and Library Imports"
   ]
  },
  {
   "cell_type": "code",
   "execution_count": 1,
   "id": "6393c70089e1b566",
   "metadata": {
    "ExecuteTime": {
     "end_time": "2025-08-31T23:18:03.232647Z",
     "start_time": "2025-08-31T23:18:03.192998Z"
    }
   },
   "outputs": [],
   "source": [
    "%run ../src/settings.py"
   ]
  },
  {
   "cell_type": "code",
   "execution_count": null,
   "id": "272650626bd24299",
   "metadata": {
    "ExecuteTime": {
     "end_time": "2025-08-31T23:18:03.690648Z",
     "start_time": "2025-08-31T23:18:03.242643Z"
    },
    "collapsed": true
   },
   "outputs": [],
   "source": [
    "config = load_config()\n",
    "MIN_CLUSTERS = 3\n",
    "MAX_CLUSTERS = 7"
   ]
  },
  {
   "cell_type": "code",
   "execution_count": 3,
   "id": "1cabafe4995328b4",
   "metadata": {
    "ExecuteTime": {
     "end_time": "2025-08-31T23:18:03.704346Z",
     "start_time": "2025-08-31T23:18:03.697646Z"
    }
   },
   "outputs": [],
   "source": [
    "config = load_config()\n",
    "QTD_MIN_CLUSTERS = 3\n",
    "QTD_MAX_CLUSTERS = 7\n"
   ]
  },
  {
   "cell_type": "markdown",
   "id": "93ff9cbcd10db389",
   "metadata": {},
   "source": [
    "### Data Loading and Overview"
   ]
  },
  {
   "cell_type": "code",
   "execution_count": null,
   "id": "548c349b73216af4",
   "metadata": {
    "ExecuteTime": {
     "end_time": "2025-08-31T23:18:04.195738Z",
     "start_time": "2025-08-31T23:18:03.712408Z"
    }
   },
   "outputs": [
    {
     "data": {
      "text/html": [
       "<div>\n",
       "<style scoped>\n",
       "    .dataframe tbody tr th:only-of-type {\n",
       "        vertical-align: middle;\n",
       "    }\n",
       "\n",
       "    .dataframe tbody tr th {\n",
       "        vertical-align: top;\n",
       "    }\n",
       "\n",
       "    .dataframe thead th {\n",
       "        text-align: right;\n",
       "    }\n",
       "</style>\n",
       "<table border=\"1\" class=\"dataframe\">\n",
       "  <thead>\n",
       "    <tr style=\"text-align: right;\">\n",
       "      <th></th>\n",
       "      <th>Cod_Setor</th>\n",
       "      <th>2010_VD1</th>\n",
       "      <th>2010_VD2</th>\n",
       "      <th>2010_VD3</th>\n",
       "      <th>2010_VD4</th>\n",
       "      <th>2010_VE1</th>\n",
       "      <th>2010_VE2</th>\n",
       "      <th>2010_VE3</th>\n",
       "      <th>2010_VED1</th>\n",
       "      <th>2010_VED2</th>\n",
       "      <th>2010_VH1</th>\n",
       "      <th>2010_VH2</th>\n",
       "      <th>2010_VH3</th>\n",
       "      <th>2010_VH4</th>\n",
       "      <th>2010_VH5</th>\n",
       "      <th>VA4_2010</th>\n",
       "      <th>RendaMedia</th>\n",
       "    </tr>\n",
       "  </thead>\n",
       "  <tbody>\n",
       "    <tr>\n",
       "      <th>0</th>\n",
       "      <td>411520005010001</td>\n",
       "      <td>0.723636</td>\n",
       "      <td>0.923523</td>\n",
       "      <td>0.568170</td>\n",
       "      <td>0.774691</td>\n",
       "      <td>0.836859</td>\n",
       "      <td>0.153226</td>\n",
       "      <td>0.888877</td>\n",
       "      <td>1.000000</td>\n",
       "      <td>0.9856</td>\n",
       "      <td>1.000000</td>\n",
       "      <td>0.024468</td>\n",
       "      <td>1.0000</td>\n",
       "      <td>1.000000</td>\n",
       "      <td>0.572691</td>\n",
       "      <td>0.190181</td>\n",
       "      <td>4800.240000</td>\n",
       "    </tr>\n",
       "    <tr>\n",
       "      <th>1</th>\n",
       "      <td>411520005010002</td>\n",
       "      <td>0.669091</td>\n",
       "      <td>0.947785</td>\n",
       "      <td>0.659827</td>\n",
       "      <td>0.805556</td>\n",
       "      <td>0.910891</td>\n",
       "      <td>0.291475</td>\n",
       "      <td>0.891996</td>\n",
       "      <td>1.000000</td>\n",
       "      <td>0.9868</td>\n",
       "      <td>1.000000</td>\n",
       "      <td>0.257003</td>\n",
       "      <td>1.0000</td>\n",
       "      <td>0.588340</td>\n",
       "      <td>0.550909</td>\n",
       "      <td>0.060300</td>\n",
       "      <td>5965.110000</td>\n",
       "    </tr>\n",
       "    <tr>\n",
       "      <th>2</th>\n",
       "      <td>411520005010003</td>\n",
       "      <td>0.607273</td>\n",
       "      <td>0.948840</td>\n",
       "      <td>0.617171</td>\n",
       "      <td>0.811728</td>\n",
       "      <td>0.877588</td>\n",
       "      <td>0.387865</td>\n",
       "      <td>0.936590</td>\n",
       "      <td>1.000000</td>\n",
       "      <td>0.9688</td>\n",
       "      <td>1.000000</td>\n",
       "      <td>0.239116</td>\n",
       "      <td>1.0000</td>\n",
       "      <td>0.833664</td>\n",
       "      <td>0.645631</td>\n",
       "      <td>0.009710</td>\n",
       "      <td>4789.690000</td>\n",
       "    </tr>\n",
       "    <tr>\n",
       "      <th>3</th>\n",
       "      <td>411520005010004</td>\n",
       "      <td>0.567273</td>\n",
       "      <td>0.962553</td>\n",
       "      <td>0.571139</td>\n",
       "      <td>0.753086</td>\n",
       "      <td>0.928218</td>\n",
       "      <td>0.599078</td>\n",
       "      <td>0.910499</td>\n",
       "      <td>0.722431</td>\n",
       "      <td>0.9716</td>\n",
       "      <td>1.000000</td>\n",
       "      <td>0.107661</td>\n",
       "      <td>1.0000</td>\n",
       "      <td>0.070003</td>\n",
       "      <td>0.692930</td>\n",
       "      <td>0.148177</td>\n",
       "      <td>8623.780000</td>\n",
       "    </tr>\n",
       "    <tr>\n",
       "      <th>4</th>\n",
       "      <td>411520005010005</td>\n",
       "      <td>0.534545</td>\n",
       "      <td>0.979430</td>\n",
       "      <td>0.689390</td>\n",
       "      <td>0.780864</td>\n",
       "      <td>0.920567</td>\n",
       "      <td>0.361367</td>\n",
       "      <td>0.966112</td>\n",
       "      <td>1.000000</td>\n",
       "      <td>0.9844</td>\n",
       "      <td>1.000000</td>\n",
       "      <td>0.086061</td>\n",
       "      <td>0.9961</td>\n",
       "      <td>0.201024</td>\n",
       "      <td>0.700398</td>\n",
       "      <td>0.161849</td>\n",
       "      <td>8165.580000</td>\n",
       "    </tr>\n",
       "    <tr>\n",
       "      <th>...</th>\n",
       "      <td>...</td>\n",
       "      <td>...</td>\n",
       "      <td>...</td>\n",
       "      <td>...</td>\n",
       "      <td>...</td>\n",
       "      <td>...</td>\n",
       "      <td>...</td>\n",
       "      <td>...</td>\n",
       "      <td>...</td>\n",
       "      <td>...</td>\n",
       "      <td>...</td>\n",
       "      <td>...</td>\n",
       "      <td>...</td>\n",
       "      <td>...</td>\n",
       "      <td>...</td>\n",
       "      <td>...</td>\n",
       "      <td>...</td>\n",
       "    </tr>\n",
       "    <tr>\n",
       "      <th>478</th>\n",
       "      <td>412625605000066</td>\n",
       "      <td>0.352727</td>\n",
       "      <td>0.974684</td>\n",
       "      <td>0.641199</td>\n",
       "      <td>0.608025</td>\n",
       "      <td>0.853285</td>\n",
       "      <td>0.009217</td>\n",
       "      <td>0.331393</td>\n",
       "      <td>0.929482</td>\n",
       "      <td>0.7972</td>\n",
       "      <td>1.000000</td>\n",
       "      <td>0.004050</td>\n",
       "      <td>0.0338</td>\n",
       "      <td>1.000000</td>\n",
       "      <td>0.646378</td>\n",
       "      <td>0.462668</td>\n",
       "      <td>0.576274</td>\n",
       "    </tr>\n",
       "    <tr>\n",
       "      <th>479</th>\n",
       "      <td>412625605000067</td>\n",
       "      <td>0.367273</td>\n",
       "      <td>0.952532</td>\n",
       "      <td>0.595437</td>\n",
       "      <td>0.595679</td>\n",
       "      <td>0.872412</td>\n",
       "      <td>0.000000</td>\n",
       "      <td>0.319647</td>\n",
       "      <td>0.760690</td>\n",
       "      <td>0.7136</td>\n",
       "      <td>1.000000</td>\n",
       "      <td>0.000000</td>\n",
       "      <td>0.0657</td>\n",
       "      <td>0.990597</td>\n",
       "      <td>0.706497</td>\n",
       "      <td>0.691973</td>\n",
       "      <td>0.575469</td>\n",
       "    </tr>\n",
       "    <tr>\n",
       "      <th>480</th>\n",
       "      <td>412625605000068</td>\n",
       "      <td>0.360000</td>\n",
       "      <td>0.946730</td>\n",
       "      <td>0.529968</td>\n",
       "      <td>0.574074</td>\n",
       "      <td>0.640414</td>\n",
       "      <td>0.003840</td>\n",
       "      <td>0.385759</td>\n",
       "      <td>0.888972</td>\n",
       "      <td>0.6440</td>\n",
       "      <td>0.994001</td>\n",
       "      <td>0.001687</td>\n",
       "      <td>0.0314</td>\n",
       "      <td>0.980984</td>\n",
       "      <td>0.704630</td>\n",
       "      <td>0.477806</td>\n",
       "      <td>0.544284</td>\n",
       "    </tr>\n",
       "    <tr>\n",
       "      <th>481</th>\n",
       "      <td>412625605000069</td>\n",
       "      <td>0.320000</td>\n",
       "      <td>0.621308</td>\n",
       "      <td>0.437635</td>\n",
       "      <td>0.293210</td>\n",
       "      <td>0.333933</td>\n",
       "      <td>0.000000</td>\n",
       "      <td>0.442100</td>\n",
       "      <td>0.882221</td>\n",
       "      <td>0.6436</td>\n",
       "      <td>0.982603</td>\n",
       "      <td>0.000000</td>\n",
       "      <td>0.0144</td>\n",
       "      <td>1.000000</td>\n",
       "      <td>0.686706</td>\n",
       "      <td>0.472028</td>\n",
       "      <td>0.475316</td>\n",
       "    </tr>\n",
       "    <tr>\n",
       "      <th>482</th>\n",
       "      <td>412625605000070</td>\n",
       "      <td>0.352727</td>\n",
       "      <td>0.938819</td>\n",
       "      <td>0.361096</td>\n",
       "      <td>0.311728</td>\n",
       "      <td>0.858686</td>\n",
       "      <td>0.008833</td>\n",
       "      <td>0.190956</td>\n",
       "      <td>0.821455</td>\n",
       "      <td>0.4140</td>\n",
       "      <td>1.000000</td>\n",
       "      <td>0.003881</td>\n",
       "      <td>0.0442</td>\n",
       "      <td>1.000000</td>\n",
       "      <td>0.669654</td>\n",
       "      <td>0.710249</td>\n",
       "      <td>0.512419</td>\n",
       "    </tr>\n",
       "  </tbody>\n",
       "</table>\n",
       "<p>483 rows × 17 columns</p>\n",
       "</div>"
      ],
      "text/plain": [
       "           Cod_Setor  2010_VD1  2010_VD2  2010_VD3  2010_VD4  2010_VE1  \\\n",
       "0    411520005010001  0.723636  0.923523  0.568170  0.774691  0.836859   \n",
       "1    411520005010002  0.669091  0.947785  0.659827  0.805556  0.910891   \n",
       "2    411520005010003  0.607273  0.948840  0.617171  0.811728  0.877588   \n",
       "3    411520005010004  0.567273  0.962553  0.571139  0.753086  0.928218   \n",
       "4    411520005010005  0.534545  0.979430  0.689390  0.780864  0.920567   \n",
       "..               ...       ...       ...       ...       ...       ...   \n",
       "478  412625605000066  0.352727  0.974684  0.641199  0.608025  0.853285   \n",
       "479  412625605000067  0.367273  0.952532  0.595437  0.595679  0.872412   \n",
       "480  412625605000068  0.360000  0.946730  0.529968  0.574074  0.640414   \n",
       "481  412625605000069  0.320000  0.621308  0.437635  0.293210  0.333933   \n",
       "482  412625605000070  0.352727  0.938819  0.361096  0.311728  0.858686   \n",
       "\n",
       "     2010_VE2  2010_VE3  2010_VED1  2010_VED2  2010_VH1  2010_VH2  2010_VH3  \\\n",
       "0    0.153226  0.888877   1.000000     0.9856  1.000000  0.024468    1.0000   \n",
       "1    0.291475  0.891996   1.000000     0.9868  1.000000  0.257003    1.0000   \n",
       "2    0.387865  0.936590   1.000000     0.9688  1.000000  0.239116    1.0000   \n",
       "3    0.599078  0.910499   0.722431     0.9716  1.000000  0.107661    1.0000   \n",
       "4    0.361367  0.966112   1.000000     0.9844  1.000000  0.086061    0.9961   \n",
       "..        ...       ...        ...        ...       ...       ...       ...   \n",
       "478  0.009217  0.331393   0.929482     0.7972  1.000000  0.004050    0.0338   \n",
       "479  0.000000  0.319647   0.760690     0.7136  1.000000  0.000000    0.0657   \n",
       "480  0.003840  0.385759   0.888972     0.6440  0.994001  0.001687    0.0314   \n",
       "481  0.000000  0.442100   0.882221     0.6436  0.982603  0.000000    0.0144   \n",
       "482  0.008833  0.190956   0.821455     0.4140  1.000000  0.003881    0.0442   \n",
       "\n",
       "     2010_VH4  2010_VH5  VA4_2010   RendaMedia  \n",
       "0    1.000000  0.572691  0.190181  4800.240000  \n",
       "1    0.588340  0.550909  0.060300  5965.110000  \n",
       "2    0.833664  0.645631  0.009710  4789.690000  \n",
       "3    0.070003  0.692930  0.148177  8623.780000  \n",
       "4    0.201024  0.700398  0.161849  8165.580000  \n",
       "..        ...       ...       ...          ...  \n",
       "478  1.000000  0.646378  0.462668     0.576274  \n",
       "479  0.990597  0.706497  0.691973     0.575469  \n",
       "480  0.980984  0.704630  0.477806     0.544284  \n",
       "481  1.000000  0.686706  0.472028     0.475316  \n",
       "482  1.000000  0.669654  0.710249     0.512419  \n",
       "\n",
       "[483 rows x 17 columns]"
      ]
     },
     "metadata": {},
     "output_type": "display_data"
    },
    {
     "data": {
      "text/html": [
       "<div>\n",
       "<style scoped>\n",
       "    .dataframe tbody tr th:only-of-type {\n",
       "        vertical-align: middle;\n",
       "    }\n",
       "\n",
       "    .dataframe tbody tr th {\n",
       "        vertical-align: top;\n",
       "    }\n",
       "\n",
       "    .dataframe thead th {\n",
       "        text-align: right;\n",
       "    }\n",
       "</style>\n",
       "<table border=\"1\" class=\"dataframe\">\n",
       "  <thead>\n",
       "    <tr style=\"text-align: right;\">\n",
       "      <th></th>\n",
       "      <th>count</th>\n",
       "      <th>mean</th>\n",
       "      <th>std</th>\n",
       "      <th>min</th>\n",
       "      <th>25%</th>\n",
       "      <th>50%</th>\n",
       "      <th>75%</th>\n",
       "      <th>max</th>\n",
       "    </tr>\n",
       "  </thead>\n",
       "  <tbody>\n",
       "    <tr>\n",
       "      <th>2010_VD1</th>\n",
       "      <td>483.0</td>\n",
       "      <td>0.418543</td>\n",
       "      <td>0.104599</td>\n",
       "      <td>0.0</td>\n",
       "      <td>0.352727</td>\n",
       "      <td>0.403636</td>\n",
       "      <td>0.465455</td>\n",
       "      <td>1.0</td>\n",
       "    </tr>\n",
       "    <tr>\n",
       "      <th>2010_VD2</th>\n",
       "      <td>483.0</td>\n",
       "      <td>0.919942</td>\n",
       "      <td>0.125474</td>\n",
       "      <td>0.0</td>\n",
       "      <td>0.918513</td>\n",
       "      <td>0.959388</td>\n",
       "      <td>0.983914</td>\n",
       "      <td>1.0</td>\n",
       "    </tr>\n",
       "    <tr>\n",
       "      <th>2010_VD3</th>\n",
       "      <td>483.0</td>\n",
       "      <td>0.612828</td>\n",
       "      <td>0.098168</td>\n",
       "      <td>0.0</td>\n",
       "      <td>0.563647</td>\n",
       "      <td>0.608936</td>\n",
       "      <td>0.659355</td>\n",
       "      <td>1.0</td>\n",
       "    </tr>\n",
       "    <tr>\n",
       "      <th>2010_VD4</th>\n",
       "      <td>483.0</td>\n",
       "      <td>0.636569</td>\n",
       "      <td>0.131548</td>\n",
       "      <td>0.0</td>\n",
       "      <td>0.552469</td>\n",
       "      <td>0.638889</td>\n",
       "      <td>0.725309</td>\n",
       "      <td>1.0</td>\n",
       "    </tr>\n",
       "    <tr>\n",
       "      <th>2010_VE1</th>\n",
       "      <td>483.0</td>\n",
       "      <td>0.811266</td>\n",
       "      <td>0.157044</td>\n",
       "      <td>0.0</td>\n",
       "      <td>0.753375</td>\n",
       "      <td>0.863186</td>\n",
       "      <td>0.917079</td>\n",
       "      <td>1.0</td>\n",
       "    </tr>\n",
       "    <tr>\n",
       "      <th>2010_VE2</th>\n",
       "      <td>483.0</td>\n",
       "      <td>0.045010</td>\n",
       "      <td>0.107741</td>\n",
       "      <td>0.0</td>\n",
       "      <td>0.000000</td>\n",
       "      <td>0.000000</td>\n",
       "      <td>0.029186</td>\n",
       "      <td>1.0</td>\n",
       "    </tr>\n",
       "    <tr>\n",
       "      <th>2010_VE3</th>\n",
       "      <td>483.0</td>\n",
       "      <td>0.555011</td>\n",
       "      <td>0.187450</td>\n",
       "      <td>0.0</td>\n",
       "      <td>0.415021</td>\n",
       "      <td>0.522037</td>\n",
       "      <td>0.698337</td>\n",
       "      <td>1.0</td>\n",
       "    </tr>\n",
       "    <tr>\n",
       "      <th>2010_VED1</th>\n",
       "      <td>483.0</td>\n",
       "      <td>0.930897</td>\n",
       "      <td>0.117805</td>\n",
       "      <td>0.0</td>\n",
       "      <td>0.882971</td>\n",
       "      <td>1.000000</td>\n",
       "      <td>1.000000</td>\n",
       "      <td>1.0</td>\n",
       "    </tr>\n",
       "    <tr>\n",
       "      <th>2010_VED2</th>\n",
       "      <td>483.0</td>\n",
       "      <td>0.816855</td>\n",
       "      <td>0.152264</td>\n",
       "      <td>0.0</td>\n",
       "      <td>0.734800</td>\n",
       "      <td>0.847200</td>\n",
       "      <td>0.932800</td>\n",
       "      <td>1.0</td>\n",
       "    </tr>\n",
       "    <tr>\n",
       "      <th>2010_VH1</th>\n",
       "      <td>483.0</td>\n",
       "      <td>0.986195</td>\n",
       "      <td>0.071940</td>\n",
       "      <td>0.0</td>\n",
       "      <td>1.000000</td>\n",
       "      <td>1.000000</td>\n",
       "      <td>1.000000</td>\n",
       "      <td>1.0</td>\n",
       "    </tr>\n",
       "    <tr>\n",
       "      <th>2010_VH2</th>\n",
       "      <td>483.0</td>\n",
       "      <td>0.059185</td>\n",
       "      <td>0.126400</td>\n",
       "      <td>0.0</td>\n",
       "      <td>0.004134</td>\n",
       "      <td>0.015019</td>\n",
       "      <td>0.047081</td>\n",
       "      <td>1.0</td>\n",
       "    </tr>\n",
       "    <tr>\n",
       "      <th>2010_VH3</th>\n",
       "      <td>483.0</td>\n",
       "      <td>0.674922</td>\n",
       "      <td>0.409789</td>\n",
       "      <td>0.0</td>\n",
       "      <td>0.114850</td>\n",
       "      <td>0.941700</td>\n",
       "      <td>0.985300</td>\n",
       "      <td>1.0</td>\n",
       "    </tr>\n",
       "    <tr>\n",
       "      <th>2010_VH4</th>\n",
       "      <td>483.0</td>\n",
       "      <td>0.937378</td>\n",
       "      <td>0.174557</td>\n",
       "      <td>0.0</td>\n",
       "      <td>0.989604</td>\n",
       "      <td>1.000000</td>\n",
       "      <td>1.000000</td>\n",
       "      <td>1.0</td>\n",
       "    </tr>\n",
       "    <tr>\n",
       "      <th>2010_VH5</th>\n",
       "      <td>483.0</td>\n",
       "      <td>0.546460</td>\n",
       "      <td>0.145992</td>\n",
       "      <td>0.0</td>\n",
       "      <td>0.462410</td>\n",
       "      <td>0.564600</td>\n",
       "      <td>0.642955</td>\n",
       "      <td>1.0</td>\n",
       "    </tr>\n",
       "    <tr>\n",
       "      <th>VA4_2010</th>\n",
       "      <td>483.0</td>\n",
       "      <td>0.389294</td>\n",
       "      <td>0.145132</td>\n",
       "      <td>0.0</td>\n",
       "      <td>0.296886</td>\n",
       "      <td>0.378254</td>\n",
       "      <td>0.473441</td>\n",
       "      <td>1.0</td>\n",
       "    </tr>\n",
       "  </tbody>\n",
       "</table>\n",
       "</div>"
      ],
      "text/plain": [
       "           count      mean       std  min       25%       50%       75%  max\n",
       "2010_VD1   483.0  0.418543  0.104599  0.0  0.352727  0.403636  0.465455  1.0\n",
       "2010_VD2   483.0  0.919942  0.125474  0.0  0.918513  0.959388  0.983914  1.0\n",
       "2010_VD3   483.0  0.612828  0.098168  0.0  0.563647  0.608936  0.659355  1.0\n",
       "2010_VD4   483.0  0.636569  0.131548  0.0  0.552469  0.638889  0.725309  1.0\n",
       "2010_VE1   483.0  0.811266  0.157044  0.0  0.753375  0.863186  0.917079  1.0\n",
       "2010_VE2   483.0  0.045010  0.107741  0.0  0.000000  0.000000  0.029186  1.0\n",
       "2010_VE3   483.0  0.555011  0.187450  0.0  0.415021  0.522037  0.698337  1.0\n",
       "2010_VED1  483.0  0.930897  0.117805  0.0  0.882971  1.000000  1.000000  1.0\n",
       "2010_VED2  483.0  0.816855  0.152264  0.0  0.734800  0.847200  0.932800  1.0\n",
       "2010_VH1   483.0  0.986195  0.071940  0.0  1.000000  1.000000  1.000000  1.0\n",
       "2010_VH2   483.0  0.059185  0.126400  0.0  0.004134  0.015019  0.047081  1.0\n",
       "2010_VH3   483.0  0.674922  0.409789  0.0  0.114850  0.941700  0.985300  1.0\n",
       "2010_VH4   483.0  0.937378  0.174557  0.0  0.989604  1.000000  1.000000  1.0\n",
       "2010_VH5   483.0  0.546460  0.145992  0.0  0.462410  0.564600  0.642955  1.0\n",
       "VA4_2010   483.0  0.389294  0.145132  0.0  0.296886  0.378254  0.473441  1.0"
      ]
     },
     "metadata": {},
     "output_type": "display_data"
    }
   ],
   "source": [
    "path_file = config['datasets'][5]\n",
    "\n",
    "# Column names to be ignored, according to the original notebook\n",
    "cols_to_ignore = [\"RendaMedia\"]\n",
    "id_column = \"Cod_Setor\"\n",
    "\n",
    "df_original = pd.read_excel(path_file, dtype={id_column: \"object\"})\n",
    "df_processed = df_original.drop(columns=[id_column, *cols_to_ignore])\n",
    "\n",
    "display(df_original)\n",
    "display(df_processed.describe().T)"
   ]
  },
  {
   "cell_type": "markdown",
   "id": "52c977e9c11f761f",
   "metadata": {},
   "source": [
    "### Evaluate user-desired options"
   ]
  },
  {
   "cell_type": "code",
   "execution_count": null,
   "id": "58acf375465b63bf",
   "metadata": {
    "ExecuteTime": {
     "end_time": "2025-08-31T23:18:07.142897Z",
     "start_time": "2025-08-31T23:18:04.442336Z"
    }
   },
   "outputs": [
    {
     "data": {
      "text/html": [
       "<div>\n",
       "<style scoped>\n",
       "    .dataframe tbody tr th:only-of-type {\n",
       "        vertical-align: middle;\n",
       "    }\n",
       "\n",
       "    .dataframe tbody tr th {\n",
       "        vertical-align: top;\n",
       "    }\n",
       "\n",
       "    .dataframe thead th {\n",
       "        text-align: right;\n",
       "    }\n",
       "</style>\n",
       "<table border=\"1\" class=\"dataframe\">\n",
       "  <thead>\n",
       "    <tr style=\"text-align: right;\">\n",
       "      <th></th>\n",
       "      <th>cluster</th>\n",
       "      <th>num_clusters</th>\n",
       "      <th>silhouette_score</th>\n",
       "    </tr>\n",
       "  </thead>\n",
       "  <tbody>\n",
       "    <tr>\n",
       "      <th>0</th>\n",
       "      <td>3 groups</td>\n",
       "      <td>3</td>\n",
       "      <td>0.299611</td>\n",
       "    </tr>\n",
       "    <tr>\n",
       "      <th>1</th>\n",
       "      <td>4 groups</td>\n",
       "      <td>4</td>\n",
       "      <td>0.264569</td>\n",
       "    </tr>\n",
       "    <tr>\n",
       "      <th>2</th>\n",
       "      <td>5 groups</td>\n",
       "      <td>5</td>\n",
       "      <td>0.233157</td>\n",
       "    </tr>\n",
       "    <tr>\n",
       "      <th>3</th>\n",
       "      <td>6 groups</td>\n",
       "      <td>6</td>\n",
       "      <td>0.213813</td>\n",
       "    </tr>\n",
       "    <tr>\n",
       "      <th>4</th>\n",
       "      <td>7 groups</td>\n",
       "      <td>7</td>\n",
       "      <td>0.189489</td>\n",
       "    </tr>\n",
       "  </tbody>\n",
       "</table>\n",
       "</div>"
      ],
      "text/plain": [
       "    cluster  num_clusters  silhouette_score\n",
       "0  3 groups             3          0.299611\n",
       "1  4 groups             4          0.264569\n",
       "2  5 groups             5          0.233157\n",
       "3  6 groups             6          0.213813\n",
       "4  7 groups             7          0.189489"
      ]
     },
     "execution_count": 5,
     "metadata": {},
     "output_type": "execute_result"
    }
   ],
   "source": [
    "pre_results = [\n",
    "  evaluate_cluster(df_processed, k)\n",
    "  for k in range(MIN_CLUSTERS, MAX_CLUSTERS + 1)\n",
    "]\n",
    "\n",
    "df_pre_results = pd.DataFrame(pre_results,\n",
    "                              columns=['cluster', 'num_clusters',\n",
    "                                       'silhouette_score', 'davies_bouldin_score',\n",
    "                                       'dunn_score'])\n",
    "\n",
    "comparison_graph = get_comparison_clusters_graph(df_pre_results.round(3),\n",
    "                                                 title=\"Cluster Evaluation Metrics Comparison\")\n",
    "\n",
    "df_pre_results"
   ]
  },
  {
   "cell_type": "code",
   "execution_count": 6,
   "id": "dbd81c9c9de3e7f1",
   "metadata": {
    "ExecuteTime": {
     "end_time": "2025-08-31T23:18:13.134341Z",
     "start_time": "2025-08-31T23:18:11.285317Z"
    }
   },
   "outputs": [
    {
     "data": {
      "application/vnd.plotly.v1+json": {
       "config": {
        "plotlyServerURL": "https://plot.ly"
       },
       "data": [
        {
         "hovertemplate": "cluster=%{x}<br>silhouette_score=%{y}<extra></extra>",
         "legendgroup": "3 groups",
         "marker": {
          "color": "#636efa",
          "pattern": {
           "shape": ""
          }
         },
         "name": "3 groups",
         "orientation": "v",
         "showlegend": true,
         "textposition": "auto",
         "texttemplate": "%{y}",
         "type": "bar",
         "x": [
          "3 groups"
         ],
         "xaxis": "x",
         "y": {
          "bdata": "MzMzMzMz0z8=",
          "dtype": "f8"
         },
         "yaxis": "y"
        },
        {
         "hovertemplate": "cluster=%{x}<br>silhouette_score=%{y}<extra></extra>",
         "legendgroup": "4 groups",
         "marker": {
          "color": "#EF553B",
          "pattern": {
           "shape": ""
          }
         },
         "name": "4 groups",
         "orientation": "v",
         "showlegend": true,
         "textposition": "auto",
         "texttemplate": "%{y}",
         "type": "bar",
         "x": [
          "4 groups"
         ],
         "xaxis": "x",
         "y": {
          "bdata": "9ihcj8L10D8=",
          "dtype": "f8"
         },
         "yaxis": "y"
        },
        {
         "hovertemplate": "cluster=%{x}<br>silhouette_score=%{y}<extra></extra>",
         "legendgroup": "5 groups",
         "marker": {
          "color": "#00cc96",
          "pattern": {
           "shape": ""
          }
         },
         "name": "5 groups",
         "orientation": "v",
         "showlegend": true,
         "textposition": "auto",
         "texttemplate": "%{y}",
         "type": "bar",
         "x": [
          "5 groups"
         ],
         "xaxis": "x",
         "y": {
          "bdata": "bef7qfHSzT8=",
          "dtype": "f8"
         },
         "yaxis": "y"
        },
        {
         "hovertemplate": "cluster=%{x}<br>silhouette_score=%{y}<extra></extra>",
         "legendgroup": "6 groups",
         "marker": {
          "color": "#ab63fa",
          "pattern": {
           "shape": ""
          }
         },
         "name": "6 groups",
         "orientation": "v",
         "showlegend": true,
         "textposition": "auto",
         "texttemplate": "%{y}",
         "type": "bar",
         "x": [
          "6 groups"
         ],
         "xaxis": "x",
         "y": {
          "bdata": "MQisHFpkyz8=",
          "dtype": "f8"
         },
         "yaxis": "y"
        },
        {
         "hovertemplate": "cluster=%{x}<br>silhouette_score=%{y}<extra></extra>",
         "legendgroup": "7 groups",
         "marker": {
          "color": "#FFA15A",
          "pattern": {
           "shape": ""
          }
         },
         "name": "7 groups",
         "orientation": "v",
         "showlegend": true,
         "textposition": "auto",
         "texttemplate": "%{y}",
         "type": "bar",
         "x": [
          "7 groups"
         ],
         "xaxis": "x",
         "y": {
          "bdata": "/tR46SYxyD8=",
          "dtype": "f8"
         },
         "yaxis": "y"
        }
       ],
       "layout": {
        "annotations": [
         {
          "showarrow": false,
          "text": "threshold",
          "x": 1,
          "xanchor": "right",
          "xref": "x domain",
          "y": 0.5,
          "yanchor": "top",
          "yref": "y"
         },
         {
          "showarrow": false,
          "text": "mean: 0.24",
          "x": 1,
          "xanchor": "right",
          "xref": "x domain",
          "y": 0.24,
          "yanchor": "bottom",
          "yref": "y"
         }
        ],
        "barmode": "relative",
        "height": 360,
        "legend": {
         "title": {
          "text": "cluster"
         },
         "tracegroupgap": 0
        },
        "shapes": [
         {
          "line": {
           "color": "red",
           "dash": "dot",
           "width": 2
          },
          "type": "line",
          "x0": 0,
          "x1": 1,
          "xref": "x domain",
          "y0": 0.5,
          "y1": 0.5,
          "yref": "y"
         },
         {
          "line": {
           "color": "orange",
           "dash": "dot"
          },
          "type": "line",
          "x0": 0,
          "x1": 1,
          "xref": "x domain",
          "y0": 0.24,
          "y1": 0.24,
          "yref": "y"
         }
        ],
        "showlegend": false,
        "template": {
         "data": {
          "bar": [
           {
            "error_x": {
             "color": "#2a3f5f"
            },
            "error_y": {
             "color": "#2a3f5f"
            },
            "marker": {
             "line": {
              "color": "#E5ECF6",
              "width": 0.5
             },
             "pattern": {
              "fillmode": "overlay",
              "size": 10,
              "solidity": 0.2
             }
            },
            "type": "bar"
           }
          ],
          "barpolar": [
           {
            "marker": {
             "line": {
              "color": "#E5ECF6",
              "width": 0.5
             },
             "pattern": {
              "fillmode": "overlay",
              "size": 10,
              "solidity": 0.2
             }
            },
            "type": "barpolar"
           }
          ],
          "carpet": [
           {
            "aaxis": {
             "endlinecolor": "#2a3f5f",
             "gridcolor": "white",
             "linecolor": "white",
             "minorgridcolor": "white",
             "startlinecolor": "#2a3f5f"
            },
            "baxis": {
             "endlinecolor": "#2a3f5f",
             "gridcolor": "white",
             "linecolor": "white",
             "minorgridcolor": "white",
             "startlinecolor": "#2a3f5f"
            },
            "type": "carpet"
           }
          ],
          "choropleth": [
           {
            "colorbar": {
             "outlinewidth": 0,
             "ticks": ""
            },
            "type": "choropleth"
           }
          ],
          "contour": [
           {
            "colorbar": {
             "outlinewidth": 0,
             "ticks": ""
            },
            "colorscale": [
             [
              0,
              "#0d0887"
             ],
             [
              0.1111111111111111,
              "#46039f"
             ],
             [
              0.2222222222222222,
              "#7201a8"
             ],
             [
              0.3333333333333333,
              "#9c179e"
             ],
             [
              0.4444444444444444,
              "#bd3786"
             ],
             [
              0.5555555555555556,
              "#d8576b"
             ],
             [
              0.6666666666666666,
              "#ed7953"
             ],
             [
              0.7777777777777778,
              "#fb9f3a"
             ],
             [
              0.8888888888888888,
              "#fdca26"
             ],
             [
              1,
              "#f0f921"
             ]
            ],
            "type": "contour"
           }
          ],
          "contourcarpet": [
           {
            "colorbar": {
             "outlinewidth": 0,
             "ticks": ""
            },
            "type": "contourcarpet"
           }
          ],
          "heatmap": [
           {
            "colorbar": {
             "outlinewidth": 0,
             "ticks": ""
            },
            "colorscale": [
             [
              0,
              "#0d0887"
             ],
             [
              0.1111111111111111,
              "#46039f"
             ],
             [
              0.2222222222222222,
              "#7201a8"
             ],
             [
              0.3333333333333333,
              "#9c179e"
             ],
             [
              0.4444444444444444,
              "#bd3786"
             ],
             [
              0.5555555555555556,
              "#d8576b"
             ],
             [
              0.6666666666666666,
              "#ed7953"
             ],
             [
              0.7777777777777778,
              "#fb9f3a"
             ],
             [
              0.8888888888888888,
              "#fdca26"
             ],
             [
              1,
              "#f0f921"
             ]
            ],
            "type": "heatmap"
           }
          ],
          "histogram": [
           {
            "marker": {
             "pattern": {
              "fillmode": "overlay",
              "size": 10,
              "solidity": 0.2
             }
            },
            "type": "histogram"
           }
          ],
          "histogram2d": [
           {
            "colorbar": {
             "outlinewidth": 0,
             "ticks": ""
            },
            "colorscale": [
             [
              0,
              "#0d0887"
             ],
             [
              0.1111111111111111,
              "#46039f"
             ],
             [
              0.2222222222222222,
              "#7201a8"
             ],
             [
              0.3333333333333333,
              "#9c179e"
             ],
             [
              0.4444444444444444,
              "#bd3786"
             ],
             [
              0.5555555555555556,
              "#d8576b"
             ],
             [
              0.6666666666666666,
              "#ed7953"
             ],
             [
              0.7777777777777778,
              "#fb9f3a"
             ],
             [
              0.8888888888888888,
              "#fdca26"
             ],
             [
              1,
              "#f0f921"
             ]
            ],
            "type": "histogram2d"
           }
          ],
          "histogram2dcontour": [
           {
            "colorbar": {
             "outlinewidth": 0,
             "ticks": ""
            },
            "colorscale": [
             [
              0,
              "#0d0887"
             ],
             [
              0.1111111111111111,
              "#46039f"
             ],
             [
              0.2222222222222222,
              "#7201a8"
             ],
             [
              0.3333333333333333,
              "#9c179e"
             ],
             [
              0.4444444444444444,
              "#bd3786"
             ],
             [
              0.5555555555555556,
              "#d8576b"
             ],
             [
              0.6666666666666666,
              "#ed7953"
             ],
             [
              0.7777777777777778,
              "#fb9f3a"
             ],
             [
              0.8888888888888888,
              "#fdca26"
             ],
             [
              1,
              "#f0f921"
             ]
            ],
            "type": "histogram2dcontour"
           }
          ],
          "mesh3d": [
           {
            "colorbar": {
             "outlinewidth": 0,
             "ticks": ""
            },
            "type": "mesh3d"
           }
          ],
          "parcoords": [
           {
            "line": {
             "colorbar": {
              "outlinewidth": 0,
              "ticks": ""
             }
            },
            "type": "parcoords"
           }
          ],
          "pie": [
           {
            "automargin": true,
            "type": "pie"
           }
          ],
          "scatter": [
           {
            "fillpattern": {
             "fillmode": "overlay",
             "size": 10,
             "solidity": 0.2
            },
            "type": "scatter"
           }
          ],
          "scatter3d": [
           {
            "line": {
             "colorbar": {
              "outlinewidth": 0,
              "ticks": ""
             }
            },
            "marker": {
             "colorbar": {
              "outlinewidth": 0,
              "ticks": ""
             }
            },
            "type": "scatter3d"
           }
          ],
          "scattercarpet": [
           {
            "marker": {
             "colorbar": {
              "outlinewidth": 0,
              "ticks": ""
             }
            },
            "type": "scattercarpet"
           }
          ],
          "scattergeo": [
           {
            "marker": {
             "colorbar": {
              "outlinewidth": 0,
              "ticks": ""
             }
            },
            "type": "scattergeo"
           }
          ],
          "scattergl": [
           {
            "marker": {
             "colorbar": {
              "outlinewidth": 0,
              "ticks": ""
             }
            },
            "type": "scattergl"
           }
          ],
          "scattermap": [
           {
            "marker": {
             "colorbar": {
              "outlinewidth": 0,
              "ticks": ""
             }
            },
            "type": "scattermap"
           }
          ],
          "scattermapbox": [
           {
            "marker": {
             "colorbar": {
              "outlinewidth": 0,
              "ticks": ""
             }
            },
            "type": "scattermapbox"
           }
          ],
          "scatterpolar": [
           {
            "marker": {
             "colorbar": {
              "outlinewidth": 0,
              "ticks": ""
             }
            },
            "type": "scatterpolar"
           }
          ],
          "scatterpolargl": [
           {
            "marker": {
             "colorbar": {
              "outlinewidth": 0,
              "ticks": ""
             }
            },
            "type": "scatterpolargl"
           }
          ],
          "scatterternary": [
           {
            "marker": {
             "colorbar": {
              "outlinewidth": 0,
              "ticks": ""
             }
            },
            "type": "scatterternary"
           }
          ],
          "surface": [
           {
            "colorbar": {
             "outlinewidth": 0,
             "ticks": ""
            },
            "colorscale": [
             [
              0,
              "#0d0887"
             ],
             [
              0.1111111111111111,
              "#46039f"
             ],
             [
              0.2222222222222222,
              "#7201a8"
             ],
             [
              0.3333333333333333,
              "#9c179e"
             ],
             [
              0.4444444444444444,
              "#bd3786"
             ],
             [
              0.5555555555555556,
              "#d8576b"
             ],
             [
              0.6666666666666666,
              "#ed7953"
             ],
             [
              0.7777777777777778,
              "#fb9f3a"
             ],
             [
              0.8888888888888888,
              "#fdca26"
             ],
             [
              1,
              "#f0f921"
             ]
            ],
            "type": "surface"
           }
          ],
          "table": [
           {
            "cells": {
             "fill": {
              "color": "#EBF0F8"
             },
             "line": {
              "color": "white"
             }
            },
            "header": {
             "fill": {
              "color": "#C8D4E3"
             },
             "line": {
              "color": "white"
             }
            },
            "type": "table"
           }
          ]
         },
         "layout": {
          "annotationdefaults": {
           "arrowcolor": "#2a3f5f",
           "arrowhead": 0,
           "arrowwidth": 1
          },
          "autotypenumbers": "strict",
          "coloraxis": {
           "colorbar": {
            "outlinewidth": 0,
            "ticks": ""
           }
          },
          "colorscale": {
           "diverging": [
            [
             0,
             "#8e0152"
            ],
            [
             0.1,
             "#c51b7d"
            ],
            [
             0.2,
             "#de77ae"
            ],
            [
             0.3,
             "#f1b6da"
            ],
            [
             0.4,
             "#fde0ef"
            ],
            [
             0.5,
             "#f7f7f7"
            ],
            [
             0.6,
             "#e6f5d0"
            ],
            [
             0.7,
             "#b8e186"
            ],
            [
             0.8,
             "#7fbc41"
            ],
            [
             0.9,
             "#4d9221"
            ],
            [
             1,
             "#276419"
            ]
           ],
           "sequential": [
            [
             0,
             "#0d0887"
            ],
            [
             0.1111111111111111,
             "#46039f"
            ],
            [
             0.2222222222222222,
             "#7201a8"
            ],
            [
             0.3333333333333333,
             "#9c179e"
            ],
            [
             0.4444444444444444,
             "#bd3786"
            ],
            [
             0.5555555555555556,
             "#d8576b"
            ],
            [
             0.6666666666666666,
             "#ed7953"
            ],
            [
             0.7777777777777778,
             "#fb9f3a"
            ],
            [
             0.8888888888888888,
             "#fdca26"
            ],
            [
             1,
             "#f0f921"
            ]
           ],
           "sequentialminus": [
            [
             0,
             "#0d0887"
            ],
            [
             0.1111111111111111,
             "#46039f"
            ],
            [
             0.2222222222222222,
             "#7201a8"
            ],
            [
             0.3333333333333333,
             "#9c179e"
            ],
            [
             0.4444444444444444,
             "#bd3786"
            ],
            [
             0.5555555555555556,
             "#d8576b"
            ],
            [
             0.6666666666666666,
             "#ed7953"
            ],
            [
             0.7777777777777778,
             "#fb9f3a"
            ],
            [
             0.8888888888888888,
             "#fdca26"
            ],
            [
             1,
             "#f0f921"
            ]
           ]
          },
          "colorway": [
           "#636efa",
           "#EF553B",
           "#00cc96",
           "#ab63fa",
           "#FFA15A",
           "#19d3f3",
           "#FF6692",
           "#B6E880",
           "#FF97FF",
           "#FECB52"
          ],
          "font": {
           "color": "#2a3f5f"
          },
          "geo": {
           "bgcolor": "white",
           "lakecolor": "white",
           "landcolor": "#E5ECF6",
           "showlakes": true,
           "showland": true,
           "subunitcolor": "white"
          },
          "hoverlabel": {
           "align": "left"
          },
          "hovermode": "closest",
          "mapbox": {
           "style": "light"
          },
          "paper_bgcolor": "white",
          "plot_bgcolor": "#E5ECF6",
          "polar": {
           "angularaxis": {
            "gridcolor": "white",
            "linecolor": "white",
            "ticks": ""
           },
           "bgcolor": "#E5ECF6",
           "radialaxis": {
            "gridcolor": "white",
            "linecolor": "white",
            "ticks": ""
           }
          },
          "scene": {
           "xaxis": {
            "backgroundcolor": "#E5ECF6",
            "gridcolor": "white",
            "gridwidth": 2,
            "linecolor": "white",
            "showbackground": true,
            "ticks": "",
            "zerolinecolor": "white"
           },
           "yaxis": {
            "backgroundcolor": "#E5ECF6",
            "gridcolor": "white",
            "gridwidth": 2,
            "linecolor": "white",
            "showbackground": true,
            "ticks": "",
            "zerolinecolor": "white"
           },
           "zaxis": {
            "backgroundcolor": "#E5ECF6",
            "gridcolor": "white",
            "gridwidth": 2,
            "linecolor": "white",
            "showbackground": true,
            "ticks": "",
            "zerolinecolor": "white"
           }
          },
          "shapedefaults": {
           "line": {
            "color": "#2a3f5f"
           }
          },
          "ternary": {
           "aaxis": {
            "gridcolor": "white",
            "linecolor": "white",
            "ticks": ""
           },
           "baxis": {
            "gridcolor": "white",
            "linecolor": "white",
            "ticks": ""
           },
           "bgcolor": "#E5ECF6",
           "caxis": {
            "gridcolor": "white",
            "linecolor": "white",
            "ticks": ""
           }
          },
          "title": {
           "x": 0.05
          },
          "xaxis": {
           "automargin": true,
           "gridcolor": "white",
           "linecolor": "white",
           "ticks": "",
           "title": {
            "standoff": 15
           },
           "zerolinecolor": "white",
           "zerolinewidth": 2
          },
          "yaxis": {
           "automargin": true,
           "gridcolor": "white",
           "linecolor": "white",
           "ticks": "",
           "title": {
            "standoff": 15
           },
           "zerolinecolor": "white",
           "zerolinewidth": 2
          }
         }
        },
        "title": {
         "text": "Solhouette score per desired groups"
        },
        "width": 720,
        "xaxis": {
         "anchor": "y",
         "categoryarray": [
          "3 groups",
          "4 groups",
          "5 groups",
          "6 groups",
          "7 groups"
         ],
         "categoryorder": "array",
         "domain": [
          0,
          1
         ],
         "title": {
          "text": "cluster"
         }
        },
        "yaxis": {
         "anchor": "x",
         "domain": [
          0,
          1
         ],
         "range": [
          -1,
          1
         ],
         "title": {
          "text": "silhouette_score"
         }
        }
       }
      }
     },
     "metadata": {},
     "output_type": "display_data"
    }
   ],
   "source": [
    "comparision_graph"
   ]
  },
  {
   "cell_type": "markdown",
   "id": "a83e1ce5de0ca968",
   "metadata": {},
   "source": [
    "### Applying the Smart K-Means"
   ]
  },
  {
   "cell_type": "code",
   "execution_count": 9,
   "id": "69c94fffa8b2baf0",
   "metadata": {
    "ExecuteTime": {
     "end_time": "2025-08-31T23:18:50.616709Z",
     "start_time": "2025-08-31T23:18:47.584012Z"
    }
   },
   "outputs": [
    {
     "data": {
      "text/html": [
       "<div>\n",
       "<style scoped>\n",
       "    .dataframe tbody tr th:only-of-type {\n",
       "        vertical-align: middle;\n",
       "    }\n",
       "\n",
       "    .dataframe tbody tr th {\n",
       "        vertical-align: top;\n",
       "    }\n",
       "\n",
       "    .dataframe thead th {\n",
       "        text-align: right;\n",
       "    }\n",
       "</style>\n",
       "<table border=\"1\" class=\"dataframe\">\n",
       "  <thead>\n",
       "    <tr style=\"text-align: right;\">\n",
       "      <th></th>\n",
       "      <th>cluster</th>\n",
       "      <th>qty_subindicators</th>\n",
       "      <th>silhouette_score</th>\n",
       "      <th>davies_bouldin_score</th>\n",
       "      <th>dunn_score</th>\n",
       "      <th>subindicators</th>\n",
       "      <th>details</th>\n",
       "    </tr>\n",
       "  </thead>\n",
       "  <tbody>\n",
       "    <tr>\n",
       "      <th>0</th>\n",
       "      <td>3 groups</td>\n",
       "      <td>7</td>\n",
       "      <td>0.568408</td>\n",
       "      <td>0.988493</td>\n",
       "      <td>0.378603</td>\n",
       "      <td>[2010_VH2, 2010_VD2, 2010_VD1, 2010_VE2, 2010_...</td>\n",
       "      <td>{'cluster': '3 groups', 'num_clusters': 3, 'la...</td>\n",
       "    </tr>\n",
       "    <tr>\n",
       "      <th>1</th>\n",
       "      <td>5 groups</td>\n",
       "      <td>7</td>\n",
       "      <td>0.521769</td>\n",
       "      <td>0.917974</td>\n",
       "      <td>0.330873</td>\n",
       "      <td>[2010_VH2, 2010_VD2, 2010_VD1, 2010_VE2, 2010_...</td>\n",
       "      <td>{'cluster': '5 groups', 'num_clusters': 5, 'la...</td>\n",
       "    </tr>\n",
       "    <tr>\n",
       "      <th>2</th>\n",
       "      <td>4 groups</td>\n",
       "      <td>7</td>\n",
       "      <td>0.515995</td>\n",
       "      <td>0.970469</td>\n",
       "      <td>0.296098</td>\n",
       "      <td>[2010_VH2, 2010_VD2, 2010_VD1, 2010_VE2, 2010_...</td>\n",
       "      <td>{'cluster': '4 groups', 'num_clusters': 4, 'la...</td>\n",
       "    </tr>\n",
       "    <tr>\n",
       "      <th>3</th>\n",
       "      <td>6 groups</td>\n",
       "      <td>4</td>\n",
       "      <td>0.529098</td>\n",
       "      <td>0.979725</td>\n",
       "      <td>0.170257</td>\n",
       "      <td>[2010_VE2, 2010_VH4, 2010_VED1, 2010_VH1]</td>\n",
       "      <td>{'cluster': '6 groups', 'num_clusters': 6, 'la...</td>\n",
       "    </tr>\n",
       "    <tr>\n",
       "      <th>4</th>\n",
       "      <td>7 groups</td>\n",
       "      <td>4</td>\n",
       "      <td>0.524111</td>\n",
       "      <td>0.858092</td>\n",
       "      <td>0.199247</td>\n",
       "      <td>[2010_VE2, 2010_VH4, 2010_VED1, 2010_VH1]</td>\n",
       "      <td>{'cluster': '7 groups', 'num_clusters': 7, 'la...</td>\n",
       "    </tr>\n",
       "  </tbody>\n",
       "</table>\n",
       "</div>"
      ],
      "text/plain": [
       "    cluster  qty_subindicators  silhouette_score  davies_bouldin_score  \\\n",
       "0  3 groups                  7          0.568408              0.988493   \n",
       "1  5 groups                  7          0.521769              0.917974   \n",
       "2  4 groups                  7          0.515995              0.970469   \n",
       "3  6 groups                  4          0.529098              0.979725   \n",
       "4  7 groups                  4          0.524111              0.858092   \n",
       "\n",
       "   dunn_score                                      subindicators  \\\n",
       "0    0.378603  [2010_VH2, 2010_VD2, 2010_VD1, 2010_VE2, 2010_...   \n",
       "1    0.330873  [2010_VH2, 2010_VD2, 2010_VD1, 2010_VE2, 2010_...   \n",
       "2    0.296098  [2010_VH2, 2010_VD2, 2010_VD1, 2010_VE2, 2010_...   \n",
       "3    0.170257          [2010_VE2, 2010_VH4, 2010_VED1, 2010_VH1]   \n",
       "4    0.199247          [2010_VE2, 2010_VH4, 2010_VED1, 2010_VH1]   \n",
       "\n",
       "                                             details  \n",
       "0  {'cluster': '3 groups', 'num_clusters': 3, 'la...  \n",
       "1  {'cluster': '5 groups', 'num_clusters': 5, 'la...  \n",
       "2  {'cluster': '4 groups', 'num_clusters': 4, 'la...  \n",
       "3  {'cluster': '6 groups', 'num_clusters': 6, 'la...  \n",
       "4  {'cluster': '7 groups', 'num_clusters': 7, 'la...  "
      ]
     },
     "execution_count": 9,
     "metadata": {},
     "output_type": "execute_result"
    }
   ],
   "source": [
    "\n",
    "results = calculate_best_k_with_entropy(df_processed, QTD_MIN_CLUSTERS,\n",
    "                                        QTD_MAX_CLUSTERS)\n",
    "results[0]"
   ]
  },
  {
   "cell_type": "code",
   "execution_count": 10,
   "id": "2f404189dca4470d",
   "metadata": {
    "ExecuteTime": {
     "end_time": "2025-08-31T23:19:00.302393Z",
     "start_time": "2025-08-31T23:19:00.287030Z"
    }
   },
   "outputs": [
    {
     "data": {
      "text/html": [
       "<div>\n",
       "<style scoped>\n",
       "    .dataframe tbody tr th:only-of-type {\n",
       "        vertical-align: middle;\n",
       "    }\n",
       "\n",
       "    .dataframe tbody tr th {\n",
       "        vertical-align: top;\n",
       "    }\n",
       "\n",
       "    .dataframe thead th {\n",
       "        text-align: right;\n",
       "    }\n",
       "</style>\n",
       "<table border=\"1\" class=\"dataframe\">\n",
       "  <thead>\n",
       "    <tr style=\"text-align: right;\">\n",
       "      <th></th>\n",
       "      <th>group</th>\n",
       "      <th>count</th>\n",
       "      <th>score</th>\n",
       "      <th>centroids</th>\n",
       "    </tr>\n",
       "  </thead>\n",
       "  <tbody>\n",
       "    <tr>\n",
       "      <th>0</th>\n",
       "      <td>C1</td>\n",
       "      <td>413</td>\n",
       "      <td>0.629718</td>\n",
       "      <td>[[0.027892432821587293, 0.9185911974744843, 0....</td>\n",
       "    </tr>\n",
       "    <tr>\n",
       "      <th>1</th>\n",
       "      <td>C2</td>\n",
       "      <td>38</td>\n",
       "      <td>0.225383</td>\n",
       "      <td>[[0.027892432821587293, 0.9185911974744843, 0....</td>\n",
       "    </tr>\n",
       "    <tr>\n",
       "      <th>2</th>\n",
       "      <td>C3</td>\n",
       "      <td>32</td>\n",
       "      <td>0.184476</td>\n",
       "      <td>[[0.027892432821587293, 0.9185911974744843, 0....</td>\n",
       "    </tr>\n",
       "  </tbody>\n",
       "</table>\n",
       "</div>"
      ],
      "text/plain": [
       "  group  count     score                                          centroids\n",
       "0    C1    413  0.629718  [[0.027892432821587293, 0.9185911974744843, 0....\n",
       "1    C2     38  0.225383  [[0.027892432821587293, 0.9185911974744843, 0....\n",
       "2    C3     32  0.184476  [[0.027892432821587293, 0.9185911974744843, 0...."
      ]
     },
     "execution_count": 10,
     "metadata": {},
     "output_type": "execute_result"
    }
   ],
   "source": [
    "pd.DataFrame(results[0].iloc[0]['details']['details'])"
   ]
  },
  {
   "cell_type": "code",
   "execution_count": 11,
   "id": "ba2c7340430e1235",
   "metadata": {
    "ExecuteTime": {
     "end_time": "2025-08-31T23:19:42.466554Z",
     "start_time": "2025-08-31T23:19:42.441205Z"
    }
   },
   "outputs": [
    {
     "data": {
      "text/html": [
       "<div>\n",
       "<style scoped>\n",
       "    .dataframe tbody tr th:only-of-type {\n",
       "        vertical-align: middle;\n",
       "    }\n",
       "\n",
       "    .dataframe tbody tr th {\n",
       "        vertical-align: top;\n",
       "    }\n",
       "\n",
       "    .dataframe thead th {\n",
       "        text-align: right;\n",
       "    }\n",
       "</style>\n",
       "<table border=\"1\" class=\"dataframe\">\n",
       "  <thead>\n",
       "    <tr style=\"text-align: right;\">\n",
       "      <th></th>\n",
       "      <th>Cod_Setor</th>\n",
       "      <th>2010_VD1</th>\n",
       "      <th>2010_VD2</th>\n",
       "      <th>2010_VD3</th>\n",
       "      <th>2010_VD4</th>\n",
       "      <th>2010_VE1</th>\n",
       "      <th>2010_VE2</th>\n",
       "      <th>2010_VE3</th>\n",
       "      <th>2010_VED1</th>\n",
       "      <th>2010_VED2</th>\n",
       "      <th>2010_VH1</th>\n",
       "      <th>2010_VH2</th>\n",
       "      <th>2010_VH3</th>\n",
       "      <th>2010_VH4</th>\n",
       "      <th>2010_VH5</th>\n",
       "      <th>VA4_2010</th>\n",
       "      <th>RendaMedia</th>\n",
       "    </tr>\n",
       "  </thead>\n",
       "  <tbody>\n",
       "    <tr>\n",
       "      <th>0</th>\n",
       "      <td>411520005010001</td>\n",
       "      <td>0.723636</td>\n",
       "      <td>0.923523</td>\n",
       "      <td>0.568170</td>\n",
       "      <td>0.774691</td>\n",
       "      <td>0.836859</td>\n",
       "      <td>0.153226</td>\n",
       "      <td>0.888877</td>\n",
       "      <td>1.000000</td>\n",
       "      <td>0.9856</td>\n",
       "      <td>1.000000</td>\n",
       "      <td>0.024468</td>\n",
       "      <td>1.0000</td>\n",
       "      <td>1.000000</td>\n",
       "      <td>0.572691</td>\n",
       "      <td>0.190181</td>\n",
       "      <td>4800.240000</td>\n",
       "    </tr>\n",
       "    <tr>\n",
       "      <th>1</th>\n",
       "      <td>411520005010002</td>\n",
       "      <td>0.669091</td>\n",
       "      <td>0.947785</td>\n",
       "      <td>0.659827</td>\n",
       "      <td>0.805556</td>\n",
       "      <td>0.910891</td>\n",
       "      <td>0.291475</td>\n",
       "      <td>0.891996</td>\n",
       "      <td>1.000000</td>\n",
       "      <td>0.9868</td>\n",
       "      <td>1.000000</td>\n",
       "      <td>0.257003</td>\n",
       "      <td>1.0000</td>\n",
       "      <td>0.588340</td>\n",
       "      <td>0.550909</td>\n",
       "      <td>0.060300</td>\n",
       "      <td>5965.110000</td>\n",
       "    </tr>\n",
       "    <tr>\n",
       "      <th>2</th>\n",
       "      <td>411520005010003</td>\n",
       "      <td>0.607273</td>\n",
       "      <td>0.948840</td>\n",
       "      <td>0.617171</td>\n",
       "      <td>0.811728</td>\n",
       "      <td>0.877588</td>\n",
       "      <td>0.387865</td>\n",
       "      <td>0.936590</td>\n",
       "      <td>1.000000</td>\n",
       "      <td>0.9688</td>\n",
       "      <td>1.000000</td>\n",
       "      <td>0.239116</td>\n",
       "      <td>1.0000</td>\n",
       "      <td>0.833664</td>\n",
       "      <td>0.645631</td>\n",
       "      <td>0.009710</td>\n",
       "      <td>4789.690000</td>\n",
       "    </tr>\n",
       "    <tr>\n",
       "      <th>3</th>\n",
       "      <td>411520005010004</td>\n",
       "      <td>0.567273</td>\n",
       "      <td>0.962553</td>\n",
       "      <td>0.571139</td>\n",
       "      <td>0.753086</td>\n",
       "      <td>0.928218</td>\n",
       "      <td>0.599078</td>\n",
       "      <td>0.910499</td>\n",
       "      <td>0.722431</td>\n",
       "      <td>0.9716</td>\n",
       "      <td>1.000000</td>\n",
       "      <td>0.107661</td>\n",
       "      <td>1.0000</td>\n",
       "      <td>0.070003</td>\n",
       "      <td>0.692930</td>\n",
       "      <td>0.148177</td>\n",
       "      <td>8623.780000</td>\n",
       "    </tr>\n",
       "    <tr>\n",
       "      <th>4</th>\n",
       "      <td>411520005010005</td>\n",
       "      <td>0.534545</td>\n",
       "      <td>0.979430</td>\n",
       "      <td>0.689390</td>\n",
       "      <td>0.780864</td>\n",
       "      <td>0.920567</td>\n",
       "      <td>0.361367</td>\n",
       "      <td>0.966112</td>\n",
       "      <td>1.000000</td>\n",
       "      <td>0.9844</td>\n",
       "      <td>1.000000</td>\n",
       "      <td>0.086061</td>\n",
       "      <td>0.9961</td>\n",
       "      <td>0.201024</td>\n",
       "      <td>0.700398</td>\n",
       "      <td>0.161849</td>\n",
       "      <td>8165.580000</td>\n",
       "    </tr>\n",
       "    <tr>\n",
       "      <th>...</th>\n",
       "      <td>...</td>\n",
       "      <td>...</td>\n",
       "      <td>...</td>\n",
       "      <td>...</td>\n",
       "      <td>...</td>\n",
       "      <td>...</td>\n",
       "      <td>...</td>\n",
       "      <td>...</td>\n",
       "      <td>...</td>\n",
       "      <td>...</td>\n",
       "      <td>...</td>\n",
       "      <td>...</td>\n",
       "      <td>...</td>\n",
       "      <td>...</td>\n",
       "      <td>...</td>\n",
       "      <td>...</td>\n",
       "      <td>...</td>\n",
       "    </tr>\n",
       "    <tr>\n",
       "      <th>478</th>\n",
       "      <td>412625605000066</td>\n",
       "      <td>0.352727</td>\n",
       "      <td>0.974684</td>\n",
       "      <td>0.641199</td>\n",
       "      <td>0.608025</td>\n",
       "      <td>0.853285</td>\n",
       "      <td>0.009217</td>\n",
       "      <td>0.331393</td>\n",
       "      <td>0.929482</td>\n",
       "      <td>0.7972</td>\n",
       "      <td>1.000000</td>\n",
       "      <td>0.004050</td>\n",
       "      <td>0.0338</td>\n",
       "      <td>1.000000</td>\n",
       "      <td>0.646378</td>\n",
       "      <td>0.462668</td>\n",
       "      <td>0.576274</td>\n",
       "    </tr>\n",
       "    <tr>\n",
       "      <th>479</th>\n",
       "      <td>412625605000067</td>\n",
       "      <td>0.367273</td>\n",
       "      <td>0.952532</td>\n",
       "      <td>0.595437</td>\n",
       "      <td>0.595679</td>\n",
       "      <td>0.872412</td>\n",
       "      <td>0.000000</td>\n",
       "      <td>0.319647</td>\n",
       "      <td>0.760690</td>\n",
       "      <td>0.7136</td>\n",
       "      <td>1.000000</td>\n",
       "      <td>0.000000</td>\n",
       "      <td>0.0657</td>\n",
       "      <td>0.990597</td>\n",
       "      <td>0.706497</td>\n",
       "      <td>0.691973</td>\n",
       "      <td>0.575469</td>\n",
       "    </tr>\n",
       "    <tr>\n",
       "      <th>480</th>\n",
       "      <td>412625605000068</td>\n",
       "      <td>0.360000</td>\n",
       "      <td>0.946730</td>\n",
       "      <td>0.529968</td>\n",
       "      <td>0.574074</td>\n",
       "      <td>0.640414</td>\n",
       "      <td>0.003840</td>\n",
       "      <td>0.385759</td>\n",
       "      <td>0.888972</td>\n",
       "      <td>0.6440</td>\n",
       "      <td>0.994001</td>\n",
       "      <td>0.001687</td>\n",
       "      <td>0.0314</td>\n",
       "      <td>0.980984</td>\n",
       "      <td>0.704630</td>\n",
       "      <td>0.477806</td>\n",
       "      <td>0.544284</td>\n",
       "    </tr>\n",
       "    <tr>\n",
       "      <th>481</th>\n",
       "      <td>412625605000069</td>\n",
       "      <td>0.320000</td>\n",
       "      <td>0.621308</td>\n",
       "      <td>0.437635</td>\n",
       "      <td>0.293210</td>\n",
       "      <td>0.333933</td>\n",
       "      <td>0.000000</td>\n",
       "      <td>0.442100</td>\n",
       "      <td>0.882221</td>\n",
       "      <td>0.6436</td>\n",
       "      <td>0.982603</td>\n",
       "      <td>0.000000</td>\n",
       "      <td>0.0144</td>\n",
       "      <td>1.000000</td>\n",
       "      <td>0.686706</td>\n",
       "      <td>0.472028</td>\n",
       "      <td>0.475316</td>\n",
       "    </tr>\n",
       "    <tr>\n",
       "      <th>482</th>\n",
       "      <td>412625605000070</td>\n",
       "      <td>0.352727</td>\n",
       "      <td>0.938819</td>\n",
       "      <td>0.361096</td>\n",
       "      <td>0.311728</td>\n",
       "      <td>0.858686</td>\n",
       "      <td>0.008833</td>\n",
       "      <td>0.190956</td>\n",
       "      <td>0.821455</td>\n",
       "      <td>0.4140</td>\n",
       "      <td>1.000000</td>\n",
       "      <td>0.003881</td>\n",
       "      <td>0.0442</td>\n",
       "      <td>1.000000</td>\n",
       "      <td>0.669654</td>\n",
       "      <td>0.710249</td>\n",
       "      <td>0.512419</td>\n",
       "    </tr>\n",
       "  </tbody>\n",
       "</table>\n",
       "<p>483 rows × 17 columns</p>\n",
       "</div>"
      ],
      "text/plain": [
       "           Cod_Setor  2010_VD1  2010_VD2  2010_VD3  2010_VD4  2010_VE1  \\\n",
       "0    411520005010001  0.723636  0.923523  0.568170  0.774691  0.836859   \n",
       "1    411520005010002  0.669091  0.947785  0.659827  0.805556  0.910891   \n",
       "2    411520005010003  0.607273  0.948840  0.617171  0.811728  0.877588   \n",
       "3    411520005010004  0.567273  0.962553  0.571139  0.753086  0.928218   \n",
       "4    411520005010005  0.534545  0.979430  0.689390  0.780864  0.920567   \n",
       "..               ...       ...       ...       ...       ...       ...   \n",
       "478  412625605000066  0.352727  0.974684  0.641199  0.608025  0.853285   \n",
       "479  412625605000067  0.367273  0.952532  0.595437  0.595679  0.872412   \n",
       "480  412625605000068  0.360000  0.946730  0.529968  0.574074  0.640414   \n",
       "481  412625605000069  0.320000  0.621308  0.437635  0.293210  0.333933   \n",
       "482  412625605000070  0.352727  0.938819  0.361096  0.311728  0.858686   \n",
       "\n",
       "     2010_VE2  2010_VE3  2010_VED1  2010_VED2  2010_VH1  2010_VH2  2010_VH3  \\\n",
       "0    0.153226  0.888877   1.000000     0.9856  1.000000  0.024468    1.0000   \n",
       "1    0.291475  0.891996   1.000000     0.9868  1.000000  0.257003    1.0000   \n",
       "2    0.387865  0.936590   1.000000     0.9688  1.000000  0.239116    1.0000   \n",
       "3    0.599078  0.910499   0.722431     0.9716  1.000000  0.107661    1.0000   \n",
       "4    0.361367  0.966112   1.000000     0.9844  1.000000  0.086061    0.9961   \n",
       "..        ...       ...        ...        ...       ...       ...       ...   \n",
       "478  0.009217  0.331393   0.929482     0.7972  1.000000  0.004050    0.0338   \n",
       "479  0.000000  0.319647   0.760690     0.7136  1.000000  0.000000    0.0657   \n",
       "480  0.003840  0.385759   0.888972     0.6440  0.994001  0.001687    0.0314   \n",
       "481  0.000000  0.442100   0.882221     0.6436  0.982603  0.000000    0.0144   \n",
       "482  0.008833  0.190956   0.821455     0.4140  1.000000  0.003881    0.0442   \n",
       "\n",
       "     2010_VH4  2010_VH5  VA4_2010   RendaMedia  \n",
       "0    1.000000  0.572691  0.190181  4800.240000  \n",
       "1    0.588340  0.550909  0.060300  5965.110000  \n",
       "2    0.833664  0.645631  0.009710  4789.690000  \n",
       "3    0.070003  0.692930  0.148177  8623.780000  \n",
       "4    0.201024  0.700398  0.161849  8165.580000  \n",
       "..        ...       ...       ...          ...  \n",
       "478  1.000000  0.646378  0.462668     0.576274  \n",
       "479  0.990597  0.706497  0.691973     0.575469  \n",
       "480  0.980984  0.704630  0.477806     0.544284  \n",
       "481  1.000000  0.686706  0.472028     0.475316  \n",
       "482  1.000000  0.669654  0.710249     0.512419  \n",
       "\n",
       "[483 rows x 17 columns]"
      ]
     },
     "execution_count": 11,
     "metadata": {},
     "output_type": "execute_result"
    }
   ],
   "source": [
    "df_original"
   ]
  }
 ],
 "metadata": {
  "kernelspec": {
   "display_name": "Python 3",
   "language": "python",
   "name": "python3"
  },
  "language_info": {
   "codemirror_mode": {
    "name": "ipython",
    "version": 2
   },
   "file_extension": ".py",
   "mimetype": "text/x-python",
   "name": "python",
   "nbconvert_exporter": "python",
   "pygments_lexer": "ipython2",
   "version": "2.7.6"
  }
 },
 "nbformat": 4,
 "nbformat_minor": 5
}
