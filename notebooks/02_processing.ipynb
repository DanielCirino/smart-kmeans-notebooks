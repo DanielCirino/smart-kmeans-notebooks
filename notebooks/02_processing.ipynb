{
 "cells": [
  {
   "metadata": {},
   "cell_type": "markdown",
   "source": "Este notebook realiza a limpeza e o pré-processamento dos dados para cada dataset listado no arquivo de configuração. Ele remove colunas desnecessárias, lida com valores ausentes, e salva o DataFrame limpo em um formato eficiente na pasta de dados processados.",
   "id": "ecde4b1352a3cf0d"
  },
  {
   "metadata": {},
   "cell_type": "markdown",
   "source": "### Configuração e Importação de Bibliotecas",
   "id": "6b1a570c1c2764c1"
  },
  {
   "metadata": {
    "ExecuteTime": {
     "end_time": "2025-08-31T23:21:02.887824Z",
     "start_time": "2025-08-31T23:21:02.853897Z"
    }
   },
   "cell_type": "code",
   "source": "%run ../src/settings.py",
   "id": "d44d9badcaa1dee2",
   "outputs": [],
   "execution_count": 1
  },
  {
   "metadata": {
    "ExecuteTime": {
     "end_time": "2025-08-31T23:21:05.523844Z",
     "start_time": "2025-08-31T23:21:05.223892Z"
    }
   },
   "cell_type": "code",
   "source": [
    "import pandas as pd\n",
    "from src.settings import load_config\n",
    "from src.data_processing import load_raw_data, prepare_data, \\\n",
    "  save_processed_data"
   ],
   "id": "412864b8b67dfe5b",
   "outputs": [],
   "execution_count": 2
  },
  {
   "metadata": {
    "collapsed": true,
    "ExecuteTime": {
     "end_time": "2025-08-31T23:21:37.537419Z",
     "start_time": "2025-08-31T23:21:37.527606Z"
    }
   },
   "cell_type": "code",
   "source": [
    "config = load_config()\n",
    "\n",
    "# Define os parâmetros de processamento a partir do config\n",
    "raw_data_path = config['data']['raw_path']\n",
    "processed_data_path = config['data']['processed_path']\n",
    "cols_to_drop = [\"RendaMedia\"]\n",
    "id_column = \"Cod_Setor\""
   ],
   "id": "44f6198ac404b0b",
   "outputs": [],
   "execution_count": 3
  },
  {
   "metadata": {},
   "cell_type": "code",
   "source": [
    "processing_results = []\n",
    "\n",
    "for file_name in config['datasets']:\n",
    "  try:\n",
    "    # Carrega os dados brutos\n",
    "    df_raw = load_raw_data(filename=file_name, data_path=raw_data_path)\n",
    "\n",
    "    # Prepara os dados (limpeza e seleção de features)\n",
    "    df_processed = prepare_data(df_raw, cols_to_drop=cols_to_drop)\n",
    "\n",
    "    # Define o nome do arquivo de saída\n",
    "    output_file_name = f\"{file_name.split('.')[0]}.parquet\"\n",
    "\n",
    "    # Salva o resultado\n",
    "    res = save_processed_data(df_processed, filename=output_file_name,\n",
    "                              data_path=processed_data_path)\n",
    "\n",
    "    processing_results.append(\n",
    "      {'file_name': file_name,\n",
    "       'file_processed': res,\n",
    "       'total_rows': len(df_processed),\n",
    "       'status': 'success',\n",
    "       'error': None\n",
    "       }\n",
    "    )\n",
    "\n",
    "\n",
    "  except (FileNotFoundError, ValueError) as e:\n",
    "    processing_results.append(\n",
    "      {'file_name': file_name,\n",
    "       'file_processed': None,\n",
    "       'total_rows': None,\n",
    "       'status': 'error',\n",
    "       'error': e}\n",
    "    )\n",
    "    continue\n",
    "\n",
    "pd.DataFrame(processing_results)"
   ],
   "id": "681e2c7fa30ae681",
   "outputs": [],
   "execution_count": null
  }
 ],
 "metadata": {
  "kernelspec": {
   "display_name": "Python 3",
   "language": "python",
   "name": "python3"
  },
  "language_info": {
   "codemirror_mode": {
    "name": "ipython",
    "version": 2
   },
   "file_extension": ".py",
   "mimetype": "text/x-python",
   "name": "python",
   "nbconvert_exporter": "python",
   "pygments_lexer": "ipython2",
   "version": "2.7.6"
  }
 },
 "nbformat": 4,
 "nbformat_minor": 5
}
